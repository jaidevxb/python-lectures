{
 "cells": [
  {
   "cell_type": "markdown",
   "id": "2a3cb2f7-11cc-455d-9054-ea2bed9daec1",
   "metadata": {},
   "source": [
    "Handling Exceptions"
   ]
  },
  {
   "cell_type": "code",
   "execution_count": 68,
   "id": "47a977a1-e603-40d3-8f2f-8966d530e457",
   "metadata": {},
   "outputs": [
    {
     "name": "stdout",
     "output_type": "stream",
     "text": [
      "30\n",
      "30\n"
     ]
    }
   ],
   "source": [
    "def sum_digits(s):\n",
    "    \"\"\"\n",
    "    Input s is a non-empty string containing digits\n",
    "    Returns sum of all characters in s that are digits\n",
    "    \"\"\"\n",
    "    tot = 0\n",
    "    for char in s:\n",
    "        if char in '0123456789': # without if -> valueError\n",
    "            tot += int(char)\n",
    "    return tot\n",
    "\n",
    "print(sum_digits(\"12345602151\"))\n",
    "print(sum_digits(\"12345602151abc\"))"
   ]
  },
  {
   "cell_type": "code",
   "execution_count": 69,
   "id": "687f377d-2d1f-4235-a80e-1e7af4ce2448",
   "metadata": {},
   "outputs": [
    {
     "name": "stdout",
     "output_type": "stream",
     "text": [
      "Can't Convert a\n",
      "Can't Convert b\n",
      "Can't Convert c\n",
      "30\n"
     ]
    }
   ],
   "source": [
    "# using try... except\n",
    "def sum_digits(s):\n",
    "    \"\"\"\n",
    "    Input s is a non-empty string containing digits\n",
    "    Returns sum of all characters in s that are digits\n",
    "    \"\"\"\n",
    "    tot = 0\n",
    "    for char in s:\n",
    "        try:\n",
    "            tot += int(char)\n",
    "        except:\n",
    "            print(\"Can't Convert\", char)\n",
    "    return tot\n",
    "\n",
    "# print(sum_digits(\"12345602151\"))\n",
    "print(sum_digits(\"12345602151abc\"))"
   ]
  },
  {
   "cell_type": "code",
   "execution_count": 70,
   "id": "def4a4ce-21f2-4a1f-ba0c-3c8897d3ab74",
   "metadata": {},
   "outputs": [
    {
     "name": "stdin",
     "output_type": "stream",
     "text": [
      "Enter a number : 10\n",
      "Enter another number : five\n"
     ]
    },
    {
     "ename": "ValueError",
     "evalue": "invalid literal for int() with base 10: 'five'",
     "output_type": "error",
     "traceback": [
      "\u001b[1;31m---------------------------------------------------------------------------\u001b[0m",
      "\u001b[1;31mValueError\u001b[0m                                Traceback (most recent call last)",
      "Cell \u001b[1;32mIn[70], line 2\u001b[0m\n\u001b[0;32m      1\u001b[0m a \u001b[38;5;241m=\u001b[39m \u001b[38;5;28mint\u001b[39m(\u001b[38;5;28minput\u001b[39m(\u001b[38;5;124m\"\u001b[39m\u001b[38;5;124mEnter a number :\u001b[39m\u001b[38;5;124m\"\u001b[39m))\n\u001b[1;32m----> 2\u001b[0m b \u001b[38;5;241m=\u001b[39m \u001b[38;5;28;43mint\u001b[39;49m\u001b[43m(\u001b[49m\u001b[38;5;28;43minput\u001b[39;49m\u001b[43m(\u001b[49m\u001b[38;5;124;43m\"\u001b[39;49m\u001b[38;5;124;43mEnter another number :\u001b[39;49m\u001b[38;5;124;43m\"\u001b[39;49m\u001b[43m)\u001b[49m\u001b[43m)\u001b[49m\n\u001b[0;32m      3\u001b[0m \u001b[38;5;28mprint\u001b[39m(a\u001b[38;5;241m/\u001b[39mb)\n",
      "\u001b[1;31mValueError\u001b[0m: invalid literal for int() with base 10: 'five'"
     ]
    }
   ],
   "source": [
    "a = int(input(\"Enter a number :\"))\n",
    "b = int(input(\"Enter another number :\"))\n",
    "print(a/b)"
   ]
  },
  {
   "cell_type": "code",
   "execution_count": 71,
   "id": "bc2050c7-bed3-4836-829f-0b1195ef67b9",
   "metadata": {},
   "outputs": [
    {
     "name": "stdin",
     "output_type": "stream",
     "text": [
      "Enter a number : 10\n",
      "Enter another number : five\n"
     ]
    },
    {
     "name": "stdout",
     "output_type": "stream",
     "text": [
      "There's a bug in input\n"
     ]
    }
   ],
   "source": [
    "try:\n",
    "    a = int(input(\"Enter a number :\"))\n",
    "    b = int(input(\"Enter another number :\"))\n",
    "    print(a/b)\n",
    "except:\n",
    "    print(\"There's a bug in input\")"
   ]
  },
  {
   "cell_type": "code",
   "execution_count": 32,
   "id": "95019dda-0f01-4c33-9ce2-719f73d83396",
   "metadata": {},
   "outputs": [
    {
     "name": "stdin",
     "output_type": "stream",
     "text": [
      "Enter a number : 10\n",
      "Enter another number : 5\n"
     ]
    },
    {
     "name": "stdout",
     "output_type": "stream",
     "text": [
      "a / b =  2.0\n",
      "a + b =  15\n"
     ]
    },
    {
     "name": "stdin",
     "output_type": "stream",
     "text": [
      "Enter a number : 10\n",
      "Enter another number : 0\n"
     ]
    },
    {
     "name": "stdout",
     "output_type": "stream",
     "text": [
      "Cant divide by zero\n",
      "a / b = Infinity\n",
      "a + b =  10\n"
     ]
    },
    {
     "name": "stdin",
     "output_type": "stream",
     "text": [
      "Enter a number : five\n"
     ]
    },
    {
     "name": "stdout",
     "output_type": "stream",
     "text": [
      "Could not convert to number\n"
     ]
    }
   ],
   "source": [
    "def errors():\n",
    "    try:\n",
    "        a = int(input(\"Enter a number :\"))\n",
    "        b = int(input(\"Enter another number :\"))\n",
    "        print(\"a / b = \",a/b)\n",
    "        print(\"a + b = \",a+b)\n",
    "    except ValueError:\n",
    "        print(\"Could not convert to number\")\n",
    "    except ZeroDivisionError:\n",
    "        print(\"Cant divide by zero\")\n",
    "        print(\"a / b = Infinity\")\n",
    "        print(\"a + b = \",a+b)\n",
    "    except:\n",
    "        print(\"Something went really wrong\")\n",
    "\n",
    "errors()\n",
    "errors()\n",
    "errors()"
   ]
  },
  {
   "cell_type": "code",
   "execution_count": 40,
   "id": "3a9bb5d0-ba34-4d0c-b511-da2e86a42783",
   "metadata": {},
   "outputs": [
    {
     "name": "stdin",
     "output_type": "stream",
     "text": [
      "Enter a number : 10\n",
      "Enter another number : 2\n"
     ]
    },
    {
     "name": "stdout",
     "output_type": "stream",
     "text": [
      "5.0\n",
      "else\n"
     ]
    }
   ],
   "source": [
    "# other blocks\n",
    "try:\n",
    "    a = int(input(\"Enter a number :\"))\n",
    "    b = int(input(\"Enter another number :\"))\n",
    "    print(a/b)\n",
    "except:\n",
    "    print(\"There's a bug in input\")\n",
    "else: # works if try block is completely executed\n",
    "    print(\"else\")\n",
    "  \n",
    "# finally:\n",
    "    # this block executes always no matter what happens in try, except, else blocks\n"
   ]
  },
  {
   "cell_type": "code",
   "execution_count": 43,
   "id": "ef4902d7-5a7f-4758-832b-09055ca09a40",
   "metadata": {},
   "outputs": [
    {
     "ename": "ValueError",
     "evalue": "s contained a character",
     "output_type": "error",
     "traceback": [
      "\u001b[1;31m---------------------------------------------------------------------------\u001b[0m",
      "\u001b[1;31mValueError\u001b[0m                                Traceback (most recent call last)",
      "Cell \u001b[1;32mIn[43], line 5\u001b[0m, in \u001b[0;36msum_digits\u001b[1;34m(s)\u001b[0m\n\u001b[0;32m      4\u001b[0m \u001b[38;5;28;01mtry\u001b[39;00m:\n\u001b[1;32m----> 5\u001b[0m     tot \u001b[38;5;241m+\u001b[39m\u001b[38;5;241m=\u001b[39m \u001b[38;5;28;43mint\u001b[39;49m\u001b[43m(\u001b[49m\u001b[43mchar\u001b[49m\u001b[43m)\u001b[49m\n\u001b[0;32m      6\u001b[0m \u001b[38;5;28;01mexcept\u001b[39;00m:\n",
      "\u001b[1;31mValueError\u001b[0m: invalid literal for int() with base 10: 'a'",
      "\nDuring handling of the above exception, another exception occurred:\n",
      "\u001b[1;31mValueError\u001b[0m                                Traceback (most recent call last)",
      "Cell \u001b[1;32mIn[43], line 11\u001b[0m\n\u001b[0;32m      8\u001b[0m     \u001b[38;5;28;01mreturn\u001b[39;00m tot\n\u001b[0;32m     10\u001b[0m \u001b[38;5;66;03m# print(sum_digits(\"12345602151\"))\u001b[39;00m\n\u001b[1;32m---> 11\u001b[0m \u001b[38;5;28mprint\u001b[39m(\u001b[43msum_digits\u001b[49m\u001b[43m(\u001b[49m\u001b[38;5;124;43m\"\u001b[39;49m\u001b[38;5;124;43m12345602151abc\u001b[39;49m\u001b[38;5;124;43m\"\u001b[39;49m\u001b[43m)\u001b[49m)\n",
      "Cell \u001b[1;32mIn[43], line 7\u001b[0m, in \u001b[0;36msum_digits\u001b[1;34m(s)\u001b[0m\n\u001b[0;32m      5\u001b[0m         tot \u001b[38;5;241m+\u001b[39m\u001b[38;5;241m=\u001b[39m \u001b[38;5;28mint\u001b[39m(char)\n\u001b[0;32m      6\u001b[0m     \u001b[38;5;28;01mexcept\u001b[39;00m:\n\u001b[1;32m----> 7\u001b[0m         \u001b[38;5;28;01mraise\u001b[39;00m \u001b[38;5;167;01mValueError\u001b[39;00m(\u001b[38;5;124m\"\u001b[39m\u001b[38;5;124ms contained a character\u001b[39m\u001b[38;5;124m\"\u001b[39m) \u001b[38;5;66;03m# raise error with custom message\u001b[39;00m\n\u001b[0;32m      8\u001b[0m \u001b[38;5;28;01mreturn\u001b[39;00m tot\n",
      "\u001b[1;31mValueError\u001b[0m: s contained a character"
     ]
    }
   ],
   "source": [
    "def sum_digits(s):\n",
    "    tot = 0\n",
    "    for char in s:\n",
    "        try:\n",
    "            tot += int(char)\n",
    "        except:\n",
    "            raise ValueError(\"s contained a character\") # raise error with custom message\n",
    "    return tot\n",
    "\n",
    "# print(sum_digits(\"12345602151\"))\n",
    "print(sum_digits(\"12345602151abc\"))"
   ]
  },
  {
   "cell_type": "code",
   "execution_count": 50,
   "id": "8cd7736f-567f-446b-8f9b-b55d0cdbb9b7",
   "metadata": {},
   "outputs": [
    {
     "name": "stdout",
     "output_type": "stream",
     "text": [
      "[4.0, 2.5, 2.0]\n"
     ]
    },
    {
     "ename": "ValueError",
     "evalue": "Ldenom contains zero",
     "output_type": "error",
     "traceback": [
      "\u001b[1;31m---------------------------------------------------------------------------\u001b[0m",
      "\u001b[1;31mValueError\u001b[0m                                Traceback (most recent call last)",
      "Cell \u001b[1;32mIn[50], line 19\u001b[0m\n\u001b[0;32m     17\u001b[0m L3 \u001b[38;5;241m=\u001b[39m [\u001b[38;5;241m4\u001b[39m, \u001b[38;5;241m5\u001b[39m, \u001b[38;5;241m6\u001b[39m]\n\u001b[0;32m     18\u001b[0m L4 \u001b[38;5;241m=\u001b[39m [\u001b[38;5;241m1\u001b[39m, \u001b[38;5;241m0\u001b[39m, \u001b[38;5;241m3\u001b[39m]\n\u001b[1;32m---> 19\u001b[0m \u001b[38;5;28mprint\u001b[39m(\u001b[43mpairwise_div\u001b[49m\u001b[43m(\u001b[49m\u001b[43mL3\u001b[49m\u001b[43m,\u001b[49m\u001b[43m \u001b[49m\u001b[43mL4\u001b[49m\u001b[43m)\u001b[49m)\n",
      "Cell \u001b[1;32mIn[50], line 9\u001b[0m, in \u001b[0;36mpairwise_div\u001b[1;34m(Lnum, Ldenom)\u001b[0m\n\u001b[0;32m      7\u001b[0m \u001b[38;5;66;03m#   result = [Lnum[i]/Ldenom[i] for i in range(len(Lnum))]\u001b[39;00m\n\u001b[0;32m      8\u001b[0m     \u001b[38;5;28;01mif\u001b[39;00m \u001b[38;5;241m0\u001b[39m \u001b[38;5;129;01min\u001b[39;00m Ldenom:\n\u001b[1;32m----> 9\u001b[0m         \u001b[38;5;28;01mraise\u001b[39;00m \u001b[38;5;167;01mValueError\u001b[39;00m(\u001b[38;5;124m\"\u001b[39m\u001b[38;5;124mLdenom contains zero\u001b[39m\u001b[38;5;124m\"\u001b[39m)\n\u001b[0;32m     10\u001b[0m     \u001b[38;5;28;01mfor\u001b[39;00m i \u001b[38;5;129;01min\u001b[39;00m \u001b[38;5;28mrange\u001b[39m(\u001b[38;5;28mlen\u001b[39m(Lnum)):\n\u001b[0;32m     11\u001b[0m         result\u001b[38;5;241m.\u001b[39mappend(Lnum[i] \u001b[38;5;241m/\u001b[39m Ldenom[i])\n",
      "\u001b[1;31mValueError\u001b[0m: Ldenom contains zero"
     ]
    }
   ],
   "source": [
    "def pairwise_div(Lnum, Ldenom):\n",
    "    \"\"\"\n",
    "    Inputs Lnum and Ldenom are non-empty lists of same length containing numbers\n",
    "    Returns new list whose elements are the pairwise divisions of Lnum and Ldenom\n",
    "    \"\"\"\n",
    "    result = []\n",
    "#   result = [Lnum[i]/Ldenom[i] for i in range(len(Lnum))]\n",
    "    if 0 in Ldenom:\n",
    "        raise ValueError(\"Ldenom contains zero\")\n",
    "    for i in range(len(Lnum)):\n",
    "        result.append(Lnum[i] / Ldenom[i])\n",
    "    return result\n",
    "\n",
    "L1 = [4, 5, 6]\n",
    "L2 = [1, 2, 3]\n",
    "print(pairwise_div(L1, L2))\n",
    "L3 = [4, 5, 6]\n",
    "L4 = [1, 0, 3]\n",
    "print(pairwise_div(L3, L4))"
   ]
  },
  {
   "cell_type": "markdown",
   "id": "2fdba7f7-19a8-478d-b809-bde7be4a6234",
   "metadata": {},
   "source": [
    "Assertion - Defensive programming tool"
   ]
  },
  {
   "cell_type": "code",
   "execution_count": 51,
   "id": "d3426c6e-9678-4b5a-b727-a618bc5cdc07",
   "metadata": {},
   "outputs": [],
   "source": [
    "# assert<statement that should be true>, \"message if not true\""
   ]
  },
  {
   "cell_type": "code",
   "execution_count": 56,
   "id": "5cd5a791-cb06-44f1-ad3f-cc7634e523ac",
   "metadata": {},
   "outputs": [
    {
     "name": "stdout",
     "output_type": "stream",
     "text": [
      "30\n"
     ]
    },
    {
     "ename": "AssertionError",
     "evalue": "s is empty",
     "output_type": "error",
     "traceback": [
      "\u001b[1;31m---------------------------------------------------------------------------\u001b[0m",
      "\u001b[1;31mAssertionError\u001b[0m                            Traceback (most recent call last)",
      "Cell \u001b[1;32mIn[56], line 13\u001b[0m\n\u001b[0;32m     11\u001b[0m \u001b[38;5;28mprint\u001b[39m(sum_digits(\u001b[38;5;124m\"\u001b[39m\u001b[38;5;124m12345602151\u001b[39m\u001b[38;5;124m\"\u001b[39m))\n\u001b[0;32m     12\u001b[0m \u001b[38;5;66;03m# print(sum_digits(\"12345602151abc\"))\u001b[39;00m\n\u001b[1;32m---> 13\u001b[0m \u001b[38;5;28mprint\u001b[39m(\u001b[43msum_digits\u001b[49m\u001b[43m(\u001b[49m\u001b[38;5;124;43m\"\u001b[39;49m\u001b[38;5;124;43m\"\u001b[39;49m\u001b[43m)\u001b[49m)\n",
      "Cell \u001b[1;32mIn[56], line 2\u001b[0m, in \u001b[0;36msum_digits\u001b[1;34m(s)\u001b[0m\n\u001b[0;32m      1\u001b[0m \u001b[38;5;28;01mdef\u001b[39;00m \u001b[38;5;21msum_digits\u001b[39m(s):\n\u001b[1;32m----> 2\u001b[0m     \u001b[38;5;28;01massert\u001b[39;00m \u001b[38;5;28mlen\u001b[39m(s) \u001b[38;5;241m!=\u001b[39m \u001b[38;5;241m0\u001b[39m, \u001b[38;5;124m\"\u001b[39m\u001b[38;5;124ms is empty\u001b[39m\u001b[38;5;124m\"\u001b[39m\n\u001b[0;32m      3\u001b[0m     tot \u001b[38;5;241m=\u001b[39m \u001b[38;5;241m0\u001b[39m\n\u001b[0;32m      4\u001b[0m     \u001b[38;5;28;01mfor\u001b[39;00m char \u001b[38;5;129;01min\u001b[39;00m s:\n",
      "\u001b[1;31mAssertionError\u001b[0m: s is empty"
     ]
    }
   ],
   "source": [
    "def sum_digits(s):\n",
    "    assert len(s) != 0, \"s is empty\"\n",
    "    tot = 0\n",
    "    for char in s:\n",
    "        try:\n",
    "            tot += int(char)\n",
    "        except:\n",
    "            raise ValueError(\"s contained a character\") # raise error with custom message\n",
    "    return tot\n",
    "\n",
    "print(sum_digits(\"12345602151\"))\n",
    "# print(sum_digits(\"12345602151abc\"))\n",
    "print(sum_digits(\"\"))"
   ]
  },
  {
   "cell_type": "code",
   "execution_count": 61,
   "id": "b9131cc6-2967-497f-a96d-1f288c630577",
   "metadata": {},
   "outputs": [
    {
     "ename": "AssertionError",
     "evalue": "lengths differ",
     "output_type": "error",
     "traceback": [
      "\u001b[1;31m---------------------------------------------------------------------------\u001b[0m",
      "\u001b[1;31mAssertionError\u001b[0m                            Traceback (most recent call last)",
      "Cell \u001b[1;32mIn[61], line 14\u001b[0m\n\u001b[0;32m     12\u001b[0m L1 \u001b[38;5;241m=\u001b[39m [\u001b[38;5;241m4\u001b[39m, \u001b[38;5;241m5\u001b[39m, \u001b[38;5;241m6\u001b[39m]\n\u001b[0;32m     13\u001b[0m L2 \u001b[38;5;241m=\u001b[39m [\u001b[38;5;241m1\u001b[39m, \u001b[38;5;241m2\u001b[39m]\n\u001b[1;32m---> 14\u001b[0m \u001b[38;5;28mprint\u001b[39m(\u001b[43mpairwise_div\u001b[49m\u001b[43m(\u001b[49m\u001b[43mL1\u001b[49m\u001b[43m,\u001b[49m\u001b[43m \u001b[49m\u001b[43mL2\u001b[49m\u001b[43m)\u001b[49m)\n",
      "Cell \u001b[1;32mIn[61], line 6\u001b[0m, in \u001b[0;36mpairwise_div\u001b[1;34m(Lnum, Ldenom)\u001b[0m\n\u001b[0;32m      1\u001b[0m \u001b[38;5;28;01mdef\u001b[39;00m \u001b[38;5;21mpairwise_div\u001b[39m(Lnum, Ldenom):\n\u001b[0;32m      2\u001b[0m \u001b[38;5;250m    \u001b[39m\u001b[38;5;124;03m\"\"\"\u001b[39;00m\n\u001b[0;32m      3\u001b[0m \u001b[38;5;124;03m    Inputs Lnum and Ldenom are non-empty lists of same length containing numbers\u001b[39;00m\n\u001b[0;32m      4\u001b[0m \u001b[38;5;124;03m    Returns new list whose elements are the pairwise divisions of Lnum and Ldenom\u001b[39;00m\n\u001b[0;32m      5\u001b[0m \u001b[38;5;124;03m    \"\"\"\u001b[39;00m\n\u001b[1;32m----> 6\u001b[0m     \u001b[38;5;28;01massert\u001b[39;00m \u001b[38;5;28mlen\u001b[39m(Lnum) \u001b[38;5;241m==\u001b[39m \u001b[38;5;28mlen\u001b[39m(Ldenom), \u001b[38;5;124m\"\u001b[39m\u001b[38;5;124mlengths differ\u001b[39m\u001b[38;5;124m\"\u001b[39m\n\u001b[0;32m      7\u001b[0m     \u001b[38;5;28;01massert\u001b[39;00m \u001b[38;5;28mlen\u001b[39m(Lnum) \u001b[38;5;241m!=\u001b[39m \u001b[38;5;241m0\u001b[39m \u001b[38;5;129;01mand\u001b[39;00m \u001b[38;5;28mlen\u001b[39m(Ldenom) \u001b[38;5;241m!=\u001b[39m \u001b[38;5;241m0\u001b[39m, \u001b[38;5;124m\"\u001b[39m\u001b[38;5;124mempty list\u001b[39m\u001b[38;5;124m\"\u001b[39m\n\u001b[0;32m      8\u001b[0m     result \u001b[38;5;241m=\u001b[39m []\n",
      "\u001b[1;31mAssertionError\u001b[0m: lengths differ"
     ]
    }
   ],
   "source": [
    "def pairwise_div(Lnum, Ldenom):\n",
    "    \"\"\"\n",
    "    Inputs Lnum and Ldenom are non-empty lists of same length containing numbers\n",
    "    Returns new list whose elements are the pairwise divisions of Lnum and Ldenom\n",
    "    \"\"\"\n",
    "    assert len(Lnum) == len(Ldenom), \"lengths differ\"\n",
    "    assert len(Lnum) != 0 and len(Ldenom) != 0, \"empty list\"\n",
    "    result = []\n",
    "    result = [Lnum[i]/Ldenom[i] for i in range(len(Lnum))]\n",
    "    return result\n",
    "\n",
    "L1 = [4, 5, 6]\n",
    "L2 = [1, 2]\n",
    "print(pairwise_div(L1, L2))"
   ]
  },
  {
   "cell_type": "code",
   "execution_count": 67,
   "id": "5204dc2b-8709-404d-8780-b52bc21e9bf6",
   "metadata": {},
   "outputs": [
    {
     "name": "stdout",
     "output_type": "stream",
     "text": [
      "Warning No Grades Data!\n",
      "[[['peter', 'parker'], [10.0, 55.0, 85.0], 50.0], [['bruce', 'wayne'], [10.0, 80.0, 75.0], 55.0], [['captain', 'america'], [80.0, 10.0, 96.0], 62.0], [['deadpool'], [], 0.0]]\n"
     ]
    }
   ],
   "source": [
    "def avg(grades):\n",
    "    try:\n",
    "        return sum(grades) / len(grades)\n",
    "    except:\n",
    "        print(\"Warning No Grades Data!\")\n",
    "        return 0.0 # if no return then returns None\n",
    "def get_stats(class_list):\n",
    "    new_stats = []\n",
    "    for i in class_list:\n",
    "        new_stats.append([i[0], i[1], avg(i[1])])\n",
    "    return new_stats\n",
    "\n",
    "test_grades = [[['peter', 'parker'], [10.0, 55.0, 85.0]],\n",
    "               [['bruce', 'wayne'], [10.0, 80.0, 75.0]],\n",
    "               [['captain', 'america'], [80.0, 10.0, 96.0]],\n",
    "               [['deadpool'], []]]\n",
    "print(get_stats(test_grades))"
   ]
  },
  {
   "cell_type": "code",
   "execution_count": null,
   "id": "daa7835c-1d29-4f59-9f76-52ee688ea8ba",
   "metadata": {},
   "outputs": [],
   "source": []
  }
 ],
 "metadata": {
  "kernelspec": {
   "display_name": "Python 3 (ipykernel)",
   "language": "python",
   "name": "python3"
  },
  "language_info": {
   "codemirror_mode": {
    "name": "ipython",
    "version": 3
   },
   "file_extension": ".py",
   "mimetype": "text/x-python",
   "name": "python",
   "nbconvert_exporter": "python",
   "pygments_lexer": "ipython3",
   "version": "3.12.7"
  }
 },
 "nbformat": 4,
 "nbformat_minor": 5
}
