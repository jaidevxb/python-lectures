{
 "cells": [
  {
   "cell_type": "markdown",
   "id": "0169a4f3-58b3-4f5f-9be5-4d12a97fff3c",
   "metadata": {},
   "source": [
    "### Finger Exercise Lecture 13\n"
   ]
  },
  {
   "cell_type": "markdown",
   "id": "e320499e-3c3f-471c-b63e-c10cc02cbbbe",
   "metadata": {},
   "source": [
    "Implement the function that meets the specifications below:\n",
    "\n"
   ]
  },
  {
   "cell_type": "code",
   "execution_count": 10,
   "id": "f8e716f0-4563-417d-9f21-8a4b97aa3be1",
   "metadata": {},
   "outputs": [
    {
     "name": "stdout",
     "output_type": "stream",
     "text": [
      "7\n"
     ]
    },
    {
     "ename": "ValueError",
     "evalue": "",
     "output_type": "error",
     "traceback": [
      "\u001b[1;31m---------------------------------------------------------------------------\u001b[0m",
      "\u001b[1;31mValueError\u001b[0m                                Traceback (most recent call last)",
      "Cell \u001b[1;32mIn[10], line 29\u001b[0m\n\u001b[0;32m     27\u001b[0m \u001b[38;5;66;03m# Examples:\u001b[39;00m\n\u001b[0;32m     28\u001b[0m \u001b[38;5;28mprint\u001b[39m(sum_str_lengths([\u001b[38;5;124m\"\u001b[39m\u001b[38;5;124mabcd\u001b[39m\u001b[38;5;124m\"\u001b[39m, [\u001b[38;5;124m\"\u001b[39m\u001b[38;5;124me\u001b[39m\u001b[38;5;124m\"\u001b[39m, \u001b[38;5;124m\"\u001b[39m\u001b[38;5;124mfg\u001b[39m\u001b[38;5;124m\"\u001b[39m]]))  \u001b[38;5;66;03m# prints 7\u001b[39;00m\n\u001b[1;32m---> 29\u001b[0m \u001b[38;5;28mprint\u001b[39m(\u001b[43msum_str_lengths\u001b[49m\u001b[43m(\u001b[49m\u001b[43m[\u001b[49m\u001b[38;5;241;43m12\u001b[39;49m\u001b[43m,\u001b[49m\u001b[43m \u001b[49m\u001b[43m[\u001b[49m\u001b[38;5;124;43m\"\u001b[39;49m\u001b[38;5;124;43me\u001b[39;49m\u001b[38;5;124;43m\"\u001b[39;49m\u001b[43m,\u001b[49m\u001b[43m \u001b[49m\u001b[38;5;124;43m\"\u001b[39;49m\u001b[38;5;124;43mfg\u001b[39;49m\u001b[38;5;124;43m\"\u001b[39;49m\u001b[43m]\u001b[49m\u001b[43m]\u001b[49m\u001b[43m)\u001b[49m)      \u001b[38;5;66;03m# raises ValueError\u001b[39;00m\n\u001b[0;32m     30\u001b[0m \u001b[38;5;28mprint\u001b[39m(sum_str_lengths([\u001b[38;5;124m\"\u001b[39m\u001b[38;5;124mabcd\u001b[39m\u001b[38;5;124m\"\u001b[39m, [\u001b[38;5;241m3\u001b[39m, \u001b[38;5;124m\"\u001b[39m\u001b[38;5;124mfg\u001b[39m\u001b[38;5;124m\"\u001b[39m]]))    \u001b[38;5;66;03m# raises ValueError\u001b[39;00m\n",
      "Cell \u001b[1;32mIn[10], line 23\u001b[0m, in \u001b[0;36msum_str_lengths\u001b[1;34m(L)\u001b[0m\n\u001b[0;32m     21\u001b[0m                 \u001b[38;5;28;01mraise\u001b[39;00m \u001b[38;5;167;01mValueError\u001b[39;00m\n\u001b[0;32m     22\u001b[0m     \u001b[38;5;28;01melse\u001b[39;00m:\n\u001b[1;32m---> 23\u001b[0m         \u001b[38;5;28;01mraise\u001b[39;00m \u001b[38;5;167;01mValueError\u001b[39;00m\n\u001b[0;32m     24\u001b[0m \u001b[38;5;28;01mreturn\u001b[39;00m tot\n",
      "\u001b[1;31mValueError\u001b[0m: "
     ]
    }
   ],
   "source": [
    "def sum_str_lengths(L):\n",
    "    \"\"\"\n",
    "    L is a non-empty list containing either: \n",
    "    * string elements or \n",
    "    * a non-empty sublist of string elements\n",
    "    Returns the sum of the length of all strings in L and \n",
    "    lengths of strings in the sublists of L. If L contains an \n",
    "    element that is not a string or a list, or L's sublists \n",
    "    contain an element that is not a string, raise a ValueError.\n",
    "    \"\"\"\n",
    "    # Your code here \n",
    "    tot = 0\n",
    "    for i in L:\n",
    "        if type(i) == str:\n",
    "            tot += len(i)\n",
    "        elif type(i) == list:\n",
    "            for j in i:\n",
    "                if type(j) == str:\n",
    "                    tot += len(j)\n",
    "                else:\n",
    "                    raise ValueError\n",
    "        else:\n",
    "            raise ValueError\n",
    "    return tot\n",
    "            \n",
    "\n",
    "# Examples:\n",
    "print(sum_str_lengths([\"abcd\", [\"e\", \"fg\"]]))  # prints 7\n",
    "print(sum_str_lengths([12, [\"e\", \"fg\"]]))      # raises ValueError\n",
    "print(sum_str_lengths([\"abcd\", [3, \"fg\"]]))    # raises ValueError"
   ]
  },
  {
   "cell_type": "code",
   "execution_count": null,
   "id": "59edd1ab-cb7f-4ae7-af89-6964fd7efd1a",
   "metadata": {},
   "outputs": [],
   "source": []
  }
 ],
 "metadata": {
  "kernelspec": {
   "display_name": "Python 3 (ipykernel)",
   "language": "python",
   "name": "python3"
  },
  "language_info": {
   "codemirror_mode": {
    "name": "ipython",
    "version": 3
   },
   "file_extension": ".py",
   "mimetype": "text/x-python",
   "name": "python",
   "nbconvert_exporter": "python",
   "pygments_lexer": "ipython3",
   "version": "3.12.7"
  }
 },
 "nbformat": 4,
 "nbformat_minor": 5
}
