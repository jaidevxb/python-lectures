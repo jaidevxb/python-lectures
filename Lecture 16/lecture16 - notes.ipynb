{
 "cells": [
  {
   "cell_type": "code",
   "execution_count": 1,
   "id": "43fac95d-6012-4cbd-b5c8-1c6440b77a50",
   "metadata": {},
   "outputs": [
    {
     "name": "stdout",
     "output_type": "stream",
     "text": [
      "3\n"
     ]
    }
   ],
   "source": [
    "def fibo(x):\n",
    "    if x == 1 or x == 2:\n",
    "        return 1\n",
    "    return fibo(x-1) + fibo(x-2)\n",
    "\n",
    "print(fibo(4))"
   ]
  },
  {
   "cell_type": "code",
   "execution_count": 3,
   "id": "b17d0740-a668-459b-9d29-179e201a4baa",
   "metadata": {},
   "outputs": [
    {
     "name": "stdout",
     "output_type": "stream",
     "text": [
      "3\n"
     ]
    }
   ],
   "source": [
    "def fibo_eff(x, d):\n",
    "    if x in d:\n",
    "        return d[x]\n",
    "    else:\n",
    "        ans = fibo_eff(x-1, d) + fibo_eff(x-2, d)\n",
    "        d[x] = ans\n",
    "        return ans\n",
    "\n",
    "d = {1:1, 2:1}\n",
    "print(fibo_eff(4, d))"
   ]
  },
  {
   "cell_type": "code",
   "execution_count": 13,
   "id": "6a76c0e5-1f21-4559-b907-5ce696356bb7",
   "metadata": {},
   "outputs": [
    {
     "name": "stdout",
     "output_type": "stream",
     "text": [
      "24548655\n"
     ]
    }
   ],
   "source": [
    "def score_count(x):\n",
    "    \"\"\"\n",
    "    Returns all the ways to make a score of x by adding 1, 2 and 3 together \n",
    "    order doesn't matter\n",
    "    \"\"\"\n",
    "    if x == 1 or x == 2 or x == 3:\n",
    "        return x\n",
    "    else:\n",
    "        return score_count(x-1) + score_count(x-2) + score_count(x-3)\n",
    "\n",
    "print(score_count(29))"
   ]
  },
  {
   "cell_type": "code",
   "execution_count": 14,
   "id": "7351f7ed-b037-447d-a5cf-584ca396d979",
   "metadata": {},
   "outputs": [
    {
     "name": "stdout",
     "output_type": "stream",
     "text": [
      "24548655\n"
     ]
    }
   ],
   "source": [
    "def score_count_eff(x, d):\n",
    "    if x == 1 or x == 2 or x == 3:\n",
    "        return x\n",
    "    else:\n",
    "        ans = score_count_eff(x-1, d) + score_count_eff(x-2, d) + score_count_eff(x-3, d)\n",
    "        d[x] = ans\n",
    "        return ans\n",
    "\n",
    "d = {1:1, 2:2, 3:3}\n",
    "print(score_count_eff(29, d))"
   ]
  },
  {
   "cell_type": "code",
   "execution_count": 16,
   "id": "4ba00da6-4743-476c-83d6-f1e31c221bdf",
   "metadata": {},
   "outputs": [
    {
     "name": "stdout",
     "output_type": "stream",
     "text": [
      "60\n"
     ]
    }
   ],
   "source": [
    "# non numerics\n",
    "def tot(L):\n",
    "    result = 0\n",
    "    for e in L:\n",
    "        result += e\n",
    "    return result\n",
    "\n",
    "test = [10, 20, 30]\n",
    "print(tot(test))"
   ]
  },
  {
   "cell_type": "code",
   "execution_count": 18,
   "id": "1dadce76-7a08-44fa-975b-911380bdf1b0",
   "metadata": {},
   "outputs": [
    {
     "name": "stdout",
     "output_type": "stream",
     "text": [
      "60\n"
     ]
    }
   ],
   "source": [
    "def total_recur(L):\n",
    "    if len(L) == 1:\n",
    "        return L[0]\n",
    "    else:\n",
    "        return L[0] + total_recur(L[1:])\n",
    "\n",
    "test = [10, 20, 30]\n",
    "print(total_recur(test))"
   ]
  },
  {
   "cell_type": "code",
   "execution_count": 20,
   "id": "2955dc59-b819-4929-8473-cad16a45948e",
   "metadata": {},
   "outputs": [
    {
     "name": "stdout",
     "output_type": "stream",
     "text": [
      "10\n"
     ]
    }
   ],
   "source": [
    "def total_recur1(L):\n",
    "    if len(L) == 1:\n",
    "        return len(L[0])\n",
    "    else:\n",
    "        return len(L[0]) + total_recur1(L[1:])\n",
    "\n",
    "test = ['ab', 'c', 'defgh', 'ij']\n",
    "print(total_recur1(test))"
   ]
  },
  {
   "cell_type": "code",
   "execution_count": 5,
   "id": "dc15b273-aeb4-4f09-bf2a-3d743a5ebdbf",
   "metadata": {},
   "outputs": [
    {
     "name": "stdout",
     "output_type": "stream",
     "text": [
      "True\n"
     ]
    }
   ],
   "source": [
    "def in_list(L, e):\n",
    "    if len(L) == 0:\n",
    "        return False\n",
    "    elif L[0] == e:\n",
    "        return True\n",
    "    else:\n",
    "        return in_list(L[1:], e)\n",
    "\n",
    "test = [10, 20, 30]\n",
    "print(in_list(test, 20))"
   ]
  },
  {
   "cell_type": "code",
   "execution_count": 9,
   "id": "810d553c-c5bd-4054-b956-d561ac0d0e00",
   "metadata": {},
   "outputs": [
    {
     "name": "stdout",
     "output_type": "stream",
     "text": [
      "[1, 2, 3, 4, 5, 9, 8, 7]\n"
     ]
    }
   ],
   "source": [
    "# Flatten List\n",
    "def flatten(L):\n",
    "    if len(L) == 1:\n",
    "        return L[0]\n",
    "    else:\n",
    "        return L[0] + flatten(L[1:])\n",
    "test = [[1, 2], [3, 4, 5], [9, 8, 7]]\n",
    "print(flatten(test))"
   ]
  },
  {
   "cell_type": "code",
   "execution_count": 10,
   "id": "c7de777e-5182-4a41-9c39-b8bc3bd2a3b3",
   "metadata": {},
   "outputs": [
    {
     "name": "stdout",
     "output_type": "stream",
     "text": [
      "True\n",
      "False\n"
     ]
    }
   ],
   "source": [
    "def in_list_of_lists(L, e):\n",
    "    if len(L) == 1:\n",
    "        return e in L[0]\n",
    "    else:\n",
    "        first = L[0]\n",
    "        if e in L[0]:\n",
    "            return True\n",
    "        else:\n",
    "            return in_list_of_lists(L[1:], e)\n",
    "\n",
    "test = [[1, 2], [3, 4, 5], [9, 8, 7]]\n",
    "print(in_list_of_lists(test, 3))\n",
    "print(in_list_of_lists(test, 0))"
   ]
  },
  {
   "cell_type": "code",
   "execution_count": 17,
   "id": "d22defbf-28ae-4cb4-b2be-f98495d61868",
   "metadata": {},
   "outputs": [
    {
     "name": "stdout",
     "output_type": "stream",
     "text": [
      "[30, 20, 10]\n"
     ]
    }
   ],
   "source": [
    "def my_rev(L):\n",
    "    if len(L) == 1:\n",
    "        return L\n",
    "    else:\n",
    "        return my_rev(L[1:]) + [L[0]]\n",
    "        \n",
    "test = [10, 20, 30]\n",
    "print(my_rev(test))"
   ]
  },
  {
   "cell_type": "code",
   "execution_count": 23,
   "id": "50c7640c-66a8-4077-904d-f944ad1d9980",
   "metadata": {},
   "outputs": [
    {
     "name": "stdout",
     "output_type": "stream",
     "text": [
      "[[7, 8, 9], [5, 4, 3], [2, 1]]\n"
     ]
    }
   ],
   "source": [
    "def deep_rev(L):\n",
    "    if L == []:\n",
    "        return []\n",
    "    elif type(L[0]) != list:\n",
    "        return deep_rev(L[1:]) + [L[0]]\n",
    "    else:\n",
    "        return deep_rev(L[1:]) + [deep_rev(L[0])]\n",
    "\n",
    "test = [[1, 2], [3, 4, 5], [9, 8, 7]]\n",
    "print(deep_rev(test))"
   ]
  },
  {
   "cell_type": "code",
   "execution_count": null,
   "id": "4315eb55-723b-468c-b067-d9d737223d2d",
   "metadata": {},
   "outputs": [],
   "source": []
  }
 ],
 "metadata": {
  "kernelspec": {
   "display_name": "Python 3 (ipykernel)",
   "language": "python",
   "name": "python3"
  },
  "language_info": {
   "codemirror_mode": {
    "name": "ipython",
    "version": 3
   },
   "file_extension": ".py",
   "mimetype": "text/x-python",
   "name": "python",
   "nbconvert_exporter": "python",
   "pygments_lexer": "ipython3",
   "version": "3.12.7"
  }
 },
 "nbformat": 4,
 "nbformat_minor": 5
}
