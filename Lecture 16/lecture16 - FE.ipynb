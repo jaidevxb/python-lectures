{
 "cells": [
  {
   "cell_type": "markdown",
   "id": "072eaa6f-c34c-4f4d-bb2c-6161f25a4f36",
   "metadata": {},
   "source": [
    "### Finger Exercise Lecture 16\n"
   ]
  },
  {
   "cell_type": "markdown",
   "id": "44f46a7c-9564-4a2f-a907-0802b3f4dc54",
   "metadata": {},
   "source": [
    "Implement the function that meets the specifications below:\n",
    "\n"
   ]
  },
  {
   "cell_type": "code",
   "execution_count": 1,
   "id": "5c4f7d2c-c749-4606-8122-cae7b06f8f37",
   "metadata": {},
   "outputs": [
    {
     "name": "stdout",
     "output_type": "stream",
     "text": [
      "[1, 4, 6, 2, 3, 2, 4, 5]\n"
     ]
    }
   ],
   "source": [
    "def flatten(L):\n",
    "    \"\"\" \n",
    "    L: a list \n",
    "    Returns a copy of L, which is a flattened version of L \n",
    "    \"\"\"\n",
    "    # Your code here  \n",
    "    if len(L) == 0:\n",
    "        return []\n",
    "    if type(L[0]) != list:\n",
    "        return [L[0]] + flatten(L[1:])\n",
    "    else:\n",
    "        return flatten(L[0]) + flatten(L[1:])\n",
    "        \n",
    "# Examples:\n",
    "L = [[1,4,[6],2],[[[3]],2],4,5]\n",
    "print(flatten(L)) # prints the list [1,4,6,2,3,2,4,5]"
   ]
  },
  {
   "cell_type": "code",
   "execution_count": null,
   "id": "70ca80b8-69ac-4852-90e4-0a94b1f84763",
   "metadata": {},
   "outputs": [],
   "source": []
  }
 ],
 "metadata": {
  "kernelspec": {
   "display_name": "Python 3 (ipykernel)",
   "language": "python",
   "name": "python3"
  },
  "language_info": {
   "codemirror_mode": {
    "name": "ipython",
    "version": 3
   },
   "file_extension": ".py",
   "mimetype": "text/x-python",
   "name": "python",
   "nbconvert_exporter": "python",
   "pygments_lexer": "ipython3",
   "version": "3.12.7"
  }
 },
 "nbformat": 4,
 "nbformat_minor": 5
}
