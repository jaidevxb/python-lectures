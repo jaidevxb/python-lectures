{
 "cells": [
  {
   "cell_type": "markdown",
   "id": "f1f55098-f354-4231-8b65-c927a4d240cf",
   "metadata": {},
   "source": [
    "## Finger Exercise Lecture 18\n"
   ]
  },
  {
   "cell_type": "markdown",
   "id": "fe051c2c-f306-4483-8797-6a9229a9cdec",
   "metadata": {},
   "source": [
    "Write the class according to the specifications below:\n",
    "\n"
   ]
  },
  {
   "cell_type": "code",
   "execution_count": 4,
   "id": "5a2c123a-c14c-4ce7-b727-8bb66e1c85d6",
   "metadata": {},
   "outputs": [
    {
     "name": "stdout",
     "output_type": "stream",
     "text": [
      "3\n",
      "5\n",
      "8\n",
      "8\n"
     ]
    }
   ],
   "source": [
    "class Circle():\n",
    "    def __init__(self, radius):\n",
    "        \"\"\" Initializes self with radius \"\"\"\n",
    "        # your code here\n",
    "        self.radius = radius\n",
    "\n",
    "    def get_radius(self):\n",
    "        \"\"\" Returns the radius of self \"\"\"\n",
    "        # your code here\n",
    "        return self.radius\n",
    "\n",
    "    def __add__(self, c):\n",
    "        \"\"\" c is a Circle object \n",
    "        Returns a new Circle object whose radius is \n",
    "        the sum of self and c's radius \"\"\"\n",
    "        # your code here\n",
    "        return Circle(self.radius + c.radius)\n",
    "\n",
    "    def __str__(self):\n",
    "        \"\"\" A Circle's string representation is the radius \"\"\"\n",
    "        # your code here\n",
    "        return str(self.radius)\n",
    "\n",
    "c1 = Circle(3)\n",
    "c2 = Circle(5)\n",
    "c3 = c1 + c2\n",
    "\n",
    "print(c1)\n",
    "print(c2)\n",
    "print(c3)               # Output: 8\n",
    "print(c3.get_radius())  # Output: 8"
   ]
  },
  {
   "cell_type": "code",
   "execution_count": null,
   "id": "dd58699a-149f-44ef-adbf-f05d7d09fcab",
   "metadata": {},
   "outputs": [],
   "source": []
  }
 ],
 "metadata": {
  "kernelspec": {
   "display_name": "Python 3 (ipykernel)",
   "language": "python",
   "name": "python3"
  },
  "language_info": {
   "codemirror_mode": {
    "name": "ipython",
    "version": 3
   },
   "file_extension": ".py",
   "mimetype": "text/x-python",
   "name": "python",
   "nbconvert_exporter": "python",
   "pygments_lexer": "ipython3",
   "version": "3.12.7"
  }
 },
 "nbformat": 4,
 "nbformat_minor": 5
}
