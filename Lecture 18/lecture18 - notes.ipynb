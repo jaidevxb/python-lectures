{
 "cells": [
  {
   "cell_type": "code",
   "execution_count": 10,
   "id": "7d2c6acc-c254-4272-b579-bca08e2bf0e9",
   "metadata": {},
   "outputs": [
    {
     "name": "stdout",
     "output_type": "stream",
     "text": [
      "c's x is 3 and origin's x is 0\n",
      "5.0\n",
      "c's x is 0 and c's y is 0\n"
     ]
    }
   ],
   "source": [
    "class Coordinate(object):\n",
    "    def __init__(self, x, y):\n",
    "        self.x = x\n",
    "        self.y = y\n",
    "    def distance(self, other):\n",
    "        x_diff = (self.x - other.x) ** 2\n",
    "        y_diff = (self.y - other.y) ** 2\n",
    "        return (x_diff + y_diff) ** 0.5\n",
    "    def to_origin(self):\n",
    "        self.x = 0\n",
    "        self.y = 0\n",
    "\n",
    "c = Coordinate(3, 4)\n",
    "origin = Coordinate(0, 0)\n",
    "\n",
    "print(f\"c's x is {c.x} and origin's x is {origin.x}\")\n",
    "print(c.distance(origin))\n",
    "c.to_origin()\n",
    "print(f\"c's x is {c.x} and c's y is {c.y}\")"
   ]
  },
  {
   "cell_type": "code",
   "execution_count": 25,
   "id": "db69c573-27e3-4e67-b32a-a59c4c619154",
   "metadata": {},
   "outputs": [
    {
     "name": "stdout",
     "output_type": "stream",
     "text": [
      "True\n"
     ]
    }
   ],
   "source": [
    "class Circle(object):\n",
    "    def __init__(self, centre, radius):\n",
    "        self.centre = centre\n",
    "        self.radius = radius\n",
    "    def is_inside(self, point):\n",
    "        return point.distance(self.centre) < self.radius # can also be used as \n",
    "        # self.centre.distance(point) < self.radius\n",
    "        \n",
    "centre = Coordinate(2, 2)\n",
    "my_circle = Circle(centre, 2)\n",
    "point = Coordinate(1, 1)\n",
    "print(my_circle.is_inside(point))"
   ]
  },
  {
   "cell_type": "code",
   "execution_count": 33,
   "id": "3c2e7dbc-397e-43f5-b826-b29bce58049a",
   "metadata": {},
   "outputs": [
    {
     "name": "stdout",
     "output_type": "stream",
     "text": [
      "3\n",
      "4\n",
      "1.0\n",
      "0.1875\n",
      "3 4\n",
      "1.3333333333333333\n",
      "4 3\n",
      "<__main__.SimpleFraction object at 0x000002BAB53023C0>\n"
     ]
    }
   ],
   "source": [
    "class SimpleFraction(object):\n",
    "    def __init__(self, n, d):\n",
    "        self.num = n\n",
    "        self.denom = d\n",
    "    def times(self, oth):\n",
    "        top = self.num * oth.num\n",
    "        bottom = self.denom * oth.denom\n",
    "        return top/bottom\n",
    "    def plus(self, oth):\n",
    "        top = self.num * oth.denom + oth.num * self.denom\n",
    "        bottom = self.denom * oth.denom\n",
    "        return top/bottom\n",
    "    def get_inverse(self):\n",
    "        return self.denom/self.num\n",
    "    def invert(self):\n",
    "        (self.num, self.denom) = (self.denom, self.num)\n",
    "        \n",
    "\n",
    "f1 = SimpleFraction(3, 4)\n",
    "f2 = SimpleFraction(1, 4)\n",
    "print(f1.num)\n",
    "print(f1.denom)\n",
    "print(f1.plus(f2))\n",
    "print(f1.times(f2))\n",
    "print(f1.num, f1.denom)\n",
    "print(f1.get_inverse()) # 4/3\n",
    "f1.invert()\n",
    "print(f1.num, f1.denom)\n",
    "print(f1)\n",
    "# print(f1 * f2) error"
   ]
  },
  {
   "cell_type": "code",
   "execution_count": 45,
   "id": "dee08520-26b4-411f-8762-7f2ea57f3f36",
   "metadata": {},
   "outputs": [
    {
     "name": "stdout",
     "output_type": "stream",
     "text": [
      "<3, 4>\n",
      "<class '__main__.Coordinate'>\n",
      "<class '__main__.Coordinate'>\n",
      "<class 'type'>\n",
      "True\n"
     ]
    }
   ],
   "source": [
    "class Coordinate(object):\n",
    "    def __init__(self, x, y):\n",
    "        self.x = x\n",
    "        self.y = y\n",
    "    def distance(self, other):\n",
    "        x_diff = (self.x - other.x) ** 2\n",
    "        y_diff = (self.y - other.y) ** 2\n",
    "        return (x_diff + y_diff) ** 0.5\n",
    "    def __str__(self): # dunder method\n",
    "        return \"<\"+str(self.x)+\", \"+str(self.y)+\">\"\n",
    "\n",
    "c = Coordinate(3, 4)\n",
    "print(c)\n",
    "print(type(c))\n",
    "print(Coordinate)\n",
    "print(type(Coordinate))\n",
    "print(isinstance(c, Coordinate))"
   ]
  },
  {
   "cell_type": "code",
   "execution_count": 51,
   "id": "578f1e74-3c0a-4a79-83bc-ada8097c54c6",
   "metadata": {},
   "outputs": [
    {
     "name": "stdout",
     "output_type": "stream",
     "text": [
      "3/4\n",
      "1/4\n",
      "5\n"
     ]
    }
   ],
   "source": [
    "class SimpleFraction(object):\n",
    "    def __init__(self, n, d):\n",
    "        self.num = n\n",
    "        self.denom = d\n",
    "    def __str__(self):\n",
    "        if self.denom == 1:\n",
    "            return str(self.num)\n",
    "        return str(self.num) + \"/\" + str(self.denom)\n",
    "\n",
    "f1 = SimpleFraction(3, 4)\n",
    "f2 = SimpleFraction(1, 4)\n",
    "f3 = SimpleFraction(5, 1)\n",
    "print(f1)\n",
    "print(f2)\n",
    "print(f3)"
   ]
  },
  {
   "cell_type": "code",
   "execution_count": 63,
   "id": "6d0461b3-2dc7-4ed2-85bd-dbe1a3f397f3",
   "metadata": {},
   "outputs": [
    {
     "name": "stdout",
     "output_type": "stream",
     "text": [
      "1/4\n",
      "3/4\n",
      "3/16\n",
      "3/16\n",
      "3/16\n",
      "0.1875\n"
     ]
    }
   ],
   "source": [
    "class Fraction(object):\n",
    "    def __init__(self, n, d):\n",
    "        self.num = n\n",
    "        self.denom = d\n",
    "    def __mul__(self, oth):\n",
    "        top = self.num * oth.num\n",
    "        bottom = self.denom * oth.denom\n",
    "        return Fraction(top, bottom)\n",
    "    def __float__(self):\n",
    "        return self.num / self.denom\n",
    "    def __str__(self):\n",
    "        return str(self.num) + \"/\" + str(self.denom)\n",
    "        \n",
    "a = Fraction(1, 4)\n",
    "b = Fraction(3, 4)\n",
    "print(a)\n",
    "print(b)\n",
    "c = a * b\n",
    "print(c) # simple and easy\n",
    "print(a.__mul__(b)) # bad while dunder style methods\n",
    "print(Fraction.__mul__(a, b)) # bad style\n",
    "print(float(c))"
   ]
  },
  {
   "cell_type": "code",
   "execution_count": 71,
   "id": "a5250573-148e-4692-81d3-91a1dccbeb79",
   "metadata": {},
   "outputs": [
    {
     "name": "stdout",
     "output_type": "stream",
     "text": [
      "3/16\n",
      "3/3\n",
      "\n",
      "4/1 <class '__main__.Fraction'>\n",
      "1/1 <class '__main__.Fraction'>\n"
     ]
    }
   ],
   "source": [
    "class Fraction(object):\n",
    "    def __init__(self, n, d):\n",
    "        self.num = n\n",
    "        self.denom = d\n",
    "    def __mul__(self, oth):\n",
    "        top = self.num * oth.num\n",
    "        bottom = self.denom * oth.denom\n",
    "        return Fraction(top, bottom)\n",
    "    def __str__(self):\n",
    "        return str(self.num) + \"/\" + str(self.denom)\n",
    "    def reduce(self):\n",
    "        def gcd(n, d):\n",
    "            while d != 0:\n",
    "                d, n = n%d, d\n",
    "            return n\n",
    "        if self.denom == 0:\n",
    "            return None\n",
    "        elif self.denom == 1:\n",
    "            # return self.num\n",
    "            return Fraction(self.num, 1)\n",
    "        else:\n",
    "            greatest_common_divisor = gcd(self.num, self.denom)\n",
    "            top = int(self.num/greatest_common_divisor)\n",
    "            bottom = int(self.num/greatest_common_divisor)\n",
    "            return Fraction(top, bottom)\n",
    "\n",
    "a = Fraction(1, 4)\n",
    "b = Fraction(3, 4)\n",
    "c = a * b\n",
    "print(c)\n",
    "print(c.reduce())\n",
    "print()\n",
    "\n",
    "\n",
    "a1 = Fraction(4, 1)\n",
    "b1 = Fraction(3, 9)\n",
    "ar1 = a1.reduce()\n",
    "br1 = b1.reduce()\n",
    "print(ar1, type(ar1))\n",
    "print(br1, type(br1))\n",
    "c1 = ar1 * br1 # error since if denom is 1 returns int not fraction"
   ]
  },
  {
   "cell_type": "code",
   "execution_count": null,
   "id": "e815e27b-5edf-4119-9ae4-df7653e4cd95",
   "metadata": {},
   "outputs": [],
   "source": []
  }
 ],
 "metadata": {
  "kernelspec": {
   "display_name": "Python 3 (ipykernel)",
   "language": "python",
   "name": "python3"
  },
  "language_info": {
   "codemirror_mode": {
    "name": "ipython",
    "version": 3
   },
   "file_extension": ".py",
   "mimetype": "text/x-python",
   "name": "python",
   "nbconvert_exporter": "python",
   "pygments_lexer": "ipython3",
   "version": "3.12.7"
  }
 },
 "nbformat": 4,
 "nbformat_minor": 5
}
