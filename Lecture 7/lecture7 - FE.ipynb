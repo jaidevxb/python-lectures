{
 "cells": [
  {
   "cell_type": "markdown",
   "id": "0b98fba0-8c4c-4b16-a2ca-7123b63d9cee",
   "metadata": {},
   "source": [
    "Question 1: Implement the function that meets the specifications below:\n",
    "\n"
   ]
  },
  {
   "cell_type": "code",
   "execution_count": 2,
   "id": "497fd5a7-9bf0-4d24-bc6e-029a631c954b",
   "metadata": {},
   "outputs": [
    {
     "name": "stdout",
     "output_type": "stream",
     "text": [
      "3\n",
      "27\n"
     ]
    }
   ],
   "source": [
    "def eval_quadratic(a, b, c, x):\n",
    "    \"\"\"\n",
    "    a, b, c: numerical values for the coefficients of a quadratic equation\n",
    "    x: numerical value at which to evaluate the quadratic.\n",
    "    Returns the value of the quadratic a×x² + b×x + c.\n",
    "    \"\"\"\n",
    "    # Your code here\n",
    "    return a*(x**2) + b*x + c\n",
    "\n",
    "# Examples:    \n",
    "print(eval_quadratic(1, 1, 1, 1)) # prints 3\n",
    "print(eval_quadratic(1, 2, 3, 4)) "
   ]
  },
  {
   "cell_type": "markdown",
   "id": "ae9085d2-4a12-433e-a019-90b1207ebe9d",
   "metadata": {},
   "source": [
    "Question 2: Implement the function that meets the specifications below:\n",
    "\n"
   ]
  },
  {
   "cell_type": "code",
   "execution_count": 7,
   "id": "05e1c23f-e7d9-4f37-af03-2969ef9eef5b",
   "metadata": {},
   "outputs": [
    {
     "name": "stdout",
     "output_type": "stream",
     "text": [
      "6\n",
      "6\n",
      "None\n"
     ]
    }
   ],
   "source": [
    "def two_quadratics(a1, b1, c1, x1, a2, b2, c2, x2):\n",
    "    \"\"\"\n",
    "    a1, b1, c1: one set of coefficients of a quadratic equation\n",
    "    a2, b2, c2: another set of coefficients of a quadratic equation\n",
    "    x1, x2: values at which to evaluate the quadratics\n",
    "    Evaluates one quadratic with coefficients a1, b1, c1, at x1.\n",
    "    Evaluates another quadratic with coefficients a2, b2, c2, at x2.\n",
    "    Prints the sum of the two evaluations. Does not return anything.\n",
    "    \"\"\"\n",
    "    # Your code here\n",
    "    eval_1 = a1*(x1**2) + b1*x1 + c1\n",
    "    eval_2 = a2*(x2**2) + b2*x2 + c2\n",
    "    print(eval_1 + eval_2)\n",
    "\n",
    "# Examples:    \n",
    "two_quadratics(1, 1, 1, 1, 1, 1, 1, 1) # prints 6\n",
    "print(two_quadratics(1, 1, 1, 1, 1, 1, 1, 1)) # prints 6 then None"
   ]
  },
  {
   "cell_type": "code",
   "execution_count": null,
   "id": "a6226551-583f-427b-af19-5a1459a3b4ae",
   "metadata": {},
   "outputs": [],
   "source": []
  }
 ],
 "metadata": {
  "kernelspec": {
   "display_name": "Python 3 (ipykernel)",
   "language": "python",
   "name": "python3"
  },
  "language_info": {
   "codemirror_mode": {
    "name": "ipython",
    "version": 3
   },
   "file_extension": ".py",
   "mimetype": "text/x-python",
   "name": "python",
   "nbconvert_exporter": "python",
   "pygments_lexer": "ipython3",
   "version": "3.12.7"
  }
 },
 "nbformat": 4,
 "nbformat_minor": 5
}
