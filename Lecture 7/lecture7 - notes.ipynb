{
 "cells": [
  {
   "cell_type": "code",
   "execution_count": 5,
   "id": "1f1f1675-9524-4ed8-95ae-035d2856f49a",
   "metadata": {},
   "outputs": [
    {
     "name": "stdout",
     "output_type": "stream",
     "text": [
      "False\n",
      "True\n"
     ]
    }
   ],
   "source": [
    "def is_even(i): # function definition\n",
    "    \"\"\"\n",
    "    Input: i, a positive int\n",
    "    Returns True if i is even, otherwise False\n",
    "    \"\"\"\n",
    "    return i % 2 == 0\n",
    "    \n",
    "print(is_even(3)) # function call\n",
    "print(is_even(8))"
   ]
  },
  {
   "cell_type": "code",
   "execution_count": 4,
   "id": "771bd9a7-a83d-4f93-85ff-3d372571087d",
   "metadata": {},
   "outputs": [
    {
     "name": "stdout",
     "output_type": "stream",
     "text": [
      "False\n",
      "True\n"
     ]
    }
   ],
   "source": [
    "def div_by(n, d):\n",
    "    \"\"\"\n",
    "    :param n: n is a positive integer\n",
    "    :param d: d is another positive integer\n",
    "    :return: Bool, True if d divides n , else return false\n",
    "    \"\"\"\n",
    "    return n % d == 0\n",
    "    \n",
    "print(div_by(10,3))\n",
    "print(div_by(195,13))"
   ]
  },
  {
   "cell_type": "code",
   "execution_count": 7,
   "id": "5c3885f0-fc6f-4d3d-9420-55cd2b2aa189",
   "metadata": {},
   "outputs": [
    {
     "name": "stdout",
     "output_type": "stream",
     "text": [
      "1 -> Odd\n",
      "2 -> Even\n",
      "3 -> Odd\n",
      "4 -> Even\n",
      "5 -> Odd\n",
      "6 -> Even\n",
      "7 -> Odd\n",
      "8 -> Even\n",
      "9 -> Odd\n"
     ]
    }
   ],
   "source": [
    "for i in range(1, 10):  \n",
    "    if is_even(i):  \n",
    "        print(f'{i} -> Even')  \n",
    "    else:\n",
    "        print(f'{i} -> Odd')"
   ]
  },
  {
   "cell_type": "code",
   "execution_count": 12,
   "id": "fb5251a8-e9ff-43fd-8a0d-54be5d1af26c",
   "metadata": {},
   "outputs": [
    {
     "name": "stdout",
     "output_type": "stream",
     "text": [
      "25\n"
     ]
    }
   ],
   "source": [
    "def sum_odd(a, b):\n",
    "    \"\"\"\n",
    "    :param a: Lower limit for starting to sum the odd numbers\n",
    "    :param b: Upper limit for ending to sum the odd numbers\n",
    "    :return: Sum of odd numbers between a and b\n",
    "    \"\"\"\n",
    "    ans = 0\n",
    "    for j in range(a, b + 1):\n",
    "        if not is_even(j):\n",
    "            ans += j\n",
    "    return ans\n",
    "\n",
    "print(sum_odd(1,9))"
   ]
  },
  {
   "cell_type": "code",
   "execution_count": 18,
   "id": "a818450b-ea6a-49c6-8c1c-22a2053541fe",
   "metadata": {},
   "outputs": [
    {
     "name": "stdout",
     "output_type": "stream",
     "text": [
      "222 -> True\n",
      "2222 -> True\n",
      "cba -> False\n",
      "racecar -> True\n"
     ]
    }
   ],
   "source": [
    "def is_palindrome(s):\n",
    "    print(s[::-1], end=\" -> \")\n",
    "    return s == s[::-1]\n",
    "    \n",
    "print(is_palindrome(\"222\"))\n",
    "print(is_palindrome(\"2222\"))\n",
    "print(is_palindrome(\"abc\"))\n",
    "print(is_palindrome(\"racecar\"))"
   ]
  },
  {
   "cell_type": "code",
   "execution_count": null,
   "id": "41629d1e-64e1-4726-9af7-363621610e41",
   "metadata": {},
   "outputs": [],
   "source": []
  }
 ],
 "metadata": {
  "kernelspec": {
   "display_name": "Python 3 (ipykernel)",
   "language": "python",
   "name": "python3"
  },
  "language_info": {
   "codemirror_mode": {
    "name": "ipython",
    "version": 3
   },
   "file_extension": ".py",
   "mimetype": "text/x-python",
   "name": "python",
   "nbconvert_exporter": "python",
   "pygments_lexer": "ipython3",
   "version": "3.12.7"
  }
 },
 "nbformat": 4,
 "nbformat_minor": 5
}
