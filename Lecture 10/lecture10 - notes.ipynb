{
 "cells": [
  {
   "cell_type": "code",
   "execution_count": 4,
   "id": "e3e93467-6d50-438c-9aa9-d85cdcc55b91",
   "metadata": {},
   "outputs": [
    {
     "name": "stdout",
     "output_type": "stream",
     "text": [
      "(10, 'abc', [10, 20, 'def'])\n",
      "<class 'tuple'>\n",
      "[10, 20, 'def']\n",
      "<class 'list'>\n",
      "def\n"
     ]
    }
   ],
   "source": [
    "a = (10, 'abc', [10, 20, 'def'])\n",
    "print(a)\n",
    "print(type(a))\n",
    "print(a[2])\n",
    "print(type(a[2]))\n",
    "print(a[2][2])"
   ]
  },
  {
   "cell_type": "code",
   "execution_count": 9,
   "id": "8ffb8984-f327-41be-a549-df4ef6450b7d",
   "metadata": {},
   "outputs": [
    {
     "name": "stdout",
     "output_type": "stream",
     "text": [
      "[1, 4, 5]\n",
      "[1, 3, 5]\n",
      "\n",
      "(1, 4, 5)\n",
      "(1, 3, 5)\n"
     ]
    }
   ],
   "source": [
    "L = [1, 4, 5]\n",
    "print(L)\n",
    "L[1] = 3 # mutating\n",
    "print(L)\n",
    "\n",
    "\n",
    "print()\n",
    "T = (1, 4, 5)\n",
    "print(T)\n",
    "T = (1, 3, 5) # binding to new object\n",
    "print(T)"
   ]
  },
  {
   "cell_type": "markdown",
   "id": "34be7077-b2f4-4aec-9157-e5619868b77c",
   "metadata": {},
   "source": [
    "Operations on List\n"
   ]
  },
  {
   "cell_type": "code",
   "execution_count": 26,
   "id": "f1dbe081-4869-428c-8d0d-e64881cb10c1",
   "metadata": {},
   "outputs": [
    {
     "name": "stdout",
     "output_type": "stream",
     "text": [
      "[1, 4, 5, 10]\n",
      "[1, 4, 5, 10, [10, 20]]\n",
      "10\n",
      "None\n"
     ]
    }
   ],
   "source": [
    "L = [1, 4, 5]\n",
    "L.append(10)\n",
    "print(L)\n",
    "L.append([10, 20])\n",
    "print(L)\n",
    "print(L[4][0])\n",
    "L = L.append(5) # L is none now as L.append() returns none\n",
    "print(L)"
   ]
  },
  {
   "cell_type": "code",
   "execution_count": 38,
   "id": "5708af87-0468-4df5-b3d6-ac939e813b20",
   "metadata": {
    "scrolled": true
   },
   "outputs": [
    {
     "name": "stdout",
     "output_type": "stream",
     "text": [
      "['re', ['do', ['re', 'mi']]] \n",
      " ['mi'] \n",
      " ['do', ['re', 'mi']] \n",
      " None\n"
     ]
    }
   ],
   "source": [
    "L1 = ['re']\n",
    "L2 = ['mi']\n",
    "L3 = ['do']\n",
    "L4 = L1 + L2\n",
    "L3.append(L4)\n",
    "L = L1.append(L3) # returns none but L1 is updated\n",
    "print(L1,\"\\n\",L2,\"\\n\",L3,\"\\n\",L)"
   ]
  },
  {
   "cell_type": "code",
   "execution_count": 42,
   "id": "48913d84-3dbc-431f-9cd3-76c747afe07a",
   "metadata": {},
   "outputs": [
    {
     "name": "stdout",
     "output_type": "stream",
     "text": [
      "List of numbers : [0, 1, 2, 3, 4, 5, 6, 7, 8, 9, 10]\n"
     ]
    }
   ],
   "source": [
    "def make_ordered_list(n):\n",
    "    \"\"\"\n",
    "    Input n is a postive integer\n",
    "    Returns a list contaning all ints in order from 0 to n(included)\n",
    "    \"\"\"\n",
    "    L = []\n",
    "    for i in range(n + 1):\n",
    "        L.append(i)\n",
    "    return L\n",
    "\n",
    "print(\"List of numbers :\",make_ordered_list(10))"
   ]
  },
  {
   "cell_type": "code",
   "execution_count": 47,
   "id": "be47e54f-5453-4029-84aa-8261c705837b",
   "metadata": {},
   "outputs": [
    {
     "name": "stdout",
     "output_type": "stream",
     "text": [
      "List without 6 : [0, 1, 2, 3, 4, 5, 7, 8, 9, 10]\n"
     ]
    }
   ],
   "source": [
    "def remove_elem(L, e):\n",
    "    \"\"\"\n",
    "    Input L is a list\n",
    "    Returns a new list with elements in same order as L\n",
    "    but without any elements equal to e\n",
    "    \"\"\"\n",
    "    new_L = []\n",
    "    for i in L:\n",
    "        if(i != e):\n",
    "            new_L.append(i) # new_L = [i for i in L if i != e]\n",
    "    return new_L\n",
    "print(\"List without 6 :\",remove_elem([0, 1, 2, 3, 4, 5, 6, 7, 8, 9, 10], 6))\n",
    "    "
   ]
  },
  {
   "cell_type": "markdown",
   "id": "0a4c2e16-a159-42df-ae6d-690cbfc95b52",
   "metadata": {},
   "source": [
    "String to list"
   ]
  },
  {
   "cell_type": "code",
   "execution_count": 48,
   "id": "7685a6d5-4e07-4ef0-8ab8-e7a20e76bf5b",
   "metadata": {},
   "outputs": [
    {
     "name": "stdout",
     "output_type": "stream",
     "text": [
      "['I', '<', '3', ' ', 'C', 'S', ' ', '&', 'U']\n"
     ]
    }
   ],
   "source": [
    "s = \"I<3 CS &U\"\n",
    "L = list(s)\n",
    "print(L)"
   ]
  },
  {
   "cell_type": "code",
   "execution_count": 50,
   "id": "b663d805-8e7e-4ccf-a10e-6e4943cb07eb",
   "metadata": {},
   "outputs": [
    {
     "name": "stdout",
     "output_type": "stream",
     "text": [
      "['I<3', 'CS', '&U']\n",
      "['I<3 CS ', 'U']\n"
     ]
    }
   ],
   "source": [
    "L1 = s.split(' ')\n",
    "L2 = s.split('&')\n",
    "print(L1)\n",
    "print(L2)"
   ]
  },
  {
   "cell_type": "markdown",
   "id": "66d9a618-9ecc-4906-b8b2-2b02b2b8a86f",
   "metadata": {},
   "source": [
    "List to string"
   ]
  },
  {
   "cell_type": "code",
   "execution_count": 58,
   "id": "6bc1dbd0-e899-4425-9c1e-1264cae106f4",
   "metadata": {},
   "outputs": [
    {
     "name": "stdout",
     "output_type": "stream",
     "text": [
      "abc\n",
      "a_b_c\n",
      "<class 'str'> <class 'str'>\n",
      "1_2_3\n"
     ]
    }
   ],
   "source": [
    "L = ['a', 'b', 'c']\n",
    "A = ''.join(L)\n",
    "print(A)\n",
    "B = '_'.join(L)\n",
    "print(B)\n",
    "print(type(A), type(B))\n",
    "# C = '_'.join([1, 2, 3])  error\n",
    "C = '_'.join(['1', '2', '3'])\n",
    "print(C)"
   ]
  },
  {
   "cell_type": "code",
   "execution_count": 60,
   "id": "c806c253-2e4a-4bda-a031-6bf02c638511",
   "metadata": {},
   "outputs": [
    {
     "name": "stdout",
     "output_type": "stream",
     "text": [
      "No. words in the sentence: 'I love CS': 3\n"
     ]
    }
   ],
   "source": [
    "def count_words(sen):  \n",
    "    \"\"\"\n",
    "    Input sen is a string containing a sentence\n",
    "    Returns the total number of words in a sen\n",
    "    \"\"\"  \n",
    "    L1 = sen.split()  \n",
    "    return len(L1)  \n",
    "\n",
    "print(\"No. words in the sentence: 'I love CS':\",count_words(\"I love CS\"))  "
   ]
  },
  {
   "cell_type": "code",
   "execution_count": 66,
   "id": "6a67ddb7-b1d0-4eb6-8cbe-880e2e410796",
   "metadata": {},
   "outputs": [
    {
     "name": "stdout",
     "output_type": "stream",
     "text": [
      "[2, 10, 15, 30]\n",
      "[30, 15, 10, 2]\n",
      "[1, 3, 12, 25]\n",
      "[12, 25, 3, 1]\n"
     ]
    }
   ],
   "source": [
    "L = [10, 2, 30, 15]\n",
    "L.sort()\n",
    "print(L)\n",
    "L.reverse()\n",
    "print(L)\n",
    "L1 = [12, 25, 3, 1]\n",
    "L2 = sorted(L1) # no mutation\n",
    "print(L2)\n",
    "print(L1)"
   ]
  },
  {
   "cell_type": "code",
   "execution_count": 13,
   "id": "ea017468-296f-456c-8018-8736611d9c2d",
   "metadata": {},
   "outputs": [
    {
     "name": "stdout",
     "output_type": "stream",
     "text": [
      "sorted order of 'hello iam Jaidev eee firstyear student' : ['eee', 'firstyear', 'hello', 'iam', 'jaidev', 'student']\n"
     ]
    }
   ],
   "source": [
    "def sort_words(sen):\n",
    "    \n",
    "    \"\"\"\n",
    "    Input sen is a string containing a sentence\n",
    "    Returns a list containing all the words in sen but in alphabetically sorted order\n",
    "    \"\"\"  \n",
    "    new_list = sen.split()\n",
    "    # new_list.sort()\n",
    "    return sorted(new_list)\n",
    "\n",
    "print(\"sorted order of 'hello iam Jaidev eee firstyear student' :\",sort_words('hello iam jaidev eee firstyear student'))"
   ]
  },
  {
   "cell_type": "code",
   "execution_count": 19,
   "id": "9db0bc3d-fcd8-4299-9a5e-07df03e7c397",
   "metadata": {},
   "outputs": [
    {
     "name": "stdout",
     "output_type": "stream",
     "text": [
      "[1, 4, 9, 16, 25]\n"
     ]
    }
   ],
   "source": [
    "def square_list(L):\n",
    "    i = 0\n",
    "    for e in L:\n",
    "        L[i] = e ** 2\n",
    "        i += 1\n",
    "    return L\n",
    "print(square_list([1, 2, 3, 4, 5]))"
   ]
  },
  {
   "cell_type": "code",
   "execution_count": 20,
   "id": "0cc56cb5-4f90-47d7-89b6-74096c37ce70",
   "metadata": {},
   "outputs": [
    {
     "name": "stdout",
     "output_type": "stream",
     "text": [
      "[1, 4, 9, 16, 25]\n"
     ]
    }
   ],
   "source": [
    "def square_list1(L):\n",
    "    for i in range(len(L)):\n",
    "        L[i] = L[i] ** 2\n",
    "    return L\n",
    "print(square_list1([1, 2, 3, 4, 5]))"
   ]
  },
  {
   "cell_type": "code",
   "execution_count": 22,
   "id": "5bf02deb-65a9-4fde-85cb-222328ee8de2",
   "metadata": {},
   "outputs": [
    {
     "name": "stdout",
     "output_type": "stream",
     "text": [
      "[1, 4, 9, 16, 25]\n"
     ]
    }
   ],
   "source": [
    "def square_list3(L):\n",
    "    for i, e in enumerate(L):\n",
    "        L[i] = e ** 2\n",
    "    return L\n",
    "print(square_list3([1, 2, 3, 4, 5]))"
   ]
  },
  {
   "cell_type": "code",
   "execution_count": 23,
   "id": "1ad4f900-967a-43a3-9d3b-d6fb6ecabdc5",
   "metadata": {},
   "outputs": [
    {
     "name": "stdout",
     "output_type": "stream",
     "text": [
      "tricky example 1\n",
      "[1, 2, 3, 4, 0]\n",
      "[1, 2, 3, 4, 0, 1]\n",
      "[1, 2, 3, 4, 0, 1, 2]\n",
      "[1, 2, 3, 4, 0, 1, 2, 3]\n"
     ]
    }
   ],
   "source": [
    "L = [1, 2, 3, 4]\n",
    "print(\"Tricky Example 1\")\n",
    "for i in range(len(L)):\n",
    "    L.append(i)\n",
    "    print(L)"
   ]
  },
  {
   "cell_type": "code",
   "execution_count": 24,
   "id": "700ac732-2497-4b81-9f9f-7019f6023fcf",
   "metadata": {},
   "outputs": [
    {
     "data": {
      "text/plain": [
       "'\\nprint(\"tricky example 2\")\\nL = [1, 2, 3, 4]\\ni = 0\\nfor e in L:\\n    L.append(i)\\n    i += 1\\n    print(L)\\n'"
      ]
     },
     "execution_count": 24,
     "metadata": {},
     "output_type": "execute_result"
    }
   ],
   "source": [
    "# Infinite loop as the L is mutated over every iteration\n",
    "'''\n",
    "print(\"Tricky Example 2\")\n",
    "L = [1, 2, 3, 4]\n",
    "i = 0\n",
    "for e in L:\n",
    "    L.append(i)\n",
    "    i += 1\n",
    "    print(L)\n",
    "'''"
   ]
  },
  {
   "cell_type": "markdown",
   "id": "dfe567f0-3ccb-474b-9474-c63b48168f9d",
   "metadata": {},
   "source": [
    "Combining Lists"
   ]
  },
  {
   "cell_type": "code",
   "execution_count": 30,
   "id": "1a4c5580-80ae-4b52-adc5-65335366b2ed",
   "metadata": {},
   "outputs": [
    {
     "name": "stdout",
     "output_type": "stream",
     "text": [
      "[1, 2, 3, 4, 5, 6]\n",
      "[1, 2, 3, 4, 5, 6]\n",
      "[4, 5, 6, [10, 20], [30, 40]]\n"
     ]
    }
   ],
   "source": [
    "L1 = [1, 2, 3]\n",
    "L2 = [4, 5, 6]\n",
    "L3 = L1 + L2 # new object\n",
    "print(L3) \n",
    "L1.extend(L2) # mutates L1\n",
    "print(L1)\n",
    "L2.extend([[10, 20], [30, 40]])\n",
    "print(L2)"
   ]
  },
  {
   "cell_type": "code",
   "execution_count": 33,
   "id": "2c297ed9-67fa-4a97-b5a9-1331ffa1769a",
   "metadata": {},
   "outputs": [
    {
     "name": "stdout",
     "output_type": "stream",
     "text": [
      "Tricky Example 4\n",
      "[1, 2, 3, 1, 2, 3]\n",
      "[1, 2, 3, 1, 2, 3, 1, 2, 3, 1, 2, 3]\n",
      "[1, 2, 3, 1, 2, 3, 1, 2, 3, 1, 2, 3, 1, 2, 3, 1, 2, 3, 1, 2, 3, 1, 2, 3]\n"
     ]
    }
   ],
   "source": [
    "L = [1, 2, 3]\n",
    "print(\"Tricky Example 3\")\n",
    "for e in L:\n",
    "    L = L + L # = does not change the object in place but append changes\n",
    "    print(L)\n"
   ]
  },
  {
   "cell_type": "code",
   "execution_count": 37,
   "id": "130c3220-6dc7-4014-a80f-928aeedb16da",
   "metadata": {},
   "outputs": [
    {
     "name": "stdout",
     "output_type": "stream",
     "text": [
      "1511954867584\n"
     ]
    }
   ],
   "source": [
    "L = [1, 2, 3]\n",
    "print(id(L))"
   ]
  },
  {
   "cell_type": "code",
   "execution_count": 38,
   "id": "29fc88df-0739-4fa0-a67c-75ea0cd316d4",
   "metadata": {},
   "outputs": [
    {
     "name": "stdout",
     "output_type": "stream",
     "text": [
      "[1, 2, 3, 10]\n",
      "1511954867584\n"
     ]
    }
   ],
   "source": [
    "L.append(10) # changes in memory at time\n",
    "print(L)\n",
    "print(id(L))"
   ]
  },
  {
   "cell_type": "code",
   "execution_count": 44,
   "id": "840bc97f-b300-429f-8e38-210d3ab8ac0d",
   "metadata": {},
   "outputs": [
    {
     "name": "stdout",
     "output_type": "stream",
     "text": [
      "[]\n",
      "1511954867584\n",
      "[]\n",
      "1511954396416\n"
     ]
    }
   ],
   "source": [
    "L.clear()\n",
    "print(L)\n",
    "print(id(L))\n",
    "L = [] \n",
    "print(L)\n",
    "print(id(L))"
   ]
  },
  {
   "cell_type": "code",
   "execution_count": 48,
   "id": "ffc67feb-50a1-4ffa-8197-8ca195c743c4",
   "metadata": {},
   "outputs": [
    {
     "name": "stdout",
     "output_type": "stream",
     "text": [
      "[1, 2, 3]\n",
      "1511954959808\n",
      "[1, 2, 3, 1, 2, 3]\n",
      "1511954906816\n"
     ]
    }
   ],
   "source": [
    "L = [1, 2, 3]\n",
    "print(L)\n",
    "print(id(L))\n",
    "L = L + L\n",
    "print(L)\n",
    "print(id(L))"
   ]
  },
  {
   "cell_type": "code",
   "execution_count": null,
   "id": "c7c0dc66-b75f-4603-9d21-97a0190c822c",
   "metadata": {},
   "outputs": [],
   "source": []
  }
 ],
 "metadata": {
  "kernelspec": {
   "display_name": "Python 3 (ipykernel)",
   "language": "python",
   "name": "python3"
  },
  "language_info": {
   "codemirror_mode": {
    "name": "ipython",
    "version": 3
   },
   "file_extension": ".py",
   "mimetype": "text/x-python",
   "name": "python",
   "nbconvert_exporter": "python",
   "pygments_lexer": "ipython3",
   "version": "3.12.7"
  }
 },
 "nbformat": 4,
 "nbformat_minor": 5
}
