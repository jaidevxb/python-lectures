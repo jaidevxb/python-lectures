{
 "cells": [
  {
   "cell_type": "markdown",
   "id": "8969a636-a42c-4643-8ced-ecae7ae3b0d1",
   "metadata": {},
   "source": [
    "### Finger Exercise Lecture 10\n"
   ]
  },
  {
   "cell_type": "markdown",
   "id": "3a1e9960-0526-43c9-8d30-8313484f2ddd",
   "metadata": {},
   "source": [
    "Implement the function that meets the specifications below:\n",
    "\n"
   ]
  },
  {
   "cell_type": "code",
   "execution_count": 12,
   "id": "37e9d8dd-ad5a-4bc7-9338-8367ec2643ec",
   "metadata": {},
   "outputs": [
    {
     "name": "stdout",
     "output_type": "stream",
     "text": [
      "True\n"
     ]
    }
   ],
   "source": [
    "def is_even(n):\n",
    "    return n % 2 == 0\n",
    "def is_pos(n): \n",
    "    return n > 0\n",
    "\n",
    "def all_true(n, Lf):\n",
    "    \"\"\" n is an int\n",
    "        Lf is a list of functions that take in an int and return a Boolean\n",
    "    Returns True if each and every function in Lf returns True when called \n",
    "    with n as a parameter. Otherwise returns False. \n",
    "    \"\"\"\n",
    "    # Your code here\n",
    "    return Lf[0](n) and Lf[1](n) # works only if we have 2 fn\n",
    "\n",
    "# Examples:    \n",
    "print(all_true(10, [is_even, is_pos]))"
   ]
  },
  {
   "cell_type": "code",
   "execution_count": 14,
   "id": "eb2935af-198e-43cc-8c18-00f54dc2b684",
   "metadata": {},
   "outputs": [
    {
     "name": "stdout",
     "output_type": "stream",
     "text": [
      "True\n",
      "False\n",
      "False\n",
      "True\n"
     ]
    }
   ],
   "source": [
    "def is_even(n):\n",
    "    return n % 2 == 0\n",
    "def is_pos(n): \n",
    "    return n > 0\n",
    "\n",
    "def all_true(n, Lf):\n",
    "    \"\"\" n is an int\n",
    "        Lf is a list of functions that take in an int and return a Boolean\n",
    "    Returns True if each and every function in Lf returns True when called \n",
    "    with n as a parameter. Otherwise returns False. \n",
    "    \"\"\"\n",
    "    # Your code here\n",
    "    for f in Lf:\n",
    "        if not f(n): \n",
    "            return False\n",
    "    return True\n",
    "\n",
    "# Examples:    \n",
    "print(all_true(10, [is_even, is_pos]))\n",
    "print(all_true(-10, [is_even, is_pos])) # False (-10 is even but not positive)\n",
    "print(all_true(3, [is_even, is_pos]))   # False (3 is positive but not even)\n",
    "print(all_true(10, [])) # True (empty list means no false conditions)"
   ]
  },
  {
   "cell_type": "code",
   "execution_count": 15,
   "id": "9ddff86c-5b0b-4c61-8f98-fbf9c4a08aad",
   "metadata": {},
   "outputs": [
    {
     "name": "stdout",
     "output_type": "stream",
     "text": [
      "True\n",
      "False\n",
      "False\n",
      "True\n"
     ]
    }
   ],
   "source": [
    "def all_true(n, Lf):\n",
    "    \"\"\" n is an int\n",
    "        Lf is a list of functions that take in an int and return a Boolean\n",
    "    Returns True if each and every function in Lf returns True when called \n",
    "    with n as a parameter. Otherwise returns False. \n",
    "    \"\"\"\n",
    "    # Your code here\n",
    "    for f in Lf:\n",
    "        if not f(n): \n",
    "            return False\n",
    "    return True\n",
    "\n",
    "# Examples using lambda functions:    \n",
    "print(all_true(10, [lambda x: x % 2 == 0, lambda x: x > 0]))  \n",
    "print(all_true(-10, [lambda x: x % 2 == 0, lambda x: x > 0]))\n",
    "print(all_true(3, [lambda x: x % 2 == 0, lambda x: x > 0]))   \n",
    "print(all_true(10, []))                                       "
   ]
  },
  {
   "cell_type": "code",
   "execution_count": null,
   "id": "67884573-44f8-476d-8ff8-daed59dd813a",
   "metadata": {},
   "outputs": [],
   "source": []
  }
 ],
 "metadata": {
  "kernelspec": {
   "display_name": "Python 3 (ipykernel)",
   "language": "python",
   "name": "python3"
  },
  "language_info": {
   "codemirror_mode": {
    "name": "ipython",
    "version": 3
   },
   "file_extension": ".py",
   "mimetype": "text/x-python",
   "name": "python",
   "nbconvert_exporter": "python",
   "pygments_lexer": "ipython3",
   "version": "3.12.7"
  }
 },
 "nbformat": 4,
 "nbformat_minor": 5
}
