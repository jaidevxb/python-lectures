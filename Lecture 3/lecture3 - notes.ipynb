{
 "cells": [
  {
   "cell_type": "markdown",
   "id": "90c4ce13-7b1d-4a4b-9aec-64f6178b3058",
   "metadata": {},
   "source": [
    "While Loop"
   ]
  },
  {
   "cell_type": "code",
   "execution_count": 1,
   "id": "15ab1bc4-88f6-47e1-8ad1-d0e0df04b71f",
   "metadata": {},
   "outputs": [
    {
     "name": "stdin",
     "output_type": "stream",
     "text": [
      "You are in the lost forest. Go left or right? right\n",
      "You are in the lost forest. Go left or right? left\n"
     ]
    },
    {
     "name": "stdout",
     "output_type": "stream",
     "text": [
      "You got out of the lost forest!\n"
     ]
    }
   ],
   "source": [
    "where = input(\"You are in the lost forest. Go left or right?\")\n",
    "while where == \"right\":\n",
    "    where = input(\"You are in the lost forest. Go left or right?\")\n",
    "\n",
    "print(\"You got out of the lost forest!\")"
   ]
  },
  {
   "cell_type": "markdown",
   "id": "88ce27e5-9ed8-4c84-9a29-3bcb3c5e8dcd",
   "metadata": {},
   "source": [
    "Try It"
   ]
  },
  {
   "cell_type": "code",
   "execution_count": 2,
   "id": "e2964c1d-1450-47f9-ad25-dd45c046c224",
   "metadata": {},
   "outputs": [
    {
     "name": "stdin",
     "output_type": "stream",
     "text": [
      "Go left or right? right\n",
      "Go left or right? left\n"
     ]
    },
    {
     "name": "stdout",
     "output_type": "stream",
     "text": [
      "you got out!\n"
     ]
    }
   ],
   "source": [
    "where = input(\"Go left or right?\")\n",
    "while where == \"right\":\n",
    "    where = input(\"Go left or right?\")\n",
    "\n",
    "print(\"you got out!\")"
   ]
  },
  {
   "cell_type": "code",
   "execution_count": 3,
   "id": "171c2fbc-d37a-45b8-b46e-51a6592a3cdc",
   "metadata": {},
   "outputs": [
    {
     "name": "stdin",
     "output_type": "stream",
     "text": [
      "Enter a non-negative integer: 4\n"
     ]
    },
    {
     "name": "stdout",
     "output_type": "stream",
     "text": [
      "x\n",
      "x\n",
      "x\n",
      "x\n"
     ]
    }
   ],
   "source": [
    "n = int(input(\"Enter a non-negative integer:\"))\n",
    "while n > 0:\n",
    "    print('x')\n",
    "    n = n-1"
   ]
  },
  {
   "cell_type": "markdown",
   "id": "44196d06-af50-44fc-8f25-332b186f63d4",
   "metadata": {},
   "source": [
    "Try It"
   ]
  },
  {
   "cell_type": "code",
   "execution_count": 4,
   "id": "9aa17dd5-00bb-48f9-bab8-9808d8fde744",
   "metadata": {},
   "outputs": [
    {
     "name": "stdin",
     "output_type": "stream",
     "text": [
      "Go left or right? right\n",
      "Go left or right? right\n",
      "Go left or right? right\n"
     ]
    },
    {
     "name": "stdout",
     "output_type": "stream",
     "text": [
      ":(\n"
     ]
    },
    {
     "name": "stdin",
     "output_type": "stream",
     "text": [
      "Go left or right? right\n"
     ]
    },
    {
     "name": "stdout",
     "output_type": "stream",
     "text": [
      ":(\n"
     ]
    },
    {
     "name": "stdin",
     "output_type": "stream",
     "text": [
      "Go left or right? left\n"
     ]
    },
    {
     "name": "stdout",
     "output_type": "stream",
     "text": [
      "you got out!\n"
     ]
    }
   ],
   "source": [
    "n = 0\n",
    "where = input(\"Go left or right?\")\n",
    "while where == \"right\":\n",
    "    n = n + 1\n",
    "    if n > 2: \n",
    "        print(\":(\")\n",
    "    where = input(\"Go left or right?\")\n",
    "\n",
    "print(\"you got out!\")\n"
   ]
  },
  {
   "cell_type": "code",
   "execution_count": 5,
   "id": "538c7e19-24eb-4ffe-ba60-6dc3eb3beae4",
   "metadata": {},
   "outputs": [
    {
     "name": "stdout",
     "output_type": "stream",
     "text": [
      "0\n",
      "1\n",
      "2\n",
      "3\n",
      "4\n"
     ]
    }
   ],
   "source": [
    "n = 0\n",
    "while n < 5:\n",
    "    print(n)\n",
    "    n = n + 1"
   ]
  },
  {
   "cell_type": "code",
   "execution_count": 8,
   "id": "785dce43-4168-457e-b060-84a41625a4e9",
   "metadata": {},
   "outputs": [
    {
     "name": "stdout",
     "output_type": "stream",
     "text": [
      "Factorial of 5 is 120\n"
     ]
    }
   ],
   "source": [
    "x = 5\n",
    "i = 1\n",
    "factorial = 1\n",
    "while i <= x:\n",
    "    factorial *= i\n",
    "    i += 1 # i = i + 1\n",
    "print(f'Factorial of {x} is {factorial}')"
   ]
  },
  {
   "cell_type": "markdown",
   "id": "d7bea706-fb5c-4df8-8359-5903d05882f3",
   "metadata": {},
   "source": [
    "For Loop"
   ]
  },
  {
   "cell_type": "code",
   "execution_count": 11,
   "id": "872403f6-f008-4567-bc46-2044230e5cc3",
   "metadata": {},
   "outputs": [
    {
     "name": "stdout",
     "output_type": "stream",
     "text": [
      "0\n",
      "1\n",
      "2\n",
      "3\n",
      "4\n"
     ]
    }
   ],
   "source": [
    "for i in range(5): # lower bound 0 upper bound size - 1\n",
    "    print(i)"
   ]
  },
  {
   "cell_type": "markdown",
   "id": "90ec50b4-202e-4469-a8ba-b87fd64bd7e0",
   "metadata": {},
   "source": [
    "Try It"
   ]
  },
  {
   "cell_type": "code",
   "execution_count": 12,
   "id": "e276cf11-a812-49af-ba95-9d0048f4ceef",
   "metadata": {},
   "outputs": [
    {
     "name": "stdout",
     "output_type": "stream",
     "text": [
      "1\n",
      "2\n",
      "3\n"
     ]
    }
   ],
   "source": [
    "for i in range(1,4,1):\n",
    "    print(i)"
   ]
  },
  {
   "cell_type": "code",
   "execution_count": 14,
   "id": "91c7ab59-4561-4bdf-a762-d9423840975a",
   "metadata": {},
   "outputs": [
    {
     "name": "stdout",
     "output_type": "stream",
     "text": [
      "2\n",
      "6\n"
     ]
    }
   ],
   "source": [
    "for j in range(1,4,2): # 1 3\n",
    "    print(j*2)"
   ]
  },
  {
   "cell_type": "code",
   "execution_count": 23,
   "id": "b8385748-993b-483b-a872-9d091a86c0a5",
   "metadata": {},
   "outputs": [
    {
     "name": "stdout",
     "output_type": "stream",
     "text": [
      "$$$$\n",
      "$$$\n",
      "$$\n",
      "$\n"
     ]
    }
   ],
   "source": [
    "for me in range(4,0,-1): # 4 3 2 1 \n",
    "    print(\"$\"*me)"
   ]
  },
  {
   "cell_type": "code",
   "execution_count": 27,
   "id": "51ea7067-9edd-4f15-9734-27c1e82a433c",
   "metadata": {},
   "outputs": [
    {
     "name": "stdout",
     "output_type": "stream",
     "text": [
      "45\n"
     ]
    }
   ],
   "source": [
    "mysum = 0\n",
    "for i in range(10):\n",
    "    mysum += i\n",
    "\n",
    "print(mysum)"
   ]
  },
  {
   "cell_type": "code",
   "execution_count": 28,
   "id": "26a55d7c-04fc-42d1-9078-691c9c8b7818",
   "metadata": {},
   "outputs": [
    {
     "name": "stdout",
     "output_type": "stream",
     "text": [
      "7\n"
     ]
    }
   ],
   "source": [
    "mysum = 0\n",
    "start = 3\n",
    "end = 5\n",
    "for i in range(start, end): # 3 4\n",
    "    mysum += i\n",
    "\n",
    "print(mysum)"
   ]
  },
  {
   "cell_type": "code",
   "execution_count": 31,
   "id": "a53e5b7f-d676-4df4-9fa5-78b353f379f7",
   "metadata": {},
   "outputs": [
    {
     "name": "stdout",
     "output_type": "stream",
     "text": [
      "i = 3\n",
      "i = 4\n",
      "i = 5\n",
      "12\n"
     ]
    }
   ],
   "source": [
    "mysum = 0\n",
    "start = 3\n",
    "end = 5\n",
    "for i in range(start, end+1): # 3 4 5\n",
    "    print('i =', i)\n",
    "    mysum += i\n",
    "\n",
    "print(mysum)"
   ]
  },
  {
   "cell_type": "code",
   "execution_count": 34,
   "id": "2d7d6e0d-892f-41c6-9a88-ca51667d7b18",
   "metadata": {},
   "outputs": [
    {
     "name": "stdout",
     "output_type": "stream",
     "text": [
      "factorial is 24\n"
     ]
    }
   ],
   "source": [
    "x = 4\n",
    "factorial = 1\n",
    "for i in range(1,x+1):\n",
    "    factorial *= i\n",
    "print(f'factorial is {factorial}') "
   ]
  },
  {
   "cell_type": "code",
   "execution_count": null,
   "id": "f5e163d0-1c9d-4c4e-a8d0-b358999f4024",
   "metadata": {},
   "outputs": [],
   "source": []
  }
 ],
 "metadata": {
  "kernelspec": {
   "display_name": "Python 3 (ipykernel)",
   "language": "python",
   "name": "python3"
  },
  "language_info": {
   "codemirror_mode": {
    "name": "ipython",
    "version": 3
   },
   "file_extension": ".py",
   "mimetype": "text/x-python",
   "name": "python",
   "nbconvert_exporter": "python",
   "pygments_lexer": "ipython3",
   "version": "3.12.7"
  }
 },
 "nbformat": 4,
 "nbformat_minor": 5
}
