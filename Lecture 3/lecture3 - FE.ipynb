{
 "cells": [
  {
   "cell_type": "markdown",
   "id": "0df5af50-423d-4622-8ecc-a90bac21c770",
   "metadata": {},
   "source": [
    "## Finger Exercise Lecture 3"
   ]
  },
  {
   "cell_type": "markdown",
   "id": "ed489bb4-0fba-46a6-93c2-e2eba22f37cf",
   "metadata": {},
   "source": [
    "Assume you are given a positive integer variable named N. Write a piece of Python code that prints hello world on separate lines, N times. You can use either a while loop or a for loop."
   ]
  },
  {
   "cell_type": "code",
   "execution_count": 7,
   "id": "da4fde6f-4163-45b8-bbfa-ad90159f5f3a",
   "metadata": {},
   "outputs": [
    {
     "name": "stdin",
     "output_type": "stream",
     "text": [
      "Enter N:  5\n"
     ]
    },
    {
     "name": "stdout",
     "output_type": "stream",
     "text": [
      "Hello World!\n",
      "Hello World!\n",
      "Hello World!\n",
      "Hello World!\n",
      "Hello World!\n"
     ]
    }
   ],
   "source": [
    "n = int(input(\"Enter N: \"))\n",
    "for i in range(n):\n",
    "    print(\"Hello World!\")"
   ]
  },
  {
   "cell_type": "code",
   "execution_count": null,
   "id": "eb5d37f9-e219-4756-adc1-b4f8409a2253",
   "metadata": {},
   "outputs": [],
   "source": []
  }
 ],
 "metadata": {
  "kernelspec": {
   "display_name": "Python 3 (ipykernel)",
   "language": "python",
   "name": "python3"
  },
  "language_info": {
   "codemirror_mode": {
    "name": "ipython",
    "version": 3
   },
   "file_extension": ".py",
   "mimetype": "text/x-python",
   "name": "python",
   "nbconvert_exporter": "python",
   "pygments_lexer": "ipython3",
   "version": "3.12.7"
  }
 },
 "nbformat": 4,
 "nbformat_minor": 5
}
