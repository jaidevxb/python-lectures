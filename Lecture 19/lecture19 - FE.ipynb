{
 "cells": [
  {
   "cell_type": "markdown",
   "id": "5d64269c-9328-4232-8a17-f9ecd653b9c6",
   "metadata": {},
   "source": [
    "Finger Exercise Lecture 19\n",
    "\n",
    "In this problem, you will implement two classes according to the specification below: one Container class and one Stack class (a subclass of Container).\n",
    "\n",
    "Our Container class will initialize an empty list. The two methods we will have are to calculate the size of the list and to add an element. The second method will be inherited by the subclass. We now want to create a subclass so that we can add more functionality—the ability to remove elements from the list. A Stack will add elements to the list in the same way, but will behave differently when removing an element.\n",
    "\n",
    "A stack is a last-in, first-out data structure. Think of a stack of pancakes. As you make pancakes, you create a stack of them with older pancakes going on the bottom and newer pancakes on the top. As you start eating the pancakes, you pick one off the top so you are removing the newest pancake added to the stack. When implementing your Stack class, you will have to think about which end of your list contains the element that has been in the list the shortest amount of time. This is the element you will want to remove and return.\n",
    "\n"
   ]
  },
  {
   "cell_type": "code",
   "execution_count": 1,
   "id": "a417ca50-61aa-4006-8fdf-98c9cec8d34f",
   "metadata": {},
   "outputs": [],
   "source": [
    "class Container(object):\n",
    "    \"\"\"\n",
    "    A container object is a list and can store elements of any type\n",
    "    \"\"\"\n",
    "    def __init__(self):\n",
    "        \"\"\"\n",
    "        Initializes an empty list\n",
    "        \"\"\"\n",
    "        self.myList = []\n",
    "\n",
    "    def size(self):\n",
    "        \"\"\"\n",
    "        Returns the length of the container list\n",
    "        \"\"\"\n",
    "        # Your code here\n",
    "        return len(self.myList)\n",
    "\n",
    "    def add(self, elem):\n",
    "        \"\"\"\n",
    "        Adds the elem to one end of the container list, keeping the end\n",
    "        you add to consistent. Does not return anything\n",
    "        \"\"\"\n",
    "        # Your code here\n",
    "        self.myList.append(elem)\n",
    "\n",
    "class Stack(Container):\n",
    "    \"\"\"\n",
    "    A subclass of Container. Has an additional method to remove elements.\n",
    "    \"\"\"\n",
    "    def remove(self):\n",
    "        \"\"\"\n",
    "        The newest element in the container list is removed\n",
    "        Returns the element removed or None if the queue contains no elements\n",
    "        \"\"\"\n",
    "        # Your code here\n",
    "        if self.size() > 0:\n",
    "            return self.myList.pop()\n",
    "        return None"
   ]
  },
  {
   "cell_type": "code",
   "execution_count": null,
   "id": "97bb3e55-96d0-46bc-bd44-43c2c6e67e4c",
   "metadata": {},
   "outputs": [],
   "source": []
  }
 ],
 "metadata": {
  "kernelspec": {
   "display_name": "Python 3 (ipykernel)",
   "language": "python",
   "name": "python3"
  },
  "language_info": {
   "codemirror_mode": {
    "name": "ipython",
    "version": 3
   },
   "file_extension": ".py",
   "mimetype": "text/x-python",
   "name": "python",
   "nbconvert_exporter": "python",
   "pygments_lexer": "ipython3",
   "version": "3.12.7"
  }
 },
 "nbformat": 4,
 "nbformat_minor": 5
}
