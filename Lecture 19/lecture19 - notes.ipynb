{
 "cells": [
  {
   "cell_type": "code",
   "execution_count": 37,
   "id": "f55a91db-e6e1-4fd8-83b1-6d509630cd8f",
   "metadata": {},
   "outputs": [
    {
     "name": "stdout",
     "output_type": "stream",
     "text": [
      "animal:None age:6\n",
      "animal:None age:4\n",
      "6\n",
      "6\n",
      "fluffy\n",
      "fluffy\n",
      "animal:fluffy age:6\n",
      "\n"
     ]
    }
   ],
   "source": [
    "class Animal(object):\n",
    "    def __init__(self, age):\n",
    "        self.age = age\n",
    "        self.name = None\n",
    "    def __str__(self):\n",
    "        return \"animal:\" + str(self.name) + \" age:\" + str(self.age)\n",
    "    def get_age(self):\n",
    "        return self.age\n",
    "    def get_name(self):\n",
    "        return self.name\n",
    "    def set_age(self, newage):\n",
    "        self.age = newage\n",
    "    def set_name(self, newname = \"\"):\n",
    "        self.name = newname\n",
    "\n",
    "a = Animal(6)\n",
    "print(a)\n",
    "b = Animal(4)\n",
    "print(b)\n",
    "print(a.age)\n",
    "print(a.get_age())\n",
    "a.set_name(\"fluffy\")\n",
    "print(a.name)\n",
    "print(a.get_name())\n",
    "print(a)\n",
    "a.set_name()\n",
    "print(a.name)"
   ]
  },
  {
   "cell_type": "code",
   "execution_count": 38,
   "id": "fc482b80-8cad-4c71-8cdd-b6acecde5b17",
   "metadata": {},
   "outputs": [
    {
     "name": "stdout",
     "output_type": "stream",
     "text": [
      "animal:None age:6\n",
      "6\n"
     ]
    }
   ],
   "source": [
    "class Animal(object):\n",
    "    def __init__(self, age):\n",
    "        self.years = age # changed internal rep\n",
    "        self.name = None\n",
    "    def __str__(self):\n",
    "        return \"animal:\" + str(self.name) + \" age:\" + str(self.years)\n",
    "    def get_age(self):\n",
    "        return self.years\n",
    "    def get_name(self):\n",
    "        return self.name\n",
    "    def set_age(self, newage):\n",
    "        self.years = newage\n",
    "    def set_name(self, newname = \"\"):\n",
    "        self.name = newname\n",
    "\n",
    "a = Animal(6)\n",
    "print(a)\n",
    "# print(a.age) error\n",
    "print(a.get_age()) # works"
   ]
  },
  {
   "cell_type": "code",
   "execution_count": 39,
   "id": "27209bbd-622e-43f4-8e03-c1bd7a1d113e",
   "metadata": {},
   "outputs": [
    {
     "name": "stdout",
     "output_type": "stream",
     "text": [
      "key 0 with value animal:None age:0\n",
      "key 1 with value animal:None age:1\n",
      "key 5 with value animal:None age:5\n",
      "key 6 with value animal:None age:6\n"
     ]
    }
   ],
   "source": [
    "def animal_dict(L):\n",
    "    \"\"\"\n",
    "    L is a list\n",
    "    Returns a dict d mapping an int to an Animal object.\n",
    "    A key in d is all non-negative ints in L. A value corresponding to a key is an Animal object with n as its age. \n",
    "    \"\"\"\n",
    "    d = {}\n",
    "    for n in L:\n",
    "        if type(n) == int and n >= 0:\n",
    "            d[n] = Animal(n)\n",
    "    return d\n",
    "\n",
    "L = {1, 5, 6, 'a', 0}\n",
    "a = animal_dict(L)\n",
    "for n, animal in a.items():\n",
    "    print(f'key {n} with value {animal}')"
   ]
  },
  {
   "cell_type": "code",
   "execution_count": 40,
   "id": "bebcae79-2ae0-4fc2-bb32-9e612168fefa",
   "metadata": {},
   "outputs": [
    {
     "name": "stdout",
     "output_type": "stream",
     "text": [
      "animal:bob age:0\n",
      "animal:tommy age:1\n",
      "animal:jayydee age:2\n",
      "animal:hjayyy age:3\n"
     ]
    }
   ],
   "source": [
    "def make_animals(L1, L2):\n",
    "    L = []\n",
    "    for i in range(len(L1)):\n",
    "        if type(i) == int and i >= 0:\n",
    "            age = L1[i]\n",
    "            name = L2[i]\n",
    "            a = Animal(i)\n",
    "            a.set_name(name)\n",
    "            L.append(a)\n",
    "    return L\n",
    "\n",
    "L1 = [1, 5, 4, 0]\n",
    "L2 = ['bob', 'tommy', 'jayydee', 'hjayyy']\n",
    "a = make_animals(L1, L2)\n",
    "for i in a:\n",
    "    print(i)"
   ]
  },
  {
   "cell_type": "code",
   "execution_count": 73,
   "id": "f89de43b-8c69-4646-86cf-0291f3898eeb",
   "metadata": {},
   "outputs": [
    {
     "name": "stdout",
     "output_type": "stream",
     "text": [
      "cat:joishh age:5\n",
      "meow\n",
      "5\n",
      "\n",
      "person:harini age:18\n",
      "hello\n",
      "['jaidev']\n",
      "2 years difference\n",
      "\n",
      "student:alice age:20 major:CS\n",
      "student:beth age:18 major:None\n",
      "alice says:\n",
      "im still gooning\n",
      "beth says:\n",
      "im still gooning\n",
      "\n",
      "animal:None age:8\n",
      "00001\n",
      "None\n",
      "animal:None age:0\n"
     ]
    }
   ],
   "source": [
    "import random\n",
    "class Animal(object):\n",
    "    def __init__(self, age):\n",
    "        self.age = age\n",
    "        self.name = None\n",
    "    def __str__(self):\n",
    "        return \"animal:\" + str(self.name) + \" age:\" + str(self.age)\n",
    "    def get_age(self):\n",
    "        return self.age\n",
    "    def get_name(self):\n",
    "        return self.name\n",
    "    def set_age(self, newage):\n",
    "        self.age = newage\n",
    "    def set_name(self, newname = \"\"):\n",
    "        self.name = newname\n",
    "        \n",
    "class cat(Animal):\n",
    "    def speak(self):\n",
    "        print(\"meow\")\n",
    "    def __str__(self): # overriding \n",
    "        return \"cat:\" + str(self.name) + \" age:\" + str(self.age)\n",
    "\n",
    "class person(Animal):\n",
    "    def __init__(self, age, name):\n",
    "        Animal.__init__(self, age)\n",
    "        self.set_name(name)\n",
    "        self.friends = []\n",
    "    def get_friends(self):\n",
    "        return self.friends.copy()\n",
    "    def add_friend(self, fname):\n",
    "        if fname not in self.friends:\n",
    "            self.friends.append(fname)\n",
    "    def speak(self):\n",
    "        print(\"hello\")\n",
    "    def age_diff(self, other):\n",
    "        diff = self.age - other.age\n",
    "        print(abs(diff), \"years difference\")\n",
    "    def __str__(self):\n",
    "        return \"person:\" + str(self.name) + \" age:\" + str(self.age)\n",
    "        \n",
    "class student(person):\n",
    "    def __init__(self, age, name, major = None):\n",
    "        person.__init__(self, age, name)\n",
    "        self.major = major\n",
    "    def change_major(self, major):\n",
    "        self.major = major\n",
    "    def speak(self):\n",
    "        r = random.random() # gives float in [0, 1]\n",
    "        if r <= 0.25:\n",
    "            print(\"i have homework\")\n",
    "        elif r > 25 and r <= 50:\n",
    "            print(\"i need sleep\")\n",
    "        elif r > 50 and r <= 0.75:\n",
    "            print(\"i should eat\")\n",
    "        else:\n",
    "            print(\"im still gooning\")\n",
    "    def __str__(self):\n",
    "        return \"student:\" + str(self.name) + \" age:\" + str(self.age) + \" major:\" + str(self.major)\n",
    "\n",
    "class rabbit(Animal):\n",
    "    tag = 1\n",
    "    def __init__(self, age, Parent1 = None, Parent2 = None):\n",
    "        Animal.__init__(self, age)\n",
    "        self.Parent1 = Parent1\n",
    "        self.Parent2 = Parent2\n",
    "        self.rid = rabbit.tag\n",
    "        rabbit.tag += 1\n",
    "    def get_rid(self):\n",
    "        return str(self.rid).zfill(5)\n",
    "    def get_parent1(self):\n",
    "        return self.Parent1\n",
    "    def get_parent2(self):\n",
    "        return self.Parent2\n",
    "    def __add__(self, other):\n",
    "        return rabbit(0, self, other)\n",
    "        \n",
    "        \n",
    "c = cat(5)\n",
    "c.set_name(\"joishh\")\n",
    "print(c)\n",
    "c.speak()\n",
    "print(c.get_age())\n",
    "print()\n",
    "\n",
    "p = person(18, \"harini\")\n",
    "q = person(20, \"gaya3\")\n",
    "print(p)\n",
    "p.speak()\n",
    "p.add_friend(\"jaidev\")\n",
    "print(p.get_friends())\n",
    "p.age_diff(q)\n",
    "print()\n",
    "\n",
    "s1 = student(20, \"alice\", \"CS\")\n",
    "s2 = student(18, \"beth\")\n",
    "print(s1)\n",
    "print(s2)\n",
    "print(s1.get_name(), \"says:\")\n",
    "s1.speak()\n",
    "print(s2.get_name(), \"says:\")\n",
    "s2.speak()\n",
    "print()\n",
    "\n",
    "r1 = rabbit(8)\n",
    "r2 = rabbit(6)\n",
    "r3 = r1 + r2\n",
    "print(r1)\n",
    "print(r1.get_rid())\n",
    "print(r1.get_parent1())\n",
    "print(r3)\n"
   ]
  },
  {
   "cell_type": "code",
   "execution_count": 67,
   "id": "c97ad2bf-3515-4833-85b8-049eb3977b8e",
   "metadata": {},
   "outputs": [
    {
     "name": "stdout",
     "output_type": "stream",
     "text": [
      "ana:furrball\n",
      "james:fluffsphere\n"
     ]
    }
   ],
   "source": [
    "def make_pets(d):\n",
    "    \"\"\" \n",
    "    d is a dict mapping a Person obj to a Cat obj Prints, \n",
    "    on each line, the name of a person, a colon, and the name of that person's cat\n",
    "    \"\"\"\n",
    "    for k, v in d.items():\n",
    "        # k is person\n",
    "        # v is cat\n",
    "        print(k.get_name() + \":\" + v.get_name())\n",
    "p1 = person(25, \"ana\")\n",
    "p2 = person(40, \"james\")\n",
    "c1 = cat(1)\n",
    "c1.set_name(\"furrball\")\n",
    "c2 = cat(2)\n",
    "c2.set_name(\"fluffsphere\")\n",
    "d = {p1:c1, p2:c2}\n",
    "make_pets(d)"
   ]
  },
  {
   "cell_type": "code",
   "execution_count": null,
   "id": "f609d89b-73aa-412b-b5c3-859fdf1f28b7",
   "metadata": {},
   "outputs": [],
   "source": []
  }
 ],
 "metadata": {
  "kernelspec": {
   "display_name": "Python 3 (ipykernel)",
   "language": "python",
   "name": "python3"
  },
  "language_info": {
   "codemirror_mode": {
    "name": "ipython",
    "version": 3
   },
   "file_extension": ".py",
   "mimetype": "text/x-python",
   "name": "python",
   "nbconvert_exporter": "python",
   "pygments_lexer": "ipython3",
   "version": "3.12.7"
  }
 },
 "nbformat": 4,
 "nbformat_minor": 5
}
