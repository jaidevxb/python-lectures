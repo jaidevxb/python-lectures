{
 "cells": [
  {
   "cell_type": "markdown",
   "id": "f9ddc52c-f104-4c22-8a1c-a0d8d70b56f3",
   "metadata": {},
   "source": [
    "Dictionary"
   ]
  },
  {
   "cell_type": "code",
   "execution_count": 1,
   "id": "704903f1-25b2-4d69-bb87-e7661272f554",
   "metadata": {},
   "outputs": [
    {
     "name": "stdout",
     "output_type": "stream",
     "text": [
      "('Dia', 'B+')\n"
     ]
    }
   ],
   "source": [
    "# w/o dictionary\n",
    "def get_grade(s, Lstud, Lgrad):\n",
    "    i = Lstud.index(s)\n",
    "    g = Lgrad[i]\n",
    "    return (s, g)\n",
    "\n",
    "Lstud = [\"Jai\", \"Daksha\", \"Dia\", \"Kneev\", \"JS\"]\n",
    "Lgrad = [\"O\", \"A+\", \"B+\", \"O\", \"A\"]\n",
    "print(get_grade(\"Dia\", Lstud, Lgrad))"
   ]
  },
  {
   "cell_type": "code",
   "execution_count": 4,
   "id": "8ad49b5c-adb4-4730-ba44-01e4575550b9",
   "metadata": {},
   "outputs": [
    {
     "name": "stdout",
     "output_type": "stream",
     "text": [
      "('daksha', ['mq', [7, 7, 6]])\n",
      "('kneev', ['ps', [8, 3, 6]])\n"
     ]
    }
   ],
   "source": [
    "def get_grade(who, what, data):\n",
    "    for stud in data:\n",
    "        if stud[0] == who:\n",
    "            for info in stud[1:]:\n",
    "                if info[0] == what:\n",
    "                    return (who, info)\n",
    "\n",
    "jai = [\"jai\", ['ps', [10, 7, 9]], ['mq', [5, 6, 9]]]\n",
    "daksha = [\"daksha\", ['ps', [2, 5, 4]], ['mq', [7, 7, 6]]]\n",
    "kneev = [\"kneev\", ['ps', [8, 3, 6]], ['mq', [9, 6, 10]]]\n",
    "\n",
    "grades = [jai, daksha, kneev]\n",
    "\n",
    "print(get_grade(\"daksha\", \"mq\", grades))\n",
    "print(get_grade(\"kneev\", \"ps\", grades))"
   ]
  },
  {
   "cell_type": "code",
   "execution_count": 11,
   "id": "4acd0dc1-0d60-4ea1-9608-91137593c52c",
   "metadata": {},
   "outputs": [
    {
     "name": "stdout",
     "output_type": "stream",
     "text": [
      "['O', 'C', 'B+']\n"
     ]
    }
   ],
   "source": [
    "# dictionary - key,value pairs  key -> custom index\n",
    "def find_grades(grades, students):\n",
    "    \"\"\"\n",
    "    Inputs grades is a dict mapping student names (str) to grades (str)\n",
    "    students is a list of student names\n",
    "    Returns a list containing grades of students in same order\n",
    "    \"\"\"\n",
    "    ans = []\n",
    "    for i in students:\n",
    "        ans.append(grades[i])\n",
    "    return ans\n",
    "\n",
    "d = {'jai':'O', 'daksha':'A+', 'kneev':'B+', 'dia':'C'}\n",
    "print(find_grades(d, ['jai', 'dia', 'kneev']))"
   ]
  },
  {
   "cell_type": "code",
   "execution_count": 17,
   "id": "4dce7df0-2198-48fc-9036-909cfe0786c8",
   "metadata": {},
   "outputs": [
    {
     "name": "stdout",
     "output_type": "stream",
     "text": [
      "{'jai': 'O', 'daksha': 'A+', 'kneev': 'B+', 'dia': 'C', 'js': 'A'}\n",
      "{'jai': 'O', 'daksha': 'A+', 'kneev': 'B+', 'dia': 'C', 'js': 'B'}\n",
      "{'jai': 'O', 'daksha': 'A+', 'kneev': 'B+', 'dia': 'C'}\n",
      "True\n",
      "False\n"
     ]
    }
   ],
   "source": [
    "d = {'jai':'O', 'daksha':'A+', 'kneev':'B+', 'dia':'C'}\n",
    "\n",
    "# to add entry\n",
    "d['js'] = 'A'\n",
    "print(d)\n",
    "\n",
    "# to mutate\n",
    "d['js'] = 'B'\n",
    "print(d)\n",
    "\n",
    "# to del entry\n",
    "del(d['js'])\n",
    "print(d)\n",
    "\n",
    "# test if key in dict\n",
    "print('jai' in d)\n",
    "print('js' in d)"
   ]
  },
  {
   "cell_type": "code",
   "execution_count": 25,
   "id": "e6574dc1-05d3-428d-89fb-bd8022b5dc1b",
   "metadata": {},
   "outputs": [
    {
     "name": "stdout",
     "output_type": "stream",
     "text": [
      "True\n",
      "False\n"
     ]
    }
   ],
   "source": [
    "def find_in_L(Ld, k):\n",
    "    \"\"\"\n",
    "    Input Ld is a list of dicts\n",
    "    k is an int\n",
    "    Returns True if k is a key in any of dicts in Ld, False o/w\n",
    "    \"\"\"\n",
    "    for i in Ld:\n",
    "        if k in i:\n",
    "            return True\n",
    "    return False\n",
    "\n",
    "d1 = {1:3, 4:9, 7:4}\n",
    "d2 = {2:8, 5:1}\n",
    "d3 = {3:0, 6:5, 8:7, 9:2}\n",
    "Ld = [d1, d2, d3] \n",
    "print(find_in_L(Ld, 2))\n",
    "print(find_in_L(Ld, 25))"
   ]
  },
  {
   "cell_type": "code",
   "execution_count": 31,
   "id": "7a3037f0-33c5-4e3e-98f3-f8a1a7a96e05",
   "metadata": {},
   "outputs": [
    {
     "name": "stdout",
     "output_type": "stream",
     "text": [
      "dict_keys([1, 4, 7])\n",
      "[1, 4, 7]\n",
      "dict_values([3, 9, 4])\n",
      "[3, 9, 4]\n",
      "dict_items([(1, 3), (4, 9), (7, 4)])\n",
      "[(1, 3), (4, 9), (7, 4)]\n",
      "key 1 has value 3\n",
      "key 4 has value 9\n",
      "key 7 has value 4\n"
     ]
    }
   ],
   "source": [
    "d1 = {1:3, 4:9, 7:4}\n",
    "print(d1.keys())\n",
    "print(list(d1.keys()))\n",
    "\n",
    "print(d1.values())\n",
    "print(list(d1.values()))\n",
    "\n",
    "print(d1.items()) # (key, value) -> to iterate\n",
    "print(list(d1.items()))\n",
    "\n",
    "for k,v in d1.items():\n",
    "    print(f\"key {k} has value {v}\")"
   ]
  },
  {
   "cell_type": "code",
   "execution_count": 5,
   "id": "fc155f87-30c4-4715-841d-9346c4e4c4a4",
   "metadata": {},
   "outputs": [
    {
     "name": "stdout",
     "output_type": "stream",
     "text": [
      "0\n",
      "2\n"
     ]
    },
    {
     "data": {
      "text/plain": [
       "{1: 2, 2: 2, 'a': 'a'}"
      ]
     },
     "execution_count": 5,
     "metadata": {},
     "output_type": "execute_result"
    }
   ],
   "source": [
    "def count_matches(d):\n",
    "    \"\"\"\n",
    "    Input d is a dict\n",
    "    Returns how many entries in d have key equal to its value\n",
    "    \"\"\"\n",
    "    count = 0\n",
    "    for k,v in d.items():\n",
    "        if k == v:\n",
    "            count += 1\n",
    "    return count\n",
    "\n",
    "d = {1:2, 2:4, 3:6}\n",
    "print(count_matches(d))\n",
    "d1 = {1:2, 2:2, 'a':'a'}\n",
    "print(count_matches(d1))\n",
    "\n",
    "d2 = d1.copy()\n",
    "d2"
   ]
  },
  {
   "cell_type": "code",
   "execution_count": 11,
   "id": "d4179e90-8a64-49ff-a956-81da4f87a2cf",
   "metadata": {},
   "outputs": [
    {
     "name": "stdout",
     "output_type": "stream",
     "text": [
      "7.666666666666667\n"
     ]
    }
   ],
   "source": [
    "def get_average(data, what):\n",
    "    all_data = []\n",
    "    for stud in data.keys():\n",
    "        all_data = all_data + data[stud][what]\n",
    "    return sum(all_data) / len(all_data)\n",
    "\n",
    "my_d = {\" jai\": {'ps': [10], 'mq': [5, 9]},\n",
    "        \"dia\": {'ps':[20], 'mq': [7, 6]},\n",
    "        \"kneev\": {'ps':[15], 'mq': [9, 10]}} \n",
    "print(get_average(my_d, 'mq'))"
   ]
  },
  {
   "cell_type": "markdown",
   "id": "0d59fedc-649c-4590-aa85-07255529fdb1",
   "metadata": {},
   "source": [
    "Find most common words in a Song"
   ]
  },
  {
   "cell_type": "code",
   "execution_count": 23,
   "id": "b3eac786-0444-47ab-9c3e-c4608174f9ff",
   "metadata": {},
   "outputs": [
    {
     "name": "stdout",
     "output_type": "stream",
     "text": [
      "{'rah': 2, 'ah': 3, 'rom': 1, 'mah': 3, 'ro': 1}\n"
     ]
    }
   ],
   "source": [
    "song = \"RAH RAH AH AH AH ROM MAH RO MAH MAH\"\n",
    "\n",
    "def generate_word_dict(song):\n",
    "    song_words = song.lower()\n",
    "    words_list = song_words.split()\n",
    "    word_dict = {}\n",
    "\n",
    "    for w in words_list:\n",
    "        if w in word_dict:\n",
    "            word_dict[w] += 1\n",
    "        else:\n",
    "            word_dict[w] = 1\n",
    "\n",
    "    return word_dict\n",
    "\n",
    "print(generate_word_dict(song))"
   ]
  },
  {
   "cell_type": "code",
   "execution_count": 24,
   "id": "c53d646c-8a85-452c-9808-280ddbbdc33d",
   "metadata": {},
   "outputs": [
    {
     "name": "stdout",
     "output_type": "stream",
     "text": [
      "(['ah', 'mah'], 3)\n"
     ]
    }
   ],
   "source": [
    "word_dict = {'rah':2, 'ah':3, 'rom':1, 'mah':3, 'ro':1}\n",
    "\n",
    "def find_frequent_word(word_dict):\n",
    "    words = []\n",
    "    highest = max(word_dict.values())  # Find the highest frequency value\n",
    "    for k, v in word_dict.items():\n",
    "        if v == highest:\n",
    "            words.append(k)  # Add all keys with the highest value\n",
    "    return (words, highest)\n",
    "    \n",
    "print(find_frequent_word(word_dict))"
   ]
  },
  {
   "cell_type": "code",
   "execution_count": 25,
   "id": "a912ff6a-d9d0-4ff5-85fb-6c0d2383eb3f",
   "metadata": {},
   "outputs": [
    {
     "name": "stdout",
     "output_type": "stream",
     "text": [
      "[(['ah', 'mah'], 3), (['rah'], 2)]\n"
     ]
    }
   ],
   "source": [
    "def occurs_often(word_dict, x):\n",
    "    freq_list = []\n",
    "    word_freq_tuple = find_frequent_word(word_dict)  # (['ah', 'mah'], 3)\n",
    "\n",
    "    while word_freq_tuple[1] > x:  # Loop while frequency is higher than x\n",
    "        word_freq_tuple = find_frequent_word(word_dict)\n",
    "        freq_list.append(word_freq_tuple)\n",
    "\n",
    "        for word in word_freq_tuple[0]:  # Remove words already processed\n",
    "            del(word_dict[word])\n",
    "\n",
    "    return freq_list\n",
    "    \n",
    "print(occurs_often(word_dict, 2))"
   ]
  },
  {
   "cell_type": "code",
   "execution_count": null,
   "id": "4645ab6b-2bec-419b-95bc-ab4fd95c320f",
   "metadata": {},
   "outputs": [],
   "source": []
  }
 ],
 "metadata": {
  "kernelspec": {
   "display_name": "Python 3 (ipykernel)",
   "language": "python",
   "name": "python3"
  },
  "language_info": {
   "codemirror_mode": {
    "name": "ipython",
    "version": 3
   },
   "file_extension": ".py",
   "mimetype": "text/x-python",
   "name": "python",
   "nbconvert_exporter": "python",
   "pygments_lexer": "ipython3",
   "version": "3.12.7"
  }
 },
 "nbformat": 4,
 "nbformat_minor": 5
}
