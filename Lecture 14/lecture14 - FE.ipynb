{
 "cells": [
  {
   "cell_type": "markdown",
   "id": "5d718371-2e46-434b-a595-12a069957e25",
   "metadata": {},
   "source": [
    "### Finger Exercise Lecture 14\n"
   ]
  },
  {
   "cell_type": "markdown",
   "id": "4980e506-d508-431f-bdcf-0d56e5bb5dd4",
   "metadata": {},
   "source": [
    "Question 1: Implement the function that meets the specifications below:\n",
    "\n"
   ]
  },
  {
   "cell_type": "code",
   "execution_count": 1,
   "id": "1bd34b36-c1ed-4edc-9d66-0ee6e58f0113",
   "metadata": {},
   "outputs": [
    {
     "name": "stdout",
     "output_type": "stream",
     "text": [
      "[1, 5]\n"
     ]
    }
   ],
   "source": [
    "def keys_with_value(aDict, target):\n",
    "    \"\"\"\n",
    "    aDict: a dictionary\n",
    "    target: an integer or string\n",
    "    Assume that keys and values in aDict are integers or strings.\n",
    "    Returns a sorted list of the keys in aDict with the value target.\n",
    "    If aDict does not contain the value target, returns an empty list.\n",
    "    \"\"\"\n",
    "    # Your code here\n",
    "    result = [key for key in aDict if aDict[key] == target]\n",
    "    return sorted(result)\n",
    "\n",
    "# Examples:\n",
    "aDict = {1:2, 2:4, 5:2}\n",
    "target = 2   \n",
    "print(keys_with_value(aDict, target)) # prints the list [1,5]"
   ]
  },
  {
   "cell_type": "markdown",
   "id": "2d50dd5f-ec7f-4756-b905-aa60e36ff594",
   "metadata": {},
   "source": [
    "Question 2: Implement the function that meets the specifications below:\n",
    "\n"
   ]
  },
  {
   "cell_type": "code",
   "execution_count": 4,
   "id": "8fdb9cd4-b430-4ba1-b285-b058e62b0a5c",
   "metadata": {},
   "outputs": [
    {
     "name": "stdout",
     "output_type": "stream",
     "text": [
      "[1, 2]\n"
     ]
    }
   ],
   "source": [
    "def all_positive(d):\n",
    "    \"\"\"\n",
    "    d is a dictionary that maps int:list\n",
    "    Suppose an element in d is a key k mapping to value v (a non-empty list).\n",
    "    Returns the sorted list of all k whose v elements sums up to a \n",
    "    positive value.\n",
    "    \"\"\"\n",
    "    # Your code here  \n",
    "    result = [key for key in d if sum(d[key]) > 0]\n",
    "    return sorted(result)\n",
    "    \n",
    "# Examples:\n",
    "d = {5:[2,-4], 2:[1,2,3], 1:[2]}\n",
    "print(all_positive(d))   # prints the list [1, 2]"
   ]
  },
  {
   "cell_type": "code",
   "execution_count": null,
   "id": "53a1e8d2-b957-431c-a75e-458c205efd9c",
   "metadata": {},
   "outputs": [],
   "source": []
  }
 ],
 "metadata": {
  "kernelspec": {
   "display_name": "Python 3 (ipykernel)",
   "language": "python",
   "name": "python3"
  },
  "language_info": {
   "codemirror_mode": {
    "name": "ipython",
    "version": 3
   },
   "file_extension": ".py",
   "mimetype": "text/x-python",
   "name": "python",
   "nbconvert_exporter": "python",
   "pygments_lexer": "ipython3",
   "version": "3.12.7"
  }
 },
 "nbformat": 4,
 "nbformat_minor": 5
}
