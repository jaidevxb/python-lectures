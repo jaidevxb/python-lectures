{
 "cells": [
  {
   "cell_type": "markdown",
   "id": "8d5958f1-7781-4cba-828c-e65225593858",
   "metadata": {},
   "source": [
    "### Finger Exercise Lecture 6"
   ]
  },
  {
   "cell_type": "markdown",
   "id": "7596a6a1-8c09-45d6-b7d7-70cff0b4dcd3",
   "metadata": {},
   "source": [
    "Assume you are given an integer 0 \\<= N \\\\<= 1000. Write a piece of Python code that uses bisection search to guess N. The code prints two lines: count: with how many guesses it took to find N, and answer: with the value of N. Hints: If the halfway value is exactly in between two integers, choose the smaller one."
   ]
  },
  {
   "cell_type": "code",
   "execution_count": 1,
   "id": "f0c6b414-9880-4437-90f1-80b2ab53a5d3",
   "metadata": {},
   "outputs": [
    {
     "name": "stdin",
     "output_type": "stream",
     "text": [
      "Enter a number between 0 and 1000 : 250\n"
     ]
    },
    {
     "name": "stdout",
     "output_type": "stream",
     "text": [
      "No.of guesses: 9\n",
      "Answer : 250\n"
     ]
    }
   ],
   "source": [
    "N = int(input(\"Enter a number between 0 and 1000 :\"))\n",
    "low = 0\n",
    "high = 1000\n",
    "guess_cnt = 0\n",
    "while low <= high:\n",
    "    guess_cnt += 1\n",
    "    mid = (low + high) // 2\n",
    "    if mid == N:\n",
    "        print(f\"No.of guesses: {guess_cnt}\")\n",
    "        print(f\"Answer : {mid}\")\n",
    "        break\n",
    "    elif mid < N:\n",
    "        low = mid + 1\n",
    "    else:\n",
    "        high = mid - 1"
   ]
  },
  {
   "cell_type": "code",
   "execution_count": null,
   "id": "927e421f-5675-4678-a91b-614516929c73",
   "metadata": {},
   "outputs": [],
   "source": []
  }
 ],
 "metadata": {
  "kernelspec": {
   "display_name": "Python 3 (ipykernel)",
   "language": "python",
   "name": "python3"
  },
  "language_info": {
   "codemirror_mode": {
    "name": "ipython",
    "version": 3
   },
   "file_extension": ".py",
   "mimetype": "text/x-python",
   "name": "python",
   "nbconvert_exporter": "python",
   "pygments_lexer": "ipython3",
   "version": "3.12.7"
  }
 },
 "nbformat": 4,
 "nbformat_minor": 5
}
