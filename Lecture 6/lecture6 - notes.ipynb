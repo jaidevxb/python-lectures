{
 "cells": [
  {
   "cell_type": "markdown",
   "id": "2faffa6e-d40a-4047-9d13-bed585e14b28",
   "metadata": {},
   "source": [
    "## Bisection Search Square Root"
   ]
  },
  {
   "cell_type": "code",
   "execution_count": 1,
   "id": "1b5a0887-2dcc-4f2d-9461-6faf4a78bb0f",
   "metadata": {},
   "outputs": [
    {
     "name": "stdout",
     "output_type": "stream",
     "text": [
      "No.of guesses: 30\n",
      "square root of 54321 is close to 233.06866218941286\n"
     ]
    }
   ],
   "source": [
    "x = 54321\n",
    "epsilon = 0.01\n",
    "n = 0\n",
    "low = 0\n",
    "high = x\n",
    "guess = (low + high) / 2\n",
    "increment = 0.0001\n",
    "while abs(guess**2 - x) >= epsilon :\n",
    "    if guess**2 < x:\n",
    "        low = guess\n",
    "    else:\n",
    "        high = guess\n",
    "    guess = (low + high) / 2\n",
    "    n += 1\n",
    "print(f\"No.of guesses: {n}\")\n",
    "print(f\"square root of {x} is close to {guess}\")"
   ]
  },
  {
   "cell_type": "code",
   "execution_count": 2,
   "id": "21196ffe-b302-475b-b608-eff4e2d5fc3f",
   "metadata": {},
   "outputs": [
    {
     "name": "stdout",
     "output_type": "stream",
     "text": [
      "No.of guesses: 4\n",
      "square root of 0.5 is close to 0.703125\n"
     ]
    }
   ],
   "source": [
    "# handle value between 0 and 1\n",
    "x = 0.5\n",
    "epsilon = 0.01\n",
    "n = 0\n",
    "if x>= 1:\n",
    "    low = 1\n",
    "    high = x\n",
    "else:\n",
    "    low = x\n",
    "    high = 1\n",
    "guess = (low + high) / 2\n",
    "while abs(guess**2 - x) >= epsilon :\n",
    "    if guess**2<x:\n",
    "        low = guess\n",
    "    else:\n",
    "        high = guess\n",
    "    guess = (low + high) / 2\n",
    "    n += 1\n",
    "print(f\"No.of guesses: {n}\")\n",
    "print(f\"square root of {x} is close to {guess}\")\n"
   ]
  },
  {
   "cell_type": "markdown",
   "id": "fe042f23-f281-4060-bf46-3f750e9ecd35",
   "metadata": {},
   "source": [
    "##### Try It: Cube root using Bisection Search"
   ]
  },
  {
   "cell_type": "code",
   "execution_count": 3,
   "id": "7e49cc37-9608-4974-bfdb-a7bea6b0c542",
   "metadata": {},
   "outputs": [
    {
     "name": "stdout",
     "output_type": "stream",
     "text": [
      "No.of guesses: 14\n",
      "cube root of 27 is close to 3.00030517578125\n"
     ]
    }
   ],
   "source": [
    "cube = 27\n",
    "epsilon = 0.01\n",
    "n=0\n",
    "if cube >= 1:\n",
    "    low = 1\n",
    "    high = cube\n",
    "else:\n",
    "    high = 1\n",
    "    low = cube\n",
    "guess = (high + low) / 2\n",
    "while abs(guess**3- cube) > epsilon:\n",
    "    if guess**3 > cube:\n",
    "        high = guess\n",
    "    else:\n",
    "        low = guess\n",
    "    n+= 1\n",
    "    guess = (high + low) / 2\n",
    "print(f\"No.of guesses: {n}\")\n",
    "print(f\"cube root of {cube} is close to {guess}\")"
   ]
  },
  {
   "cell_type": "markdown",
   "id": "63dd03f6-42d6-472d-9523-b6ace699f8ae",
   "metadata": {},
   "source": [
    "#### Newton-Raphson Square Root Algo (polynomial)"
   ]
  },
  {
   "cell_type": "code",
   "execution_count": null,
   "id": "6db95582-c631-4983-b7d3-5d3936967fd9",
   "metadata": {},
   "outputs": [],
   "source": [
    "epsilon = 0.01\n",
    "k = 24.0\n",
    "num_guesses = 0\n",
    "guess = k/2.0\n",
    "\n",
    "while abs(guess*guess - k) >= epsilon: \n",
    "    num_guesses +=1\n",
    "    guess = guess - ((guess**2) - k)/(2*guess)\n",
    "print('num_guesses =', str(num_guesses))\n",
    "print('square root of' + str(k) +'is about ' + str(guess))"
   ]
  }
 ],
 "metadata": {
  "kernelspec": {
   "display_name": "Python 3 (ipykernel)",
   "language": "python",
   "name": "python3"
  },
  "language_info": {
   "codemirror_mode": {
    "name": "ipython",
    "version": 3
   },
   "file_extension": ".py",
   "mimetype": "text/x-python",
   "name": "python",
   "nbconvert_exporter": "python",
   "pygments_lexer": "ipython3",
   "version": "3.12.7"
  }
 },
 "nbformat": 4,
 "nbformat_minor": 5
}
