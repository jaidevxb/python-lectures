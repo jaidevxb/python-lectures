{
 "cells": [
  {
   "cell_type": "code",
   "execution_count": 35,
   "id": "7df34969-0f53-4294-8c8b-9455f8dc0eb8",
   "metadata": {},
   "outputs": [
    {
     "name": "stdout",
     "output_type": "stream",
     "text": [
      "10\n"
     ]
    }
   ],
   "source": [
    "# w for loop\n",
    "def mult_for(a, b):\n",
    "    total = 0\n",
    "    for i in range(b):\n",
    "        total += a\n",
    "    return total\n",
    "print(mult_for(5, 2))"
   ]
  },
  {
   "cell_type": "code",
   "execution_count": 36,
   "id": "2abaa02a-e964-4509-a6c2-f29b470a9add",
   "metadata": {},
   "outputs": [
    {
     "name": "stdout",
     "output_type": "stream",
     "text": [
      "10\n"
     ]
    }
   ],
   "source": [
    "# w while loop\n",
    "def mult_while(a, b):\n",
    "    total = 0\n",
    "    while (b > 0):\n",
    "        total += a\n",
    "        b -= 1\n",
    "    return total\n",
    "print(mult_while(5, 2))"
   ]
  },
  {
   "cell_type": "code",
   "execution_count": 37,
   "id": "d08aee7b-bd27-417e-ab09-7151fca13a0c",
   "metadata": {},
   "outputs": [
    {
     "name": "stdout",
     "output_type": "stream",
     "text": [
      "10\n"
     ]
    }
   ],
   "source": [
    "# w recursion\n",
    "def mult_recur(a, b):\n",
    "    if b == 0: return 0\n",
    "    return a + mult(a, b-1)\n",
    "print(mult_recur(5, 2))"
   ]
  },
  {
   "cell_type": "code",
   "execution_count": 26,
   "id": "02d8b275-d10a-4c7b-8131-3ed7a58fdfba",
   "metadata": {},
   "outputs": [
    {
     "name": "stdout",
     "output_type": "stream",
     "text": [
      "32\n"
     ]
    }
   ],
   "source": [
    "def power_recur(n, p):\n",
    "    if p == 0:\n",
    "        return 1\n",
    "    elif p == 1: # multiple base cases\n",
    "        return n\n",
    "    else:\n",
    "        return n * power_recur(n, p - 1)\n",
    "print(power_recur(2, 5))"
   ]
  },
  {
   "cell_type": "code",
   "execution_count": 30,
   "id": "0d592f51-7830-4c31-8005-9979dd5cc840",
   "metadata": {},
   "outputs": [
    {
     "name": "stdout",
     "output_type": "stream",
     "text": [
      "120\n"
     ]
    }
   ],
   "source": [
    "def fact_recur(n):\n",
    "    if n == 1:\n",
    "        return 1\n",
    "    else:\n",
    "        return n * fact_recur(n - 1)\n",
    "print(fact_recur(5))"
   ]
  },
  {
   "cell_type": "code",
   "execution_count": 34,
   "id": "6bda1cdc-f596-4d97-995f-bfe8f54e6e7a",
   "metadata": {},
   "outputs": [
    {
     "name": "stdout",
     "output_type": "stream",
     "text": [
      "120\n"
     ]
    }
   ],
   "source": [
    "def fact_iter(n):\n",
    "    fact = 1\n",
    "    for i in range(1, n + 1):\n",
    "        fact *= i\n",
    "    return fact\n",
    "print(fact_iter(5))"
   ]
  },
  {
   "cell_type": "code",
   "execution_count": null,
   "id": "d121362d-4960-4b8f-845f-ce36e20c30a1",
   "metadata": {},
   "outputs": [],
   "source": []
  }
 ],
 "metadata": {
  "kernelspec": {
   "display_name": "Python 3 (ipykernel)",
   "language": "python",
   "name": "python3"
  },
  "language_info": {
   "codemirror_mode": {
    "name": "ipython",
    "version": 3
   },
   "file_extension": ".py",
   "mimetype": "text/x-python",
   "name": "python",
   "nbconvert_exporter": "python",
   "pygments_lexer": "ipython3",
   "version": "3.12.7"
  }
 },
 "nbformat": 4,
 "nbformat_minor": 5
}
