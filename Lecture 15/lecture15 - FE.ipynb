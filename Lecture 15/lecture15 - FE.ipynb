{
 "cells": [
  {
   "cell_type": "markdown",
   "id": "8e74d176-08d1-4dd4-8334-e6c8a9001574",
   "metadata": {},
   "source": [
    "### Finger Exercise Lecture 15\n"
   ]
  },
  {
   "cell_type": "markdown",
   "id": "d487bc54-7030-4801-9a8b-596379243ceb",
   "metadata": {},
   "source": [
    "Implement the function that meets the specifications below:\n",
    "\n"
   ]
  },
  {
   "cell_type": "code",
   "execution_count": 8,
   "id": "8e63b6f1-9126-49ee-8ee4-e17a3c0977d1",
   "metadata": {},
   "outputs": [
    {
     "name": "stdout",
     "output_type": "stream",
     "text": [
      "32\n"
     ]
    }
   ],
   "source": [
    "def recur_power(base, exp):\n",
    "    \"\"\"\n",
    "    base: int or float.\n",
    "    exp: int >= 0\n",
    "\n",
    "    Returns base to the power of exp using recursion.\n",
    "    Hint: Base case is when exp = 0. Otherwise, in the recursive\n",
    "    case you return base * base^(exp-1).\n",
    "    \"\"\"\n",
    "    # Your code here  \n",
    "    if exp == 0:\n",
    "        return 1\n",
    "    else:\n",
    "        return base * recur_power(base, exp - 1)\n",
    "# Examples:\n",
    "print(recur_power(2,5))  # prints 32"
   ]
  },
  {
   "cell_type": "code",
   "execution_count": null,
   "id": "5c8929c2-a4bb-4587-9cd7-295504dc259c",
   "metadata": {},
   "outputs": [],
   "source": []
  }
 ],
 "metadata": {
  "kernelspec": {
   "display_name": "Python 3 (ipykernel)",
   "language": "python",
   "name": "python3"
  },
  "language_info": {
   "codemirror_mode": {
    "name": "ipython",
    "version": 3
   },
   "file_extension": ".py",
   "mimetype": "text/x-python",
   "name": "python",
   "nbconvert_exporter": "python",
   "pygments_lexer": "ipython3",
   "version": "3.12.7"
  }
 },
 "nbformat": 4,
 "nbformat_minor": 5
}
