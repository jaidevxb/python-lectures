{
 "cells": [
  {
   "cell_type": "markdown",
   "id": "5d750d96-4f02-43b5-aa21-f17bea03bccb",
   "metadata": {},
   "source": [
    "#### Finger Exercise Lecture 11"
   ]
  },
  {
   "cell_type": "markdown",
   "id": "24cd62c3-6151-4b87-81aa-76999b0116ea",
   "metadata": {},
   "source": [
    "Implement the function that meets the specifications below:"
   ]
  },
  {
   "cell_type": "code",
   "execution_count": 3,
   "id": "214bf315-3db1-4481-956e-17b4d83a0577",
   "metadata": {},
   "outputs": [
    {
     "name": "stdout",
     "output_type": "stream",
     "text": [
      "[3, 6]\n"
     ]
    }
   ],
   "source": [
    "def remove_and_sort(Lin, k):\n",
    "    \"\"\" Lin is a list of ints\n",
    "        k is an int >= 0\n",
    "    Mutates Lin to remove the first k elements in Lin and \n",
    "    then sorts the remaining elements in ascending order.\n",
    "    If you run out of items to remove, Lin is mutated to an empty list.\n",
    "    Does not return anything.\n",
    "    \"\"\"\n",
    "    # Your code here  \n",
    "    del(Lin[:k])\n",
    "    Lin.sort()\n",
    "    \n",
    "# Examples:\n",
    "L = [1,6,3]\n",
    "k = 1\n",
    "remove_and_sort(L, k)\n",
    "print(L)   # prints the list [3, 6]"
   ]
  },
  {
   "cell_type": "code",
   "execution_count": null,
   "id": "9fdb958c-cf9b-4973-a1a4-0e7c5c3c04a2",
   "metadata": {},
   "outputs": [],
   "source": []
  }
 ],
 "metadata": {
  "kernelspec": {
   "display_name": "Python 3 (ipykernel)",
   "language": "python",
   "name": "python3"
  },
  "language_info": {
   "codemirror_mode": {
    "name": "ipython",
    "version": 3
   },
   "file_extension": ".py",
   "mimetype": "text/x-python",
   "name": "python",
   "nbconvert_exporter": "python",
   "pygments_lexer": "ipython3",
   "version": "3.12.7"
  }
 },
 "nbformat": 4,
 "nbformat_minor": 5
}
