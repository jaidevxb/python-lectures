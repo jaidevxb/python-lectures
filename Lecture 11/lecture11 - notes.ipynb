{
 "cells": [
  {
   "cell_type": "markdown",
   "id": "f209356d-0742-4e4d-bf96-9dbbe5aeeab9",
   "metadata": {},
   "source": [
    "CLONING"
   ]
  },
  {
   "cell_type": "code",
   "execution_count": 88,
   "id": "d436b889-9002-483d-aa5a-87007d57e980",
   "metadata": {},
   "outputs": [
    {
     "name": "stdout",
     "output_type": "stream",
     "text": [
      "[4, 5, 6]\n"
     ]
    }
   ],
   "source": [
    "L = [4, 5, 6]\n",
    "Lcopy = L[:]\n",
    "print(Lcopy)"
   ]
  },
  {
   "cell_type": "code",
   "execution_count": 89,
   "id": "91b9fcfe-08b7-4d38-b1cc-aa8df5cabb17",
   "metadata": {},
   "outputs": [
    {
     "name": "stdout",
     "output_type": "stream",
     "text": [
      "[2, 3, 4, 5]\n"
     ]
    }
   ],
   "source": [
    "def remove_all(L, e):\n",
    "    \"\"\"\n",
    "    Input L is a list\n",
    "    Mutates L to remove all elements in L that are equal to e\n",
    "    Returns None\n",
    "    \"\"\"\n",
    "    Lnew = L[:]\n",
    "    L.clear() # remove all elements\n",
    "    for i in Lnew:\n",
    "        if i != e:\n",
    "            L.append(i)\n",
    "    return L\n",
    "\n",
    "print(remove_all([1, 1, 1, 2, 3, 4, 5, 1], 1))"
   ]
  },
  {
   "cell_type": "markdown",
   "id": "a8ef2c86-ee82-4d11-8396-5811f759c48b",
   "metadata": {},
   "source": [
    "Remove element from list"
   ]
  },
  {
   "cell_type": "code",
   "execution_count": 90,
   "id": "4efca688-61e7-4df9-97a4-b6246f9b5821",
   "metadata": {},
   "outputs": [
    {
     "data": {
      "text/plain": [
       "[1, 5, 7, 12, 15, 20, 9, 13]"
      ]
     },
     "execution_count": 90,
     "metadata": {},
     "output_type": "execute_result"
    }
   ],
   "source": [
    "L = [1, 2, 5, 7, 12, 15, 20, 9, 13]\n",
    "del(L[1]) # del(L[index])\n",
    "L"
   ]
  },
  {
   "cell_type": "code",
   "execution_count": 91,
   "id": "e25ccc47-a120-4080-8d2d-c133d89aa5ba",
   "metadata": {},
   "outputs": [
    {
     "data": {
      "text/plain": [
       "[1, 5, 7, 12, 15, 9, 13]"
      ]
     },
     "execution_count": 91,
     "metadata": {},
     "output_type": "execute_result"
    }
   ],
   "source": [
    "L.remove(20) # L.remove(element)\n",
    "L"
   ]
  },
  {
   "cell_type": "code",
   "execution_count": 92,
   "id": "2b2b370a-3676-4462-ad0e-aec79e801f7d",
   "metadata": {},
   "outputs": [
    {
     "name": "stdout",
     "output_type": "stream",
     "text": [
      "13\n"
     ]
    },
    {
     "data": {
      "text/plain": [
       "[1, 5, 7, 12, 15, 9]"
      ]
     },
     "execution_count": 92,
     "metadata": {},
     "output_type": "execute_result"
    }
   ],
   "source": [
    "print(L.pop()) # removes the last elements and returns it\n",
    "L"
   ]
  },
  {
   "cell_type": "code",
   "execution_count": 93,
   "id": "8c428959-f7cf-4c7e-9fe5-07c5eb8d78e1",
   "metadata": {},
   "outputs": [
    {
     "name": "stdout",
     "output_type": "stream",
     "text": [
      "12\n"
     ]
    },
    {
     "data": {
      "text/plain": [
       "[1, 5, 7, 15, 9]"
      ]
     },
     "execution_count": 93,
     "metadata": {},
     "output_type": "execute_result"
    }
   ],
   "source": [
    "print(L.pop(3)) # pop using index L.pop(index)\n",
    "L"
   ]
  },
  {
   "cell_type": "code",
   "execution_count": 94,
   "id": "3003ed1c-40ea-419c-8e1a-a07b9213954c",
   "metadata": {},
   "outputs": [
    {
     "data": {
      "text/plain": [
       "[]"
      ]
     },
     "execution_count": 94,
     "metadata": {},
     "output_type": "execute_result"
    }
   ],
   "source": [
    "L.clear()\n",
    "L"
   ]
  },
  {
   "cell_type": "code",
   "execution_count": 95,
   "id": "ce3303a6-405c-4edc-b269-d2053e35ab51",
   "metadata": {},
   "outputs": [
    {
     "name": "stdout",
     "output_type": "stream",
     "text": [
      "[2, 1, 1]\n"
     ]
    }
   ],
   "source": [
    "# with remove instead of copy & clear\n",
    "def remove_all1(L, e):\n",
    "    for i in L:\n",
    "        if i == e:\n",
    "            L.remove(e) # after removing the remaining elements shift left and pointer moves to next\n",
    "    return L\n",
    "print(remove_all1([2, 1, 1, 1, 1], 1)) "
   ]
  },
  {
   "cell_type": "code",
   "execution_count": 96,
   "id": "94c5f4e2-a40c-41f5-b664-b2a5526c9919",
   "metadata": {},
   "outputs": [
    {
     "name": "stdout",
     "output_type": "stream",
     "text": [
      "[2]\n"
     ]
    }
   ],
   "source": [
    "def remove_all1(L, e):\n",
    "    while e in L:\n",
    "        L.remove(e)\n",
    "    return L\n",
    "print(remove_all1([2, 1, 1, 1, 1], 1)) "
   ]
  },
  {
   "cell_type": "code",
   "execution_count": 97,
   "id": "0f6fd331-73b8-4a33-8e30-e097c0146046",
   "metadata": {},
   "outputs": [
    {
     "name": "stdout",
     "output_type": "stream",
     "text": [
      "[20, 30, 40]\n"
     ]
    }
   ],
   "source": [
    "# tricky example - 4\n",
    "# wrong\n",
    "def remove_dups(L1, L2):\n",
    "    for e in L1:  # loop never sees the element 20\n",
    "        if e in L2:\n",
    "            L1.remove(e)\n",
    "\n",
    "L1 = [10, 20, 30, 40]\n",
    "L2 = [10, 20, 50, 60]\n",
    "remove_dups(L1, L2)\n",
    "print(L1)"
   ]
  },
  {
   "cell_type": "code",
   "execution_count": 98,
   "id": "33a4f94e-a58b-46c9-a59d-7eea12e797c6",
   "metadata": {},
   "outputs": [],
   "source": [
    "# Make clone using copy"
   ]
  },
  {
   "cell_type": "code",
   "execution_count": 99,
   "id": "f6fd24ab-6541-4552-97fb-0b5387f5750b",
   "metadata": {},
   "outputs": [
    {
     "name": "stdout",
     "output_type": "stream",
     "text": [
      "[30, 40]\n"
     ]
    }
   ],
   "source": [
    "def remove_dups(L1, L2):\n",
    "    L1new = L1[:]\n",
    "    for e in L1new:  # iterate over copy mutates og list\n",
    "        if e in L2:\n",
    "            L1.remove(e)\n",
    "\n",
    "L1 = [10, 20, 30, 40]\n",
    "L2 = [10, 20, 50, 60]\n",
    "remove_dups(L1, L2)\n",
    "print(L1)"
   ]
  },
  {
   "cell_type": "markdown",
   "id": "de56a61c-a077-4beb-ba2f-46616b7b6a35",
   "metadata": {},
   "source": [
    "ALIASING -> = on mutable obj creates alias not clone"
   ]
  },
  {
   "cell_type": "code",
   "execution_count": 100,
   "id": "d0bf3a9d-d0d2-43de-b3e3-6e49327e3597",
   "metadata": {},
   "outputs": [
    {
     "name": "stdout",
     "output_type": "stream",
     "text": [
      "[20, 30, 40]\n"
     ]
    }
   ],
   "source": [
    "def remove_dups(L1, L2):\n",
    "    L1new = L1 # just giving another name\n",
    "    for e in L1new:\n",
    "        if e in L2:\n",
    "            L1.remove(e)\n",
    "\n",
    "L1 = [10, 20, 30, 40]\n",
    "L2 = [10, 20, 50, 60]\n",
    "remove_dups(L1, L2)\n",
    "print(L1)"
   ]
  },
  {
   "cell_type": "markdown",
   "id": "a443bdef-116f-4567-8140-4b22089ac15f",
   "metadata": {},
   "source": [
    "Actual parameter from calling statement is an alias for Formal parameter in function definition - only when the parameters are mutable type objects"
   ]
  },
  {
   "cell_type": "code",
   "execution_count": 101,
   "id": "a354a87e-bd28-459b-bc47-0a275086c82b",
   "metadata": {},
   "outputs": [
    {
     "name": "stdout",
     "output_type": "stream",
     "text": [
      "[20, 30, 40]\n"
     ]
    }
   ],
   "source": [
    "# L1, L2 are alias of La and Lb\n",
    "def remove_dups(L1, L2):\n",
    "    L1new = L1 # just giving another name\n",
    "    for e in L1new:\n",
    "        if e in L2:\n",
    "            L1.remove(e)\n",
    "\n",
    "La = [10, 20, 30, 40]\n",
    "Lb = [10, 20, 50, 60]\n",
    "remove_dups(La, Lb)\n",
    "print(La)"
   ]
  },
  {
   "cell_type": "code",
   "execution_count": 102,
   "id": "fab2ce2b-0705-4b51-9345-341671fc0814",
   "metadata": {},
   "outputs": [
    {
     "name": "stdout",
     "output_type": "stream",
     "text": [
      "New list  [[1, 2], [3, 4], [5, 6]]\n",
      "Old list  [[1, 2], [3, 4], [5, 6]]\n"
     ]
    }
   ],
   "source": [
    "old_list = [[1,2],[3,4],[5,'foo']]\n",
    "new_list = old_list\n",
    "\n",
    "new_list[2][1] = 6\n",
    "\n",
    "print(\"New list \",new_list)\n",
    "print(\"Old list \",old_list)"
   ]
  },
  {
   "cell_type": "code",
   "execution_count": 103,
   "id": "5b1b1d2f-6739-4ba8-9618-28d019d20cad",
   "metadata": {},
   "outputs": [
    {
     "name": "stdout",
     "output_type": "stream",
     "text": [
      "New list  [[1, 2], [3, 9], [5, 6]]\n",
      "Old list  [[1, 2], [3, 9], [5, 6], [10, 20]]\n"
     ]
    }
   ],
   "source": [
    "# shallow copy -> copies top level (similar to Lcopy[:]\n",
    "import copy\n",
    "old_list = [[1,2],[3,4],[5,6]]\n",
    "new_list = copy.copy(old_list)\n",
    "old_list.append([10, 20])\n",
    "old_list[1][1] = 9 # new_list also mutated\n",
    "\n",
    "print(\"New list \",new_list)\n",
    "print(\"Old list \",old_list)"
   ]
  },
  {
   "cell_type": "code",
   "execution_count": 104,
   "id": "94c1ef47-b6f9-4a3b-9162-964b98b6d091",
   "metadata": {},
   "outputs": [
    {
     "name": "stdout",
     "output_type": "stream",
     "text": [
      "New list  [[1, 2], [3, 4], [5, 6]]\n",
      "Old list  [[1, 2], [3, 9], [5, 6], [10, 20]]\n"
     ]
    }
   ],
   "source": [
    "# deep copy -> copies all levels \n",
    "import copy\n",
    "old_list = [[1,2],[3,4],[5,6]]\n",
    "new_list = copy.deepcopy(old_list)\n",
    "old_list.append([10, 20])\n",
    "old_list[1][1] = 9 # new_list is not mutated\n",
    "\n",
    "print(\"New list \",new_list)\n",
    "print(\"Old list \",old_list)"
   ]
  }
 ],
 "metadata": {
  "kernelspec": {
   "display_name": "Python 3 (ipykernel)",
   "language": "python",
   "name": "python3"
  },
  "language_info": {
   "codemirror_mode": {
    "name": "ipython",
    "version": 3
   },
   "file_extension": ".py",
   "mimetype": "text/x-python",
   "name": "python",
   "nbconvert_exporter": "python",
   "pygments_lexer": "ipython3",
   "version": "3.12.7"
  }
 },
 "nbformat": 4,
 "nbformat_minor": 5
}
