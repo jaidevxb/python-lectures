{
 "cells": [
  {
   "cell_type": "markdown",
   "id": "4c6b0177-35ab-47f1-87aa-38c3c4e3cebf",
   "metadata": {},
   "source": [
    "## Finger Exercise Lecture 9"
   ]
  },
  {
   "cell_type": "markdown",
   "id": "3d3641b2-a81e-487d-81cb-d8dcf4f07e31",
   "metadata": {},
   "source": [
    "Implement the function that meets the specifications below:"
   ]
  },
  {
   "cell_type": "code",
   "execution_count": 3,
   "id": "ad08172e-79de-46bd-879b-cd4a7387e3f4",
   "metadata": {},
   "outputs": [
    {
     "name": "stdout",
     "output_type": "stream",
     "text": [
      "(3, 32)\n"
     ]
    }
   ],
   "source": [
    "def dot_product(tA, tB):\n",
    "    \"\"\"\n",
    "    tA: a tuple of numbers\n",
    "    tB: a tuple of numbers of the same length as tA\n",
    "    Assumes tA and tB are the same length.\n",
    "    Returns a tuple where the:\n",
    "    * first element is the length of one of the tuples\n",
    "    * second element is the sum of the pairwise products of tA and tB\n",
    "    \"\"\"\n",
    "    # Your code here\n",
    "    length = len(tA)\n",
    "    dot_product_sum = 0\n",
    "    for i in range(length):\n",
    "        dot_product_sum += tA[i] * tB[i]\n",
    "    return (length, dot_product_sum)\n",
    "    \n",
    "# Examples:\n",
    "tA = (1, 2, 3)\n",
    "tB = (4, 5, 6)   \n",
    "print(dot_product(tA, tB)) # prints (3,32)"
   ]
  },
  {
   "cell_type": "code",
   "execution_count": null,
   "id": "bd95307e-4e24-48ae-ab04-f312095c1320",
   "metadata": {},
   "outputs": [],
   "source": []
  }
 ],
 "metadata": {
  "kernelspec": {
   "display_name": "Python 3 (ipykernel)",
   "language": "python",
   "name": "python3"
  },
  "language_info": {
   "codemirror_mode": {
    "name": "ipython",
    "version": 3
   },
   "file_extension": ".py",
   "mimetype": "text/x-python",
   "name": "python",
   "nbconvert_exporter": "python",
   "pygments_lexer": "ipython3",
   "version": "3.12.7"
  }
 },
 "nbformat": 4,
 "nbformat_minor": 5
}
