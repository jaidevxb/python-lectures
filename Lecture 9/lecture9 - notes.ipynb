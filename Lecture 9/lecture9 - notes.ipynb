{
 "cells": [
  {
   "cell_type": "code",
   "execution_count": 12,
   "id": "d72b783b-168f-480a-856b-92c5b53167ac",
   "metadata": {},
   "outputs": [
    {
     "name": "stdout",
     "output_type": "stream",
     "text": [
      "apply with is_even : 5\n",
      "apply with anon fn : 5\n"
     ]
    }
   ],
   "source": [
    "def apply(criteria, n):\n",
    "    \"\"\"\n",
    "    Input: criteria, Function that checks a condition\n",
    "           n, a positive int\n",
    "    Return: how many ints from 0 to n satisfy criteria\n",
    "    \"\"\"\n",
    "    count = 0\n",
    "    for i in range(1, n + 1):\n",
    "        if criteria(i):\n",
    "            count += 1\n",
    "    return count\n",
    "\n",
    "def is_even(n):\n",
    "    return n%2 == 0\n",
    "\n",
    "def is_5(n):\n",
    "    return n == 5\n",
    "\n",
    "print(\"apply with is_even :\", apply(is_even, 10))\n",
    "print(\"apply with anon fn :\", apply(lambda x: x%2 == 0, 10)) "
   ]
  },
  {
   "cell_type": "code",
   "execution_count": 13,
   "id": "c1c33314-9fb2-4c15-ad32-d0c8e6230967",
   "metadata": {},
   "outputs": [
    {
     "data": {
      "text/plain": [
       "True"
      ]
     },
     "execution_count": 13,
     "metadata": {},
     "output_type": "execute_result"
    }
   ],
   "source": [
    "not is_even(5)"
   ]
  },
  {
   "cell_type": "code",
   "execution_count": 14,
   "id": "5e0838a9-aaea-43f9-907e-78c9c428d4c1",
   "metadata": {},
   "outputs": [
    {
     "data": {
      "text/plain": [
       "True"
      ]
     },
     "execution_count": 14,
     "metadata": {},
     "output_type": "execute_result"
    }
   ],
   "source": [
    "(lambda x: x%2 != 0)(5)"
   ]
  },
  {
   "cell_type": "code",
   "execution_count": 15,
   "id": "650634c3-dfc6-450d-8dab-41c18fa02610",
   "metadata": {},
   "outputs": [
    {
     "name": "stdout",
     "output_type": "stream",
     "text": [
      "81\n"
     ]
    }
   ],
   "source": [
    "def do_twice(n, fn):\n",
    "    \"\"\"\n",
    "    Input: fn, Function that is to be applied twice on the input n\n",
    "           n, a positive int\n",
    "    Return: value after applying fn twice on n\n",
    "    \"\"\"\n",
    "    return fn(fn(n))\n",
    "    \n",
    "print(do_twice(3, lambda x: x**2))"
   ]
  },
  {
   "cell_type": "markdown",
   "id": "45bd7651-1cdc-4f6e-8b5b-d4eff7422256",
   "metadata": {},
   "source": [
    "Tuples"
   ]
  },
  {
   "cell_type": "code",
   "execution_count": 16,
   "id": "62fdac3e-a46a-4493-91de-78f8b0a189f3",
   "metadata": {},
   "outputs": [
    {
     "data": {
      "text/plain": [
       "2028"
      ]
     },
     "execution_count": 16,
     "metadata": {},
     "output_type": "execute_result"
    }
   ],
   "source": [
    "t = (2028, 'eee', True)\n",
    "t[0]"
   ]
  },
  {
   "cell_type": "code",
   "execution_count": 17,
   "id": "1c0ccb78-36af-40f8-a07f-d365985545e5",
   "metadata": {},
   "outputs": [],
   "source": [
    "t = t + (18, 'cbe')"
   ]
  },
  {
   "cell_type": "code",
   "execution_count": 18,
   "id": "5823fb69-5b6e-4538-8935-bedc219e79ee",
   "metadata": {},
   "outputs": [
    {
     "data": {
      "text/plain": [
       "('eee', True)"
      ]
     },
     "execution_count": 18,
     "metadata": {},
     "output_type": "execute_result"
    }
   ],
   "source": [
    "t[1:3]"
   ]
  },
  {
   "cell_type": "code",
   "execution_count": 19,
   "id": "1958656c-fa50-4566-8e0f-a789494f7591",
   "metadata": {},
   "outputs": [
    {
     "data": {
      "text/plain": [
       "(2028, True, 'cbe')"
      ]
     },
     "execution_count": 19,
     "metadata": {},
     "output_type": "execute_result"
    }
   ],
   "source": [
    "t[::2]"
   ]
  },
  {
   "cell_type": "code",
   "execution_count": 20,
   "id": "a1d7a0b6-8870-411f-b6ba-452beaeb7695",
   "metadata": {},
   "outputs": [
    {
     "data": {
      "text/plain": [
       "5"
      ]
     },
     "execution_count": 20,
     "metadata": {},
     "output_type": "execute_result"
    }
   ],
   "source": [
    "len(t)"
   ]
  },
  {
   "cell_type": "code",
   "execution_count": 21,
   "id": "8f1a6ca9-8364-41a4-9cb4-92331c314cb8",
   "metadata": {},
   "outputs": [
    {
     "name": "stdout",
     "output_type": "stream",
     "text": [
      "30\n",
      "2\n"
     ]
    }
   ],
   "source": [
    "tm = (10, 5, 30)\n",
    "print(max(tm))\n",
    "print(tm.index(max(tm)))"
   ]
  },
  {
   "cell_type": "code",
   "execution_count": 22,
   "id": "2f540f53-4788-475b-90a1-6742ad2c0870",
   "metadata": {},
   "outputs": [
    {
     "ename": "TypeError",
     "evalue": "'tuple' object does not support item assignment",
     "output_type": "error",
     "traceback": [
      "\u001b[1;31m---------------------------------------------------------------------------\u001b[0m",
      "\u001b[1;31mTypeError\u001b[0m                                 Traceback (most recent call last)",
      "Cell \u001b[1;32mIn[22], line 1\u001b[0m\n\u001b[1;32m----> 1\u001b[0m \u001b[43mt\u001b[49m\u001b[43m[\u001b[49m\u001b[38;5;241;43m1\u001b[39;49m\u001b[43m]\u001b[49m \u001b[38;5;241m=\u001b[39m \u001b[38;5;241m20\u001b[39m \u001b[38;5;66;03m# immutable\u001b[39;00m\n",
      "\u001b[1;31mTypeError\u001b[0m: 'tuple' object does not support item assignment"
     ]
    }
   ],
   "source": [
    "t[1] = 20 # immutable"
   ]
  },
  {
   "cell_type": "code",
   "execution_count": 23,
   "id": "f6e5fd66-aebf-4f0d-a21e-9a8f34bfbf17",
   "metadata": {},
   "outputs": [
    {
     "name": "stdout",
     "output_type": "stream",
     "text": [
      "<class 'int'> <class 'tuple'>\n"
     ]
    }
   ],
   "source": [
    "a = (10)\n",
    "b = (10,)\n",
    "print(type(a),type(b))"
   ]
  },
  {
   "cell_type": "code",
   "execution_count": 24,
   "id": "001fac73-fc28-4ea8-8a8d-3924ffa97dbf",
   "metadata": {},
   "outputs": [
    {
     "name": "stdout",
     "output_type": "stream",
     "text": [
      "('subtuple', 5)\n",
      "('subtuple', 5)\n",
      "subtuple\n",
      "5\n",
      "(20, ('subtuple', 5))\n",
      "10 20 abc ('subtuple', 5) eee "
     ]
    }
   ],
   "source": [
    "seq = (10, 20, 'abc', ('subtuple', 5), 'eee')\n",
    "print(seq[-2])\n",
    "print(seq[3])\n",
    "print(seq[-2][0])\n",
    "print(seq[3][1])\n",
    "print(seq[1:4:2])\n",
    "for i in seq:\n",
    "    print(i, end=\" \")"
   ]
  },
  {
   "cell_type": "code",
   "execution_count": 25,
   "id": "92c0886a-d219-4c52-b84a-43e0ddf79945",
   "metadata": {},
   "outputs": [
    {
     "name": "stdout",
     "output_type": "stream",
     "text": [
      "20 10\n"
     ]
    }
   ],
   "source": [
    "x = 10\n",
    "y = 20\n",
    "(x, y) = (y, x)\n",
    "print(x, y)"
   ]
  },
  {
   "cell_type": "code",
   "execution_count": 26,
   "id": "176da62e-092e-426a-9e6d-2bdd4d68d251",
   "metadata": {},
   "outputs": [
    {
     "name": "stdout",
     "output_type": "stream",
     "text": [
      "quotient and remainder of (10, 2) : (5, 0)\n",
      "quotient of (10, 2) : 5\n",
      "remainder of (10, 2) : 0\n",
      "5\n",
      "0\n"
     ]
    }
   ],
   "source": [
    "def q_and_r(a, b):\n",
    "    q = a // b\n",
    "    r = a % b\n",
    "    return (q, r)\n",
    "    \n",
    "print(\"quotient and remainder of (10, 2) :\",q_and_r(10, 2))\n",
    "answer = q_and_r(10, 2)\n",
    "print(\"quotient of (10, 2) :\", answer[0])\n",
    "print(\"remainder of (10, 2) :\", answer[1])\n",
    "(q, r) = q_and_r(10, 2)\n",
    "print(q)\n",
    "print(r)"
   ]
  },
  {
   "cell_type": "code",
   "execution_count": 27,
   "id": "c42125ad-387e-4d47-bcc0-91f66e6a7d1f",
   "metadata": {},
   "outputs": [
    {
     "name": "stdout",
     "output_type": "stream",
     "text": [
      "no. of vowels and consonants in \"Jaidev\" is : (3, 3)\n"
     ]
    }
   ],
   "source": [
    "def count_chars(s):\n",
    "    \"\"\"\n",
    "    Input s is a string of lowercase characters\n",
    "    Returns a tuple where 1st element is the no. of vowels in s\n",
    "    and 2nd element is no. of consonants in s\n",
    "    \"\"\"\n",
    "    v = 0\n",
    "    c = 0\n",
    "    for i in s:\n",
    "        if i in \"aeiou\":\n",
    "            v += 1\n",
    "        else:\n",
    "            c += 1\n",
    "    return (v, c)\n",
    "\n",
    "print(\"no. of vowels and consonants in \\\"Jaidev\\\" is :\", count_chars(\"Jaidev\"))"
   ]
  },
  {
   "cell_type": "code",
   "execution_count": 28,
   "id": "a24b0ea0-2c51-43ce-be50-f8f4b1a528d4",
   "metadata": {},
   "outputs": [
    {
     "name": "stdout",
     "output_type": "stream",
     "text": [
      "mean of (1, 2, 3, 4, 5) : 3\n"
     ]
    }
   ],
   "source": [
    "def mean(*args):\n",
    "    tot = 0\n",
    "    for i in args:\n",
    "        tot += i\n",
    "    return tot // len(args)\n",
    "\n",
    "print(\"mean of (1, 2, 3, 4, 5) :\", mean(1, 2, 3, 4, 5))"
   ]
  },
  {
   "cell_type": "markdown",
   "id": "1e8e5fee-0f8b-4fcc-a972-f8548e2d806f",
   "metadata": {},
   "source": [
    " Lists -> same as tuple but mutable"
   ]
  },
  {
   "cell_type": "code",
   "execution_count": 29,
   "id": "31028447-9dc4-4c86-adaa-df1e8fc57f00",
   "metadata": {},
   "outputs": [
    {
     "name": "stdout",
     "output_type": "stream",
     "text": [
      "60\n"
     ]
    },
    {
     "ename": "TypeError",
     "evalue": "unsupported operand type(s) for +=: 'int' and 'str'",
     "output_type": "error",
     "traceback": [
      "\u001b[1;31m---------------------------------------------------------------------------\u001b[0m",
      "\u001b[1;31mTypeError\u001b[0m                                 Traceback (most recent call last)",
      "Cell \u001b[1;32mIn[29], line 8\u001b[0m\n\u001b[0;32m      5\u001b[0m     \u001b[38;5;28;01mreturn\u001b[39;00m \u001b[38;5;28msum\u001b[39m\n\u001b[0;32m      7\u001b[0m \u001b[38;5;28mprint\u001b[39m(\u001b[38;5;28msum\u001b[39m([\u001b[38;5;241m10\u001b[39m, \u001b[38;5;241m20\u001b[39m, \u001b[38;5;241m30\u001b[39m]))\n\u001b[1;32m----> 8\u001b[0m \u001b[38;5;28mprint\u001b[39m(\u001b[38;5;28;43msum\u001b[39;49m\u001b[43m(\u001b[49m\u001b[43m[\u001b[49m\u001b[38;5;124;43m'\u001b[39;49m\u001b[38;5;124;43mab\u001b[39;49m\u001b[38;5;124;43m'\u001b[39;49m\u001b[43m,\u001b[49m\u001b[43m \u001b[49m\u001b[38;5;124;43m'\u001b[39;49m\u001b[38;5;124;43mef\u001b[39;49m\u001b[38;5;124;43m'\u001b[39;49m\u001b[43m,\u001b[49m\u001b[43m \u001b[49m\u001b[38;5;124;43m'\u001b[39;49m\u001b[38;5;124;43mcd\u001b[39;49m\u001b[38;5;124;43m'\u001b[39;49m\u001b[43m]\u001b[49m\u001b[43m)\u001b[49m)\n",
      "Cell \u001b[1;32mIn[29], line 4\u001b[0m, in \u001b[0;36msum\u001b[1;34m(alist)\u001b[0m\n\u001b[0;32m      2\u001b[0m \u001b[38;5;28msum\u001b[39m \u001b[38;5;241m=\u001b[39m \u001b[38;5;241m0\u001b[39m\n\u001b[0;32m      3\u001b[0m \u001b[38;5;28;01mfor\u001b[39;00m i \u001b[38;5;129;01min\u001b[39;00m alist:\n\u001b[1;32m----> 4\u001b[0m     \u001b[38;5;28;43msum\u001b[39;49m\u001b[43m \u001b[49m\u001b[38;5;241;43m+\u001b[39;49m\u001b[38;5;241;43m=\u001b[39;49m\u001b[43m \u001b[49m\u001b[43mi\u001b[49m\n\u001b[0;32m      5\u001b[0m \u001b[38;5;28;01mreturn\u001b[39;00m \u001b[38;5;28msum\u001b[39m\n",
      "\u001b[1;31mTypeError\u001b[0m: unsupported operand type(s) for +=: 'int' and 'str'"
     ]
    }
   ],
   "source": [
    "def sum(alist):\n",
    "    sum = 0\n",
    "    for i in alist:\n",
    "        sum += i\n",
    "    return sum\n",
    "\n",
    "print(sum([10, 20, 30]))\n",
    "print(sum(['ab', 'ef', 'cd']))"
   ]
  },
  {
   "cell_type": "code",
   "execution_count": 30,
   "id": "4a8a2aaf-03a8-4d29-bfc2-6226ed81e3fc",
   "metadata": {},
   "outputs": [
    {
     "name": "stdout",
     "output_type": "stream",
     "text": [
      "6\n"
     ]
    }
   ],
   "source": [
    " def sum_char(alist):\n",
    "    sum = 0\n",
    "    for s in alist:\n",
    "        sum += len(s) # adds len of each element(str) of list\n",
    "    return sum\n",
    "print(sum_char(['ab', 'ef', 'cd']))"
   ]
  },
  {
   "cell_type": "code",
   "execution_count": 31,
   "id": "b8099215-4cbc-413f-9e8e-e07542d79f82",
   "metadata": {},
   "outputs": [
    {
     "name": "stdout",
     "output_type": "stream",
     "text": [
      "(15, 60)\n"
     ]
    }
   ],
   "source": [
    "def sum_and_prod(L):\n",
    "    \"\"\"\n",
    "    Input L is list of numbers\n",
    "    Returns a tuple where 1st element is the sum of all elements in L\n",
    "    and 2nd element is product of all elements in L\n",
    "    \"\"\"\n",
    "    summ = 0\n",
    "    prod = 1\n",
    "    for i in L:\n",
    "        summ += i\n",
    "        prod *= i\n",
    "    return (summ, prod)\n",
    "print(sum_and_prod([10, 2, 3]))"
   ]
  },
  {
   "cell_type": "code",
   "execution_count": null,
   "id": "0b0a0d04-cec1-4c6b-90af-33fc5796b84b",
   "metadata": {},
   "outputs": [],
   "source": []
  },
  {
   "cell_type": "code",
   "execution_count": null,
   "id": "24a753f6-f155-4d2c-bc9e-a867287ba3a8",
   "metadata": {},
   "outputs": [],
   "source": []
  },
  {
   "cell_type": "code",
   "execution_count": null,
   "id": "b146fa80-b1ba-4449-aac3-f965de3fd2fd",
   "metadata": {},
   "outputs": [],
   "source": []
  },
  {
   "cell_type": "code",
   "execution_count": null,
   "id": "d15a3454-dd3c-4376-b2db-84258d9fe496",
   "metadata": {},
   "outputs": [],
   "source": []
  },
  {
   "cell_type": "code",
   "execution_count": null,
   "id": "8a8a98b5-ed35-44e5-9f75-e93bae877556",
   "metadata": {},
   "outputs": [],
   "source": []
  },
  {
   "cell_type": "code",
   "execution_count": null,
   "id": "d2c2dd91-ff9e-40d3-85e7-8c9da921b7e4",
   "metadata": {},
   "outputs": [],
   "source": []
  }
 ],
 "metadata": {
  "kernelspec": {
   "display_name": "Python 3 (ipykernel)",
   "language": "python",
   "name": "python3"
  },
  "language_info": {
   "codemirror_mode": {
    "name": "ipython",
    "version": 3
   },
   "file_extension": ".py",
   "mimetype": "text/x-python",
   "name": "python",
   "nbconvert_exporter": "python",
   "pygments_lexer": "ipython3",
   "version": "3.12.7"
  }
 },
 "nbformat": 4,
 "nbformat_minor": 5
}
