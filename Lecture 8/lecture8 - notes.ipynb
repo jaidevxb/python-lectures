{
 "cells": [
  {
   "cell_type": "code",
   "execution_count": 2,
   "id": "23e44cd8-e943-45b4-9894-d34a7a12b4b4",
   "metadata": {},
   "outputs": [
    {
     "name": "stdout",
     "output_type": "stream",
     "text": [
      "with return\n",
      "True\n"
     ]
    }
   ],
   "source": [
    "def is_even_with_return(i):\n",
    "    \"\"\"\n",
    "    Input: i, a positive integer\n",
    "    Returns True if i is even, otherwise False\n",
    "    \"\"\"\n",
    "    print(\"with return\")\n",
    "    remainder = i % 2\n",
    "    return remainder == 0\n",
    "\n",
    "print(is_even_with_return(30))"
   ]
  },
  {
   "cell_type": "code",
   "execution_count": 6,
   "id": "d5834861-a3c9-4a8c-a8a8-5d985ce75f48",
   "metadata": {},
   "outputs": [
    {
     "name": "stdout",
     "output_type": "stream",
     "text": [
      "without return\n",
      "False\n"
     ]
    }
   ],
   "source": [
    "def is_even_without_return(i):\n",
    "    \"\"\"\n",
    "    Input: i, a positive integer\n",
    "    Returns None\n",
    "    \"\"\"\n",
    "    print(\"without return\")\n",
    "    remainder = i % 2\n",
    "    has_rem = (remainder == 0)\n",
    "    print(has_rem)\n",
    "\n",
    "is_even_without_return(15)"
   ]
  },
  {
   "cell_type": "code",
   "execution_count": 67,
   "id": "7edae336-7e1b-4428-b40f-9246c91b6f94",
   "metadata": {},
   "outputs": [
    {
     "name": "stdout",
     "output_type": "stream",
     "text": [
      "3\n"
     ]
    }
   ],
   "source": [
    "def add(x, y):\n",
    "    return x + y\n",
    "print(add(1, 2))\n",
    "# add(2, 5) line replaced as 7 but doesnt print"
   ]
  },
  {
   "cell_type": "code",
   "execution_count": 17,
   "id": "156539f1-9958-4600-855e-1e0423f57b7b",
   "metadata": {},
   "outputs": [
    {
     "name": "stdout",
     "output_type": "stream",
     "text": [
      "6\n",
      "None\n",
      "5\n"
     ]
    }
   ],
   "source": [
    "def mult(x, y):\n",
    "    print(x * y)\n",
    "print(mult(2, 3)) # prints 6 and None\n",
    "mult(1, 5)"
   ]
  },
  {
   "cell_type": "code",
   "execution_count": 51,
   "id": "fd246ce4-2b20-4ec6-993b-bcc474539121",
   "metadata": {},
   "outputs": [
    {
     "name": "stdout",
     "output_type": "stream",
     "text": [
      "5.0\n"
     ]
    }
   ],
   "source": [
    "def div(x, y):\n",
    "    if y != 0:\n",
    "        return x/y\n",
    "    print(\"denominator was 0\")\n",
    "\n",
    "print(div(10, 2))"
   ]
  },
  {
   "cell_type": "code",
   "execution_count": 22,
   "id": "b9701fb7-a42d-46fb-a8e7-dd66ffc4a79a",
   "metadata": {},
   "outputs": [
    {
     "name": "stdout",
     "output_type": "stream",
     "text": [
      "is 6 triangular? True\n",
      "is 5 triangular? False\n"
     ]
    }
   ],
   "source": [
    "def is_triangular(n):\n",
    "    \"\"\" \n",
    "    Input: n is an integer > 0\n",
    "    Return: True if n is triangular, i.e. Equals a continued summation of natural numbers\n",
    "            otherwise, False\n",
    "    \"\"\"\n",
    "    total = 0\n",
    "    for i in range(1, n+1):\n",
    "        total += i\n",
    "        if total == n:\n",
    "            return True\n",
    "    return False\n",
    "print(f\"is 6 triangular? {is_triangular(6)}\") # 1 + 2 + 3 so true\n",
    "print(f\"is 5 triangular? {is_triangular(5)}\")\n"
   ]
  },
  {
   "cell_type": "code",
   "execution_count": 25,
   "id": "531c9696-8b4b-4772-8068-b791e40a8b4c",
   "metadata": {},
   "outputs": [
    {
     "name": "stdout",
     "output_type": "stream",
     "text": [
      "square root of 6 is close to 4.0\n"
     ]
    }
   ],
   "source": [
    "def bisection_root(x):\n",
    "    epsilon = 0.01\n",
    "    low = 0\n",
    "    high = x\n",
    "    ans = (high + low) / 2.0\n",
    "    while abs(ans**2 - x) >= epsilon:\n",
    "        if ans**2 < x:\n",
    "            low = ans\n",
    "        else:\n",
    "            high = ans\n",
    "        ans = (high + low) / 2.0\n",
    "    return ans\n",
    "    \n",
    "print(f\"square root of 6 is close to {bisection_root(16)}\")"
   ]
  },
  {
   "cell_type": "code",
   "execution_count": 32,
   "id": "1f6b30ac-66b5-4dac-bb36-d2a9a62ad03b",
   "metadata": {},
   "outputs": [
    {
     "name": "stdout",
     "output_type": "stream",
     "text": [
      "99 9.949699401855469\n",
      "100 9.999847412109375\n",
      "101 10.049758911132812\n",
      "102 10.099456787109375\n",
      "4\n"
     ]
    }
   ],
   "source": [
    "def count_nums_with_sqrt_close_to(n, epsilon):\n",
    "    \n",
    "    count = 0\n",
    "    for i in range(n**3):\n",
    "        sqrt = bisection_root(i)\n",
    "        if abs(n - sqrt) < epsilon:\n",
    "            print(i, sqrt)\n",
    "            count += 1\n",
    "    return count\n",
    "\n",
    "\n",
    "print(count_nums_with_sqrt_close_to(10, 0.1))"
   ]
  },
  {
   "cell_type": "code",
   "execution_count": 37,
   "id": "a97b820f-3203-42fe-80f8-e3acc8d0a0f2",
   "metadata": {},
   "outputs": [
    {
     "name": "stdout",
     "output_type": "stream",
     "text": [
      "3\n"
     ]
    }
   ],
   "source": [
    "def sum_odd(a, b):\n",
    "    sum = 0\n",
    "    for i in range(a, b+1): \n",
    "        if i % 2 == 1:\n",
    "            sum += 1\n",
    "    return sum # 3 5 7 -> 3\n",
    "low = 2\n",
    "high = 7\n",
    "ans = sum_odd(low, high)\n",
    "print(ans)"
   ]
  },
  {
   "cell_type": "code",
   "execution_count": 39,
   "id": "f9516cc2-8952-42f6-8dd2-2c5f7429a66b",
   "metadata": {},
   "outputs": [
    {
     "name": "stdout",
     "output_type": "stream",
     "text": [
      "in f(x) x = 11\n"
     ]
    }
   ],
   "source": [
    "def f(x):\n",
    "    x = x + 1\n",
    "    print(f'in f(x) x = {x}')\n",
    "    return x\n",
    "x = 10\n",
    "z = f(x)"
   ]
  },
  {
   "cell_type": "code",
   "execution_count": 40,
   "id": "572a4a18-7b01-43bc-b0d4-59c78a24d632",
   "metadata": {},
   "outputs": [
    {
     "name": "stdout",
     "output_type": "stream",
     "text": [
      "2\n",
      "5\n"
     ]
    }
   ],
   "source": [
    "def f(y):\n",
    "    x = 1\n",
    "    x += 1\n",
    "    print(x)\n",
    "x = 5\n",
    "f(x)\n",
    "print(x)"
   ]
  },
  {
   "cell_type": "code",
   "execution_count": 66,
   "id": "6b21f13e-a911-4d81-b068-3d2bc9cadd9e",
   "metadata": {},
   "outputs": [
    {
     "name": "stdout",
     "output_type": "stream",
     "text": [
      "5\n",
      "6\n",
      "5\n"
     ]
    }
   ],
   "source": [
    "def g(y):\n",
    "    print(x)\n",
    "    print(x + 1)\n",
    "\n",
    "x = 5\n",
    "g(x)\n",
    "print(x)"
   ]
  },
  {
   "cell_type": "code",
   "execution_count": 65,
   "id": "9f82f2a7-6b4b-4301-8bbe-956b524f9b81",
   "metadata": {},
   "outputs": [
    {
     "ename": "UnboundLocalError",
     "evalue": "cannot access local variable 'x' where it is not associated with a value",
     "output_type": "error",
     "traceback": [
      "\u001b[1;31m---------------------------------------------------------------------------\u001b[0m",
      "\u001b[1;31mUnboundLocalError\u001b[0m                         Traceback (most recent call last)",
      "Cell \u001b[1;32mIn[65], line 4\u001b[0m\n\u001b[0;32m      2\u001b[0m     x \u001b[38;5;241m+\u001b[39m\u001b[38;5;241m=\u001b[39m \u001b[38;5;241m1\u001b[39m\n\u001b[0;32m      3\u001b[0m x \u001b[38;5;241m=\u001b[39m \u001b[38;5;241m5\u001b[39m\n\u001b[1;32m----> 4\u001b[0m \u001b[43mh\u001b[49m\u001b[43m(\u001b[49m\u001b[43mx\u001b[49m\u001b[43m)\u001b[49m\n\u001b[0;32m      5\u001b[0m \u001b[38;5;28mprint\u001b[39m(x)\n",
      "Cell \u001b[1;32mIn[65], line 2\u001b[0m, in \u001b[0;36mh\u001b[1;34m(y)\u001b[0m\n\u001b[0;32m      1\u001b[0m \u001b[38;5;28;01mdef\u001b[39;00m \u001b[38;5;21mh\u001b[39m(y):\n\u001b[1;32m----> 2\u001b[0m     \u001b[43mx\u001b[49m \u001b[38;5;241m+\u001b[39m\u001b[38;5;241m=\u001b[39m \u001b[38;5;241m1\u001b[39m\n",
      "\u001b[1;31mUnboundLocalError\u001b[0m: cannot access local variable 'x' where it is not associated with a value"
     ]
    }
   ],
   "source": [
    "def h(y):\n",
    "    x += 1\n",
    "x = 5\n",
    "h(x)\n",
    "print(x)"
   ]
  },
  {
   "cell_type": "code",
   "execution_count": 53,
   "id": "38dc3304-4ecd-4914-8c06-59d193374596",
   "metadata": {},
   "outputs": [
    {
     "name": "stdout",
     "output_type": "stream",
     "text": [
      "30\n",
      "2.0\n"
     ]
    }
   ],
   "source": [
    "# function as parameter\n",
    "def calc(op, x, y):\n",
    "    return op(x, y)\n",
    "print(calc(add, 10, 20))\n",
    "print(calc(div, 10, 5))"
   ]
  },
  {
   "cell_type": "code",
   "execution_count": 64,
   "id": "d4923652-af50-422b-a7dc-c70697132b36",
   "metadata": {},
   "outputs": [
    {
     "name": "stdout",
     "output_type": "stream",
     "text": [
      "Inside func_a\n",
      "None\n",
      "Inside func_b\n",
      "7\n",
      "Inside func_c\n",
      "Inside func_b\n",
      "3\n"
     ]
    }
   ],
   "source": [
    "def func_a():\n",
    "    print(\"Inside func_a\")\n",
    "\n",
    "def func_b(y):\n",
    "    print(\"Inside func_b\")\n",
    "    return y\n",
    "\n",
    "def func_c(f, z):\n",
    "    print(\"Inside func_c\")\n",
    "    return f(z)\n",
    "print(func_a())\n",
    "print(5 + func_b(2))\n",
    "print(func_c(func_b, 3))\n"
   ]
  },
  {
   "cell_type": "code",
   "execution_count": 63,
   "id": "c9b9de7d-76c0-44ca-aece-2d320d26f433",
   "metadata": {},
   "outputs": [],
   "source": [
    "def is_even(x):\n",
    "    return x % 2 == 0"
   ]
  },
  {
   "cell_type": "code",
   "execution_count": 62,
   "id": "15914618-ba9e-4d9e-ad9a-844de0172434",
   "metadata": {},
   "outputs": [
    {
     "name": "stdout",
     "output_type": "stream",
     "text": [
      "5\n"
     ]
    }
   ],
   "source": [
    "def apply(criteria, n):\n",
    "    \"\"\"\n",
    "    Input: criteria, Function that checks a condition\n",
    "           n, a positive int\n",
    "    Return: how many ints from 0 to n satisfy criteria\n",
    "    \"\"\"\n",
    "    count = 0\n",
    "    for i in range(1, n + 1):\n",
    "        if criteria(i):\n",
    "            count += 1\n",
    "    return count\n",
    "\n",
    "print(apply(is_even, 10))"
   ]
  },
  {
   "cell_type": "code",
   "execution_count": null,
   "id": "3ebcab5b-bf6c-4e70-a81f-59f41ea5b27c",
   "metadata": {},
   "outputs": [],
   "source": []
  }
 ],
 "metadata": {
  "kernelspec": {
   "display_name": "Python 3 (ipykernel)",
   "language": "python",
   "name": "python3"
  },
  "language_info": {
   "codemirror_mode": {
    "name": "ipython",
    "version": 3
   },
   "file_extension": ".py",
   "mimetype": "text/x-python",
   "name": "python",
   "nbconvert_exporter": "python",
   "pygments_lexer": "ipython3",
   "version": "3.12.7"
  }
 },
 "nbformat": 4,
 "nbformat_minor": 5
}
