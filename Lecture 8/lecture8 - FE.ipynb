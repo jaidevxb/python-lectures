{
 "cells": [
  {
   "cell_type": "markdown",
   "id": "a8ab838f-b062-4cbe-aeb2-59ac57362b9f",
   "metadata": {},
   "source": [
    "Implement the function that meets the specifications below:\n",
    "\n"
   ]
  },
  {
   "cell_type": "code",
   "execution_count": 3,
   "id": "0bf40ecc-bf67-4c0e-b75f-4d757ab4b9d1",
   "metadata": {},
   "outputs": [
    {
     "name": "stdout",
     "output_type": "stream",
     "text": [
      "True\n",
      "True\n",
      "False\n",
      "False\n"
     ]
    }
   ],
   "source": [
    "def same_chars(s1, s2):\n",
    "    \"\"\"\n",
    "    s1 and s2 are strings\n",
    "    Returns boolean True is a character in s1 is also in s2, and vice \n",
    "    versa. If a character only exists in one of s1 or s2, returns False.\n",
    "    \"\"\"\n",
    "    # Your code here\n",
    "    return set(s1) == set(s2)\n",
    "    \n",
    "# Examples:\n",
    "print(same_chars(\"abc\", \"cab\"))     # prints True\n",
    "print(same_chars(\"abccc\", \"caaab\")) # prints True\n",
    "print(same_chars(\"abcd\", \"cabaa\"))  # prints False\n",
    "print(same_chars(\"abcabc\", \"cabz\")) # prints False"
   ]
  },
  {
   "cell_type": "code",
   "execution_count": 2,
   "id": "fee34530-0849-413d-8ed1-0a5e34490703",
   "metadata": {},
   "outputs": [
    {
     "name": "stdout",
     "output_type": "stream",
     "text": [
      "True\n",
      "True\n",
      "False\n",
      "False\n"
     ]
    }
   ],
   "source": [
    "def same_chars(s1, s2):\n",
    "    \"\"\"\n",
    "    s1 and s2 are strings\n",
    "    Returns boolean True if a character in s1 is also in s2, and vice \n",
    "    versa. If a character only exists in one of s1 or s2, returns False.\n",
    "    \"\"\"\n",
    "    for char in s1:\n",
    "        if char not in s2:\n",
    "            return False\n",
    "    for char in s2:\n",
    "        if char not in s1:\n",
    "            return False\n",
    "    return True\n",
    "\n",
    "# Examples:\n",
    "print(same_chars(\"abc\", \"cab\"))     # True\n",
    "print(same_chars(\"abccc\", \"caaab\")) # True\n",
    "print(same_chars(\"abcd\", \"cabaa\"))  # False\n",
    "print(same_chars(\"abcabc\", \"cabz\")) # False"
   ]
  },
  {
   "cell_type": "code",
   "execution_count": null,
   "id": "c9c909c2-46e6-43d5-8302-ed3e8328cd94",
   "metadata": {},
   "outputs": [],
   "source": []
  }
 ],
 "metadata": {
  "kernelspec": {
   "display_name": "Python 3 (ipykernel)",
   "language": "python",
   "name": "python3"
  },
  "language_info": {
   "codemirror_mode": {
    "name": "ipython",
    "version": 3
   },
   "file_extension": ".py",
   "mimetype": "text/x-python",
   "name": "python",
   "nbconvert_exporter": "python",
   "pygments_lexer": "ipython3",
   "version": "3.12.7"
  }
 },
 "nbformat": 4,
 "nbformat_minor": 5
}
