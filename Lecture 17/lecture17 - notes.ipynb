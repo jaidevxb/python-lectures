{
 "cells": [
  {
   "cell_type": "code",
   "execution_count": 5,
   "id": "94efa149-65ff-4913-84b9-486eba5ffc51",
   "metadata": {},
   "outputs": [
    {
     "name": "stdout",
     "output_type": "stream",
     "text": [
      "4\n",
      "0\n"
     ]
    }
   ],
   "source": [
    "class coordinate(object):\n",
    "    def __init__(self, xval, yval):\n",
    "        self.x = xval\n",
    "        self.y = yval\n",
    "\n",
    "\n",
    "c = coordinate(3, 4)\n",
    "origin = coordinate(0, 0)\n",
    "print(c.y)\n",
    "print(origin.x)"
   ]
  },
  {
   "cell_type": "code",
   "execution_count": 8,
   "id": "cfcfd79d-4d4d-4a34-b521-0cb01ad211e3",
   "metadata": {},
   "outputs": [
    {
     "name": "stdout",
     "output_type": "stream",
     "text": [
      "5.0\n",
      "5.0\n"
     ]
    }
   ],
   "source": [
    "class coordinate(object):\n",
    "    def __init__(self, xval, yval):\n",
    "        self.x = xval\n",
    "        self.y = yval\n",
    "    def distance(self, other):\n",
    "        # other is another coordinate type object to find distance\n",
    "        x_diff_sq = (self.x - other.x)**2\n",
    "        y_diff_sq = (self.y - other.y)**2\n",
    "        return (x_diff_sq + y_diff_sq)**0.5\n",
    "\n",
    "\n",
    "c = coordinate(3, 4)\n",
    "origin = coordinate(0, 0)\n",
    "print(c.distance(origin))\n",
    "print(coordinate.distance(c, origin)) # equivalent here c refers to self"
   ]
  },
  {
   "cell_type": "code",
   "execution_count": null,
   "id": "bfe9162a-07a9-41a4-9913-03b8e1c0f65a",
   "metadata": {},
   "outputs": [],
   "source": []
  }
 ],
 "metadata": {
  "kernelspec": {
   "display_name": "Python 3 (ipykernel)",
   "language": "python",
   "name": "python3"
  },
  "language_info": {
   "codemirror_mode": {
    "name": "ipython",
    "version": 3
   },
   "file_extension": ".py",
   "mimetype": "text/x-python",
   "name": "python",
   "nbconvert_exporter": "python",
   "pygments_lexer": "ipython3",
   "version": "3.12.7"
  }
 },
 "nbformat": 4,
 "nbformat_minor": 5
}
