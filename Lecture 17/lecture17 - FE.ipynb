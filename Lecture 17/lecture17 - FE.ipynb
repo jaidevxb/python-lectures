{
 "cells": [
  {
   "cell_type": "code",
   "execution_count": 6,
   "id": "1d2e8f8c-9392-449d-b0e8-900acc77c0e3",
   "metadata": {},
   "outputs": [
    {
     "name": "stdout",
     "output_type": "stream",
     "text": [
      "5\n",
      "10\n",
      "314.0\n",
      "False\n",
      "True\n"
     ]
    }
   ],
   "source": [
    "class Circle():\n",
    "    def __init__(self, radius):\n",
    "        \"\"\" Initializes self with radius \"\"\"\n",
    "        # your code here\n",
    "        self.radius = radius\n",
    "\n",
    "    def get_radius(self):\n",
    "        \"\"\" Returns the radius of self \"\"\"\n",
    "        # your code here\n",
    "        return self.radius\n",
    "\n",
    "    def set_radius(self, radius):\n",
    "        \"\"\" radius is a number\n",
    "        Changes the radius of self to radius \"\"\"\n",
    "        # your code here\n",
    "        self.radius = radius\n",
    "\n",
    "    def get_area(self):\n",
    "        \"\"\" Returns the area of self using pi = 3.14 \"\"\"\n",
    "        # your code here\n",
    "        return 3.14 * (self.radius) ** 2\n",
    "\n",
    "    def equal(self, c):\n",
    "        \"\"\" c is a Circle object\n",
    "        Returns True if self and c have the same radius value \"\"\"\n",
    "        # your code here\n",
    "        return c.radius == self.radius\n",
    "\n",
    "    def bigger(self, c):\n",
    "        \"\"\" c is a Circle object\n",
    "        Returns self or c, the Circle object with the bigger radius \"\"\"\n",
    "        # your code here\n",
    "        if self.radius >= c.radius:\n",
    "            return self\n",
    "        else:\n",
    "            return c\n",
    "\n",
    "c1 = Circle(5)\n",
    "c2 = Circle(7)\n",
    "\n",
    "print(c1.get_radius())     # 5\n",
    "c1.set_radius(10)\n",
    "print(c1.get_radius())     # 10\n",
    "print(c1.get_area())       # 3.14 * 100 = 314.0\n",
    "print(c1.equal(c2))        # False\n",
    "print(c1.bigger(c2) == c1) # True → c1 has bigger radius\n"
   ]
  },
  {
   "cell_type": "code",
   "execution_count": null,
   "id": "373a1f1d-13f3-4f6a-a36f-1a4440986c3d",
   "metadata": {},
   "outputs": [],
   "source": []
  }
 ],
 "metadata": {
  "kernelspec": {
   "display_name": "Python 3 (ipykernel)",
   "language": "python",
   "name": "python3"
  },
  "language_info": {
   "codemirror_mode": {
    "name": "ipython",
    "version": 3
   },
   "file_extension": ".py",
   "mimetype": "text/x-python",
   "name": "python",
   "nbconvert_exporter": "python",
   "pygments_lexer": "ipython3",
   "version": "3.12.7"
  }
 },
 "nbformat": 4,
 "nbformat_minor": 5
}
