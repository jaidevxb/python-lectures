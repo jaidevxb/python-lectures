{
 "cells": [
  {
   "cell_type": "code",
   "execution_count": 15,
   "id": "ead31e5b-bff1-4cee-a5b2-4afe2713400a",
   "metadata": {},
   "outputs": [
    {
     "name": "stdout",
     "output_type": "stream",
     "text": [
      "200\n",
      "dict_keys(['__module__', '__doc__', '__init__', 'get_start', 'get_end', 'get_calories', 'set_start', 'set_end', 'set_calories', '__dict__', '__weakref__'])\n",
      "\n",
      "dict_values(['__main__', ' A simple class to track fitness ', <function Workout.__init__ at 0x000001B9C60FD260>, <function Workout.get_start at 0x000001B9C60FD440>, <function Workout.get_end at 0x000001B9C60FE020>, <function Workout.get_calories at 0x000001B9C60FE0C0>, <function Workout.set_start at 0x000001B9C60FE160>, <function Workout.set_end at 0x000001B9C60FE200>, <function Workout.set_calories at 0x000001B9C60FE2A0>, <attribute '__dict__' of 'Workout' objects>, <attribute '__weakref__' of 'Workout' objects>])\n"
     ]
    }
   ],
   "source": [
    "# Simple workout class\n",
    "class Workout(object):\n",
    "    \"\"\" A simple class to track fitness \"\"\"\n",
    "    def __init__(self, start, end, calories):\n",
    "        self.start = start\n",
    "        self.end = end\n",
    "        self.calories = calories\n",
    "        self.icon = \"😊\"\n",
    "        self.kind = 'Workout'\n",
    "    def get_start(self):\n",
    "        return self.start\n",
    "    def get_end(self):\n",
    "        return self.end\n",
    "    def get_calories(self):\n",
    "        return self.calories\n",
    "    def set_start(self, start):\n",
    "        self.start = start\n",
    "    def set_end(self, end):\n",
    "        self.end = end\n",
    "    def set_calories(self, calories):\n",
    "        self.calories = calories\n",
    "        \n",
    "my_workout = Workout('9/3/2025 07:30 AM', '9/3/2025 09:30 AM', 200)\n",
    "print(my_workout.get_calories())\n",
    "print(Workout.__dict__.keys())\n",
    "print()\n",
    "print(Workout.__dict__.values())\n"
   ]
  },
  {
   "cell_type": "code",
   "execution_count": 22,
   "id": "70797715-5c9d-4a7e-98d8-7e17b7f584a4",
   "metadata": {},
   "outputs": [
    {
     "name": "stdout",
     "output_type": "stream",
     "text": [
      "<class 'datetime.datetime'>\n",
      "2021-09-30 13:35:00\n",
      "1200.0\n"
     ]
    }
   ],
   "source": [
    "from dateutil import parser\n",
    "start = \"9/30/2021 1:35 PM\"\n",
    "end = \"9/30/2021 1:55 PM\"\n",
    "start_date = parser.parse(start)\n",
    "end_date = parser.parse(end)\n",
    "print(type(start_date))\n",
    "print(start_date)\n",
    "print((end_date - start_date).total_seconds())"
   ]
  },
  {
   "cell_type": "code",
   "execution_count": 35,
   "id": "a82f6e2c-4ca5-4362-8ff2-99fff0ce23ae",
   "metadata": {},
   "outputs": [
    {
     "name": "stdout",
     "output_type": "stream",
     "text": [
      "400.0\n",
      "200\n",
      "200\n",
      "250\n",
      "\n",
      "100.0\n",
      "300\n"
     ]
    }
   ],
   "source": [
    "# updated calories method\n",
    "class Workout(object):\n",
    "    cal_per_hr = 200\n",
    "    def __init__(self, start, end, calories = None):\n",
    "        self.start = parser.parse(start)\n",
    "        self.end = parser.parse(end)\n",
    "        self.calories = calories\n",
    "        self.icon = \"😊\"\n",
    "        self.kind = 'Workout'\n",
    "    def get_start(self):\n",
    "        return self.start\n",
    "    def get_end(self):\n",
    "        return self.end\n",
    "    def get_calories(self):\n",
    "        if(self.calories == None):\n",
    "            return Workout.cal_per_hr * (self.end - self.start).total_seconds() / 3600\n",
    "        else:\n",
    "            return self.calories\n",
    "    def set_start(self, start):\n",
    "        self.start = start\n",
    "    def set_end(self, end):\n",
    "        self.end = end\n",
    "    def set_calories(self, calories):\n",
    "        self.calories = calories\n",
    "\n",
    "my_workout = Workout('9/3/2025 07:30 AM', '9/3/2025 09:30 AM')\n",
    "print(my_workout.get_calories())\n",
    "print(Workout.cal_per_hr)\n",
    "print(my_workout.cal_per_hr)\n",
    "Workout.cal_per_hr = 250\n",
    "print(Workout.cal_per_hr)\n",
    "Workout.cal_per_hr = 200\n",
    "\n",
    "print()\n",
    "w_one = Workout('1/1/2021 03:30 PM', '1/1/2021 04:00 PM')\n",
    "w_two = Workout('1/1/2021 03:35 PM', '1/1/2021 04:00 PM', 300)\n",
    "print(w_one.get_calories())\n",
    "print(w_two.get_calories())"
   ]
  },
  {
   "cell_type": "code",
   "execution_count": 51,
   "id": "f225deb5-9432-416b-8dc3-85edb45720d9",
   "metadata": {},
   "outputs": [
    {
     "name": "stdout",
     "output_type": "stream",
     "text": [
      "|----------------| \n",
      "|                | \n",
      "|😫              | \n",
      "|Workout         | \n",
      "|                | \n",
      "|2:00:00         | \n",
      "|200 Calories    | \n",
      "|                | \n",
      "|----------------| \n",
      "\n",
      "|----------------| \n",
      "|                | \n",
      "|🏃              | \n",
      "|Running         | \n",
      "|                | \n",
      "|0:25:00         | \n",
      "|83 Calories     | \n",
      "|                | \n",
      "|----------------| \n",
      "\n"
     ]
    }
   ],
   "source": [
    "# add subclass\n",
    "class Workout(object):\n",
    "    cal_per_hr = 200\n",
    "    def __init__(self, start, end, calories = None):\n",
    "        self.start = parser.parse(start)\n",
    "        self.end = parser.parse(end)\n",
    "        self.calories = calories\n",
    "        self.icon = '😫'\n",
    "        self.kind = 'Workout'\n",
    "    def get_start(self):\n",
    "        return self.start\n",
    "    def get_end(self):\n",
    "        return self.end\n",
    "    def get_calories(self):\n",
    "        if(self.calories == None):\n",
    "            return Workout.cal_per_hr * (self.end - self.start).total_seconds() / 3600\n",
    "        else:\n",
    "            return self.calories\n",
    "    def get_duration(self):\n",
    "        return self.end - self.start\n",
    "    def set_start(self, start):\n",
    "        self.start = start\n",
    "    def set_end(self, end):\n",
    "        self.end = end\n",
    "    def set_calories(self, calories):\n",
    "        self.calories = calories\n",
    "    def __str__(self):\n",
    "        width = 16\n",
    "        retstr = f\"|{'-' * width}| \\n\"\n",
    "        retstr += f\"|{' ' * width}| \\n\"\n",
    "        iconLen = 0\n",
    "        retstr += f\"|{self.icon} {' ' * (width - 3)}| \\n\"\n",
    "        retstr += f\"|{self.kind} {' ' * (width - len(self.kind) - 1)}| \\n\"\n",
    "        retstr += f\"|{' ' * width}| \\n\"\n",
    "        duration_str = str(self.get_duration())\n",
    "        retstr += f\"|{duration_str} {' ' * (width - len(duration_str) - 1)}| \\n\"\n",
    "        cal_str = f\"{self.get_calories():.0f}\"\n",
    "        retstr += f\"|{cal_str} Calories {' ' * (width - len(cal_str) - 10)}| \\n\"\n",
    "        retstr += f\"|{' ' * width}| \\n\"\n",
    "        retstr += f\"|{'-' * width}| \\n\"\n",
    "        return retstr\n",
    "    \n",
    "class RunWorkout(Workout):\n",
    "    def __init__(self, start, end, elev = 0, calories = None):\n",
    "        super().__init__(start, end, calories) # Same as Workout.__init__(start, end, calories)\n",
    "        self.elev = elev\n",
    "        self.icon = \"🏃\"\n",
    "        self.kind = \"Running\"\n",
    "    def get_elev(self):\n",
    "        return self.elev\n",
    "    def set_elev(self, e):\n",
    "        self.elev = e\n",
    "\n",
    "w = Workout('9/3/2025 07:30 AM', '9/3/2025 09:30 AM', 200)\n",
    "print(w)\n",
    "rw = RunWorkout('1/1/2021 03:35 PM', '1/1/2021 04:00 PM')\n",
    "print(rw)"
   ]
  },
  {
   "cell_type": "code",
   "execution_count": null,
   "id": "dc35785d-b69b-4aa3-ba28-bbae99b0ef0f",
   "metadata": {},
   "outputs": [],
   "source": []
  }
 ],
 "metadata": {
  "kernelspec": {
   "display_name": "Python 3 (ipykernel)",
   "language": "python",
   "name": "python3"
  },
  "language_info": {
   "codemirror_mode": {
    "name": "ipython",
    "version": 3
   },
   "file_extension": ".py",
   "mimetype": "text/x-python",
   "name": "python",
   "nbconvert_exporter": "python",
   "pygments_lexer": "ipython3",
   "version": "3.12.7"
  }
 },
 "nbformat": 4,
 "nbformat_minor": 5
}
