{
 "cells": [
  {
   "cell_type": "markdown",
   "id": "d1c0fc65-bf7a-4c7e-a227-db6b43e967bc",
   "metadata": {},
   "source": [
    "Finger Exercise Lecture 20\n",
    "\n",
    "In this problem, you will implement two classes according to the specification below: one Container class and one Queue class (a subclass of Container).     \n",
    "\n",
    "Our Container class will initialize an empty list. The two methods we will have are to calculate the size of the list and to add an element. The second method will be inherited by the subclass. We now want to create a subclass so that we can add more functionality – the ability to remove elements from the list. A Queue will add elements to the list in the same way, but will behave differently when removing an element.\n",
    "\n",
    "A queue is a first-in, first-out data structure. Think of a store checkout queue. The customer who has been in the line the longest gets the next available cashier. When implementing your Queue class, you will have to think about which end of your list contains the element that has been in the list the longest. This is the element you will want to remove and return."
   ]
  },
  {
   "cell_type": "code",
   "execution_count": 2,
   "id": "f78dc288-df10-424d-aef1-af3e24899926",
   "metadata": {},
   "outputs": [],
   "source": [
    "class Container(object):\n",
    "    \"\"\"\n",
    "    A container object is a list and can store elements of any type\n",
    "    \"\"\"\n",
    "    def __init__(self):\n",
    "        \"\"\"\n",
    "        Initializes an empty list\n",
    "        \"\"\"\n",
    "        self.myList = []\n",
    "\n",
    "    def size(self):\n",
    "        \"\"\"\n",
    "        Returns the length of the container list\n",
    "        \"\"\"\n",
    "        # Your code here\n",
    "        return len(self.myList)\n",
    "\n",
    "    def add(self, elem):\n",
    "        \"\"\"\n",
    "        Adds the elem to one end of the container list, keeping the end\n",
    "        you add to consistent. Does not return anything\n",
    "        \"\"\"\n",
    "        # Your code here\n",
    "        self.myList.append(elem)\n",
    "        \n",
    "class Queue(Container):\n",
    "    \"\"\"\n",
    "    A subclass of Container. Has an additional method to remove elements.\n",
    "    \"\"\"\n",
    "    def remove(self):\n",
    "        \"\"\"\n",
    "        The oldest element in the container list is removed\n",
    "        Returns the element removed or None if the stack contains no elements\n",
    "        \"\"\"\n",
    "        # Your code here\n",
    "        if self.size() > 0:\n",
    "            return self.myList.pop(0)\n",
    "        return None"
   ]
  },
  {
   "cell_type": "code",
   "execution_count": null,
   "id": "e7355f0f-58b1-4452-b341-5c8cf148c133",
   "metadata": {},
   "outputs": [],
   "source": []
  }
 ],
 "metadata": {
  "kernelspec": {
   "display_name": "Python 3 (ipykernel)",
   "language": "python",
   "name": "python3"
  },
  "language_info": {
   "codemirror_mode": {
    "name": "ipython",
    "version": 3
   },
   "file_extension": ".py",
   "mimetype": "text/x-python",
   "name": "python",
   "nbconvert_exporter": "python",
   "pygments_lexer": "ipython3",
   "version": "3.12.7"
  }
 },
 "nbformat": 4,
 "nbformat_minor": 5
}
