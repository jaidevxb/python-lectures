{
 "cells": [
  {
   "cell_type": "markdown",
   "id": "32a5eb85-0382-40bc-b1c2-05b5bd52200c",
   "metadata": {},
   "source": [
    "### Finger Exercise Lecture 4"
   ]
  },
  {
   "cell_type": "markdown",
   "id": "19055ade-7608-4100-ad1d-b48084c13aa8",
   "metadata": {},
   "source": [
    "\n",
    "Assume you are given a positive integer variable named N. Write a piece of Python code that finds the cube root of N. The code prints the cube root if N is a perfect cube or it prints error if N is not a perfect cube. Hint: use a loop that increments a counter—you decide when the counter should stop."
   ]
  },
  {
   "cell_type": "code",
   "execution_count": 15,
   "id": "03caffd7-d782-4689-af23-bbd7f36d319f",
   "metadata": {},
   "outputs": [
    {
     "name": "stdin",
     "output_type": "stream",
     "text": [
      "Enter the Number:  8\n"
     ]
    },
    {
     "name": "stdout",
     "output_type": "stream",
     "text": [
      "2\n"
     ]
    }
   ],
   "source": [
    "N = int(input(\"Enter the Number: \"))\n",
    "i = 1\n",
    "while i**3 < N:\n",
    "    i += 1\n",
    "if i**3 == N:\n",
    "    print(i)\n",
    "else:\n",
    "    print(\"Error\")\n"
   ]
  },
  {
   "cell_type": "code",
   "execution_count": null,
   "id": "34df3224-109e-42f5-bf05-255a0166a8b4",
   "metadata": {},
   "outputs": [],
   "source": []
  }
 ],
 "metadata": {
  "kernelspec": {
   "display_name": "Python 3 (ipykernel)",
   "language": "python",
   "name": "python3"
  },
  "language_info": {
   "codemirror_mode": {
    "name": "ipython",
    "version": 3
   },
   "file_extension": ".py",
   "mimetype": "text/x-python",
   "name": "python",
   "nbconvert_exporter": "python",
   "pygments_lexer": "ipython3",
   "version": "3.12.7"
  }
 },
 "nbformat": 4,
 "nbformat_minor": 5
}
