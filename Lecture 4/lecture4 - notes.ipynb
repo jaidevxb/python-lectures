{
 "cells": [
  {
   "cell_type": "markdown",
   "id": "2009e590-9cbe-4b1a-ab81-921e458aef75",
   "metadata": {},
   "source": [
    "Break Statement"
   ]
  },
  {
   "cell_type": "code",
   "execution_count": 1,
   "id": "8f138ed3-fb0e-4029-b7ec-dd7d376d537c",
   "metadata": {},
   "outputs": [
    {
     "name": "stdout",
     "output_type": "stream",
     "text": [
      "5\n"
     ]
    }
   ],
   "source": [
    "mysum = 0\n",
    "for i in range(5,11,2): # 5 7 9\n",
    "    mysum += i\n",
    "    if mysum == 5:\n",
    "        break\n",
    "        mysum += 1\n",
    "\n",
    "print(mysum)"
   ]
  },
  {
   "cell_type": "markdown",
   "id": "a1e2ba3b-cab5-436a-9a7e-c9dd98883bb4",
   "metadata": {},
   "source": [
    "Try It"
   ]
  },
  {
   "cell_type": "code",
   "execution_count": 2,
   "id": "b09e40af-7032-4b26-844b-20a66f9b750f",
   "metadata": {},
   "outputs": [
    {
     "name": "stdout",
     "output_type": "stream",
     "text": [
      "10\n"
     ]
    }
   ],
   "source": [
    "mysum = 0\n",
    "for i in range(5): # 0 1 2 3 4\n",
    "    mysum += i\n",
    "    if mysum == 5:\n",
    "        break\n",
    "        mysum += 1\n",
    "\n",
    "print(mysum)"
   ]
  },
  {
   "cell_type": "code",
   "execution_count": 3,
   "id": "a3257b0b-e7df-40fe-bec4-985b14e87423",
   "metadata": {},
   "outputs": [
    {
     "name": "stdout",
     "output_type": "stream",
     "text": [
      "45\n"
     ]
    }
   ],
   "source": [
    "mysum = 0\n",
    "for i in range(10): # 0 to 9\n",
    "    mysum += i\n",
    "    if mysum == 5:\n",
    "        break\n",
    "        mysum += 1\n",
    "\n",
    "print(mysum)"
   ]
  },
  {
   "cell_type": "code",
   "execution_count": 5,
   "id": "01e530c9-dd70-4bb4-afe0-183c08cd75aa",
   "metadata": {},
   "outputs": [
    {
     "name": "stdout",
     "output_type": "stream",
     "text": [
      "15\n"
     ]
    }
   ],
   "source": [
    "mysum = 0\n",
    "for i in range(2,9,3): # 2 5 8\n",
    "    mysum += i\n",
    "    if mysum == 5:\n",
    "        break\n",
    "        mysum += 1\n",
    "\n",
    "print(mysum)"
   ]
  },
  {
   "cell_type": "code",
   "execution_count": 7,
   "id": "ab7fc34a-34ff-417e-9aa0-e48e97a500e2",
   "metadata": {},
   "outputs": [
    {
     "name": "stdout",
     "output_type": "stream",
     "text": [
      "0\n"
     ]
    }
   ],
   "source": [
    "mysum = 0\n",
    "for i in range(-4,6,2): # -4 -2 0 2 4\n",
    "    mysum += i\n",
    "    if mysum == 5:\n",
    "        break\n",
    "        mysum += 1\n",
    "\n",
    "print(mysum)"
   ]
  },
  {
   "cell_type": "code",
   "execution_count": 8,
   "id": "3b158f5d-a7c4-421b-ba22-617e03dfd556",
   "metadata": {},
   "outputs": [
    {
     "name": "stdout",
     "output_type": "stream",
     "text": [
      "5\n"
     ]
    }
   ],
   "source": [
    "mysum = 0\n",
    "for i in range(5,6): # 5\n",
    "    mysum += i\n",
    "    if mysum == 5:\n",
    "        break\n",
    "        mysum += 1\n",
    "\n",
    "print(mysum)"
   ]
  },
  {
   "cell_type": "markdown",
   "id": "e65dcd7b-3300-418f-b110-984e9639e53c",
   "metadata": {},
   "source": [
    "Count even nos."
   ]
  },
  {
   "cell_type": "code",
   "execution_count": 11,
   "id": "6c5ed11b-e1d0-4310-9d49-7b9336f1afab",
   "metadata": {},
   "outputs": [
    {
     "name": "stdout",
     "output_type": "stream",
     "text": [
      "5\n"
     ]
    }
   ],
   "source": [
    "even_nums = 0\n",
    "for i in range(10):\n",
    "    if i%2 == 0: # 0 2 4 6 8\n",
    "        even_nums += 1\n",
    "print(even_nums)"
   ]
  },
  {
   "cell_type": "markdown",
   "id": "927024e3-f965-4d97-bbf7-afd23d6b499b",
   "metadata": {},
   "source": [
    "Strings And Loops"
   ]
  },
  {
   "cell_type": "code",
   "execution_count": 12,
   "id": "b67029c4-ac20-48d8-9b3b-882be1c3c6f6",
   "metadata": {},
   "outputs": [
    {
     "name": "stdout",
     "output_type": "stream",
     "text": [
      "There is an i or u\n",
      "There is an i or u\n"
     ]
    }
   ],
   "source": [
    "s = \"demo loops - fruit loops\"\n",
    "for index in range(len(s)):\n",
    "    if s[index] == 'u' or s[index] == 'i':\n",
    "        print(\"There is an i or u\")"
   ]
  },
  {
   "cell_type": "code",
   "execution_count": 13,
   "id": "f8162746-1b66-43d1-94f0-dfc9d36892c8",
   "metadata": {},
   "outputs": [
    {
     "name": "stdout",
     "output_type": "stream",
     "text": [
      "There is an i or u\n",
      "There is an i or u\n"
     ]
    }
   ],
   "source": [
    "for char in s:\n",
    "    if char == 'u' or char == 'i':\n",
    "        print(\"There is an i or u\")"
   ]
  },
  {
   "cell_type": "code",
   "execution_count": 14,
   "id": "783f251f-e330-4deb-b7f5-cff998432a51",
   "metadata": {},
   "outputs": [
    {
     "name": "stdout",
     "output_type": "stream",
     "text": [
      "There is an i or u\n",
      "There is an i or u\n"
     ]
    }
   ],
   "source": [
    "for char in s:\n",
    "    if char in \"iu\":\n",
    "        print(\"There is an i or u\")"
   ]
  },
  {
   "cell_type": "code",
   "execution_count": 16,
   "id": "b4eb14d4-2362-4d73-b491-ee12df9d972e",
   "metadata": {},
   "outputs": [
    {
     "name": "stdin",
     "output_type": "stream",
     "text": [
      "I will cheer for you! Enter a word mango\n",
      "enthusiasm level!(1-10): 5\n"
     ]
    },
    {
     "name": "stdout",
     "output_type": "stream",
     "text": [
      "Give me an m: m\n",
      "Give me an a: a\n",
      "Give me an n: n\n",
      "Give me a g:g\n",
      "Give me an o: o\n",
      "What's that spell?\n",
      "mango !!!\n",
      "mango !!!\n",
      "mango !!!\n",
      "mango !!!\n",
      "mango !!!\n"
     ]
    }
   ],
   "source": [
    "an_letters = \"aefhilmnorsxAEFHILMNORSX\"\n",
    "word = input(\"I will cheer for you! Enter a word\")\n",
    "times = int(input(\"enthusiasm level!(1-10):\"))\n",
    "\n",
    "for c in word:\n",
    "    if c in an_letters:\n",
    "        print(f'Give me an {c}: {c}')\n",
    "    else:\n",
    "        print(f'Give me a {c}:{c}')\n",
    "\n",
    "print(\"What's that spell?\")\n",
    "for i in range(times):\n",
    "    print(word, '!!!')"
   ]
  },
  {
   "cell_type": "markdown",
   "id": "17fa3e10-45b3-4aa7-92e6-40e23d586bac",
   "metadata": {},
   "source": [
    "Try It :\n",
    "Count Unique Characters in a String"
   ]
  },
  {
   "cell_type": "code",
   "execution_count": 25,
   "id": "5c7d539f-7240-434c-a3ae-2dd2d49323f2",
   "metadata": {},
   "outputs": [
    {
     "name": "stdout",
     "output_type": "stream",
     "text": [
      "3\n"
     ]
    }
   ],
   "source": [
    "s = 'abca'\n",
    "seen = ''\n",
    "# count = 0\n",
    "for char in s:\n",
    "    if char not in seen :\n",
    "        seen += char\n",
    "        # count += 1\n",
    "\n",
    "print(len(seen)) # or count"
   ]
  },
  {
   "cell_type": "markdown",
   "id": "5986df6e-487a-42a1-b3ac-f941d5f13b03",
   "metadata": {},
   "source": [
    "GUESS AND CHECK SQUARE ROOT"
   ]
  },
  {
   "cell_type": "code",
   "execution_count": 2,
   "id": "3454844b-3d12-4c39-83e3-08d217b17ae0",
   "metadata": {},
   "outputs": [
    {
     "name": "stdin",
     "output_type": "stream",
     "text": [
      "Enter the number :  9\n"
     ]
    },
    {
     "name": "stdout",
     "output_type": "stream",
     "text": [
      "Square root of 9 is 3\n"
     ]
    }
   ],
   "source": [
    "guess = 0\n",
    "x = int(input(\"Enter the number : \"))\n",
    "while guess**2 < x:\n",
    "    guess += 1\n",
    "if guess**2 == x:\n",
    "    print(f'Square root of {x} is {guess}')\n",
    "else:\n",
    "    print(x, 'is not a perfect square')"
   ]
  },
  {
   "cell_type": "code",
   "execution_count": 4,
   "id": "2265adb9-795a-4447-83c0-f9cc70c24143",
   "metadata": {},
   "outputs": [
    {
     "name": "stdin",
     "output_type": "stream",
     "text": [
      "Enter the number :  -4\n"
     ]
    },
    {
     "name": "stdout",
     "output_type": "stream",
     "text": [
      "-4 is not a perfect square\n",
      "Just checking... did you mean 4\n"
     ]
    }
   ],
   "source": [
    "guess = 0\n",
    "neg_flag = False\n",
    "x = int(input(\"Enter the number : \"))\n",
    "if x < 0:\n",
    "    neg_flag = True\n",
    "while guess**2 < x:\n",
    "    guess += 1\n",
    "if guess**2 == x:\n",
    "    print(f'Square root of {x} is {guess}')\n",
    "else:\n",
    "    print(x, 'is not a perfect square')\n",
    "    if neg_flag:\n",
    "        print(f'Just checking... did you mean {-x}')"
   ]
  },
  {
   "cell_type": "code",
   "execution_count": 7,
   "id": "ff313f0d-a64f-410b-bde7-f37a78d85276",
   "metadata": {},
   "outputs": [
    {
     "name": "stdout",
     "output_type": "stream",
     "text": [
      "found\n"
     ]
    }
   ],
   "source": [
    "secret = 7\n",
    "for i in range(1,11):\n",
    "    if i == secret:\n",
    "        print('found')"
   ]
  },
  {
   "cell_type": "code",
   "execution_count": 12,
   "id": "b1230f30-fcc6-40dd-b85a-c4c788e22918",
   "metadata": {},
   "outputs": [
    {
     "name": "stdout",
     "output_type": "stream",
     "text": [
      "not found\n"
     ]
    }
   ],
   "source": [
    "secret = 15\n",
    "found = False\n",
    "for i in range(1,11):\n",
    "    if i == secret:\n",
    "        found = True\n",
    "        break\n",
    "if found:\n",
    "    print(\"found\")\n",
    "else:\n",
    "    print(\"not found\")"
   ]
  },
  {
   "cell_type": "markdown",
   "id": "df909b8c-dffc-48ad-8563-8813bd731922",
   "metadata": {},
   "source": [
    "GUESS AND CHECK CUBE ROOT"
   ]
  },
  {
   "cell_type": "code",
   "execution_count": 14,
   "id": "f3426993-44da-451a-9534-cc66bcfb86b3",
   "metadata": {},
   "outputs": [
    {
     "name": "stdin",
     "output_type": "stream",
     "text": [
      "Enter a number :  27\n"
     ]
    },
    {
     "name": "stdout",
     "output_type": "stream",
     "text": [
      "Cube root of 27 is 3\n"
     ]
    }
   ],
   "source": [
    "guess = 0\n",
    "x = int(input(\"Enter a number : \"))\n",
    "while guess**3 < x:\n",
    "    guess += 1\n",
    "if guess**3 == x:\n",
    "    print(f'Cube root of {x} is {guess}')\n",
    "else:\n",
    "    print(x, \"is not a perfect cube\")"
   ]
  },
  {
   "cell_type": "code",
   "execution_count": 15,
   "id": "37ebd612-011d-4dec-b3fe-1e80029a6320",
   "metadata": {},
   "outputs": [
    {
     "name": "stdin",
     "output_type": "stream",
     "text": [
      "Enter a number :  27\n"
     ]
    },
    {
     "name": "stdout",
     "output_type": "stream",
     "text": [
      "Cube root of 27 is 3\n"
     ]
    }
   ],
   "source": [
    "cube = int(input(\"Enter a number : \"))\n",
    "for guess in range(cube+1):\n",
    "    if guess**3 == cube:\n",
    "        print(f'Cube root of {x} is {guess}')"
   ]
  },
  {
   "cell_type": "code",
   "execution_count": 21,
   "id": "01fb3a2c-f5b4-4b2d-b790-57dabb719465",
   "metadata": {},
   "outputs": [
    {
     "name": "stdin",
     "output_type": "stream",
     "text": [
      "Enter a number :  -27\n"
     ]
    },
    {
     "name": "stdout",
     "output_type": "stream",
     "text": [
      "Cube root of -27 is -3\n"
     ]
    }
   ],
   "source": [
    "cube = int(input(\"Enter a number : \"))\n",
    "for guess in range(abs(cube+1)):\n",
    "    if guess**3 == abs(cube):\n",
    "        if cube < 0:\n",
    "            guess = -guess\n",
    "            print(\"Cube root of \"+str(cube)+\" is \"+str(guess))"
   ]
  },
  {
   "cell_type": "code",
   "execution_count": 23,
   "id": "1365b7dd-21ab-4da5-93a4-18311275a519",
   "metadata": {},
   "outputs": [
    {
     "name": "stdin",
     "output_type": "stream",
     "text": [
      "Enter a number :  25\n"
     ]
    },
    {
     "name": "stdout",
     "output_type": "stream",
     "text": [
      "25 is not a perfect cube\n"
     ]
    }
   ],
   "source": [
    "cube = int(input(\"Enter a number : \"))\n",
    "for guess in range(abs(cube+1)):\n",
    "    if guess**3 >= abs(cube):\n",
    "        break\n",
    "        \n",
    "if cube < 0:\n",
    "    guess = -guess\n",
    "    print(\"Cube root of \"+str(cube)+\" is \"+str(guess))\n",
    "else:\n",
    "    print(cube, \"is not a perfect cube\")"
   ]
  },
  {
   "cell_type": "code",
   "execution_count": 27,
   "id": "9466ee72-4a31-44a6-b88b-1a5449b9280c",
   "metadata": {},
   "outputs": [
    {
     "name": "stdout",
     "output_type": "stream",
     "text": [
      "Alyssa sold 3 tickets \n",
      "Ben sold 1 tickets \n",
      "Cindy sold 6 tickets\n"
     ]
    }
   ],
   "source": [
    "for alyssa in range(11):\n",
    "    for ben in range(11):\n",
    "        for cindy in range(11):\n",
    "            total = (alyssa + ben + cindy == 10)\n",
    "            two_less = (ben == alyssa - 2)\n",
    "            twice = (cindy == 2*alyssa)\n",
    "            if total and two_less and twice:\n",
    "                print(f'Alyssa sold {alyssa} tickets \\nBen sold {ben} tickets \\nCindy sold {cindy} tickets'"
   ]
  },
  {
   "cell_type": "code",
   "execution_count": 30,
   "id": "d92eaaff-2311-47f3-868d-82d244ac6931",
   "metadata": {},
   "outputs": [
    {
     "name": "stdout",
     "output_type": "stream",
     "text": [
      "Alyssa sold 255 tickets \n",
      "Ben sold 235 tickets \n",
      "Cindy sold 510 tickets\n"
     ]
    }
   ],
   "source": [
    "for alyssa in range(1001):\n",
    "    ben = max(alyssa - 20, 0)\n",
    "    cindy = alyssa * 2\n",
    "    if ben + cindy + alyssa == 1000:\n",
    "        print(f'Alyssa sold {alyssa} tickets \\nBen sold {ben} tickets \\nCindy sold {cindy} tickets')"
   ]
  },
  {
   "cell_type": "markdown",
   "id": "e9d2132e-ca5d-4ae9-a792-45ca764b1b0e",
   "metadata": {},
   "source": [
    "Binary Numbers"
   ]
  },
  {
   "cell_type": "code",
   "execution_count": 32,
   "id": "54b4987b-e495-4d49-b9c5-e70b41a69370",
   "metadata": {},
   "outputs": [
    {
     "name": "stdout",
     "output_type": "stream",
     "text": [
      "False\n",
      "0.9999999999999999 is the same as? 1.0\n"
     ]
    }
   ],
   "source": [
    "x = 0\n",
    "for i in range(10):\n",
    "    x += 0.1\n",
    "\n",
    "print(x == 1)\n",
    "print(x, 'is the same as?', 10*0.1)"
   ]
  },
  {
   "cell_type": "code",
   "execution_count": 36,
   "id": "4dc700d7-4296-4425-a554-78fb5dcb4cee",
   "metadata": {},
   "outputs": [
    {
     "name": "stdout",
     "output_type": "stream",
     "text": [
      "Binary of 0 is 10111100011\n"
     ]
    }
   ],
   "source": [
    "n = 1507\n",
    "num = n\n",
    "result = ''\n",
    "if num == 0:\n",
    "  result = '0'\n",
    "while num > 0:\n",
    "  result = str(num % 2) + result\n",
    "  num = num // 2\n",
    "print(f'Binary of {n} is {result}')"
   ]
  },
  {
   "cell_type": "code",
   "execution_count": 38,
   "id": "8897743a-b05e-4ccd-bb66-9bc54424cb1f",
   "metadata": {},
   "outputs": [
    {
     "name": "stdout",
     "output_type": "stream",
     "text": [
      "Binary of 0 is -11000111101\n"
     ]
    }
   ],
   "source": [
    "num =-1597\n",
    "neg_flag = False\n",
    "if num < 0:\n",
    "  neg_flag = True\n",
    "  num = abs(num)\n",
    "result = ''\n",
    "if num == 0:\n",
    "  result = '0'\n",
    "while num > 0:\n",
    "  result = str(num%2) + result\n",
    "  num = num//2\n",
    "if neg_flag:\n",
    "  result = '-' + result\n",
    "print(f'Binary of {num} is {result}')"
   ]
  },
  {
   "cell_type": "code",
   "execution_count": null,
   "id": "b2af1343-05d4-4b97-8211-bcaaa7e30d89",
   "metadata": {},
   "outputs": [],
   "source": []
  }
 ],
 "metadata": {
  "kernelspec": {
   "display_name": "Python 3 (ipykernel)",
   "language": "python",
   "name": "python3"
  },
  "language_info": {
   "codemirror_mode": {
    "name": "ipython",
    "version": 3
   },
   "file_extension": ".py",
   "mimetype": "text/x-python",
   "name": "python",
   "nbconvert_exporter": "python",
   "pygments_lexer": "ipython3",
   "version": "3.12.7"
  }
 },
 "nbformat": 4,
 "nbformat_minor": 5
}
