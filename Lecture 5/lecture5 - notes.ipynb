{
 "cells": [
  {
   "cell_type": "code",
   "execution_count": 8,
   "id": "0c56c82d-7b6c-45e4-99b6-e2abbec53ba0",
   "metadata": {},
   "outputs": [
    {
     "name": "stdout",
     "output_type": "stream",
     "text": [
      "Remainder = 0.1\n",
      "Remainder = 0.2\n",
      "Remainder = 0.4\n",
      "Remainder = 0.8\n",
      "Remainder = 0.6000000000000001\n",
      "Remainder = 0.20000000000000018\n",
      "Remainder = 0.40000000000000036\n",
      "Remainder = 0.8000000000000007\n",
      "Remainder = 0.6000000000000014\n",
      "Remainder = 0.20000000000000284\n",
      "Remainder = 0.4000000000000057\n",
      "Remainder = 0.8000000000000114\n",
      "Remainder = 0.6000000000000227\n",
      "Remainder = 0.20000000000004547\n",
      "Remainder = 0.40000000000009095\n",
      "Remainder = 0.8000000000001819\n",
      "Remainder = 0.6000000000003638\n",
      "Remainder = 0.2000000000007276\n",
      "Remainder = 0.4000000000014552\n",
      "Remainder = 0.8000000000029104\n",
      "Remainder = 0.6000000000058208\n",
      "Remainder = 0.20000000001164153\n",
      "Remainder = 0.40000000002328306\n",
      "Remainder = 0.8000000000465661\n",
      "Remainder = 0.6000000000931323\n",
      "Remainder = 0.20000000018626451\n",
      "Remainder = 0.40000000037252903\n",
      "Remainder = 0.8000000007450581\n",
      "Remainder = 0.6000000014901161\n",
      "Remainder = 0.20000000298023224\n",
      "Remainder = 0.4000000059604645\n",
      "Remainder = 0.800000011920929\n",
      "Remainder = 0.6000000238418579\n",
      "Remainder = 0.20000004768371582\n",
      "Remainder = 0.40000009536743164\n",
      "Remainder = 0.8000001907348633\n",
      "Remainder = 0.6000003814697266\n",
      "Remainder = 0.20000076293945312\n",
      "Remainder = 0.40000152587890625\n",
      "Remainder = 0.8000030517578125\n",
      "Remainder = 0.600006103515625\n",
      "Remainder = 0.20001220703125\n",
      "Remainder = 0.4000244140625\n",
      "Remainder = 0.800048828125\n",
      "Remainder = 0.60009765625\n",
      "Remainder = 0.2001953125\n",
      "Remainder = 0.400390625\n",
      "Remainder = 0.80078125\n",
      "Remainder = 0.6015625\n",
      "Remainder = 0.203125\n",
      "Remainder = 0.40625\n",
      "Remainder = 0.8125\n",
      "Remainder = 0.625\n",
      "Remainder = 0.25\n",
      "Remainder = 0.5\n",
      "The binary representation of the decimal 0.1 is .0001100110011001100110011001100110011001100110011001101\n"
     ]
    }
   ],
   "source": [
    "x = 0.1\n",
    "p = 0\n",
    "while ((2**p)*x)%1 != 0:\n",
    "    print(f'Remainder = {str((2**p)*x - int((2**p)*x))}')\n",
    "    p += 1\n",
    "num = int((2**p)*x)\n",
    "\n",
    "result = ''\n",
    "if num == 0:\n",
    "    result = '0'\n",
    "while num > 0:\n",
    "    result = str(num%2) + result\n",
    "    num = num//2\n",
    "for i in range(p - len(result)):\n",
    "    result = '0' + result\n",
    "result = result[0:-p] + '.' + result[-p:]\n",
    "print(f'The binary representation of the decimal {str(x)} is {str(result)}')"
   ]
  },
  {
   "cell_type": "code",
   "execution_count": 9,
   "id": "c0fad44b-8dd8-4fca-94fa-f88700acef1b",
   "metadata": {},
   "outputs": [
    {
     "name": "stdout",
     "output_type": "stream",
     "text": [
      "True\n"
     ]
    }
   ],
   "source": [
    "x = 0\n",
    "for i in range(10):\n",
    "    x += 0.125\n",
    "print(x == 1.25)\n",
    "# 0.125 is a power of "
   ]
  },
  {
   "cell_type": "code",
   "execution_count": 10,
   "id": "0f53fda9-2e3b-4000-a186-06939963f40c",
   "metadata": {},
   "outputs": [
    {
     "name": "stdout",
     "output_type": "stream",
     "text": [
      "False\n",
      "0.9999999999999999 == 1.0\n"
     ]
    }
   ],
   "source": [
    "x = 0\n",
    "for i in range(10):\n",
    "    x += 0.1\n",
    "print(x == 1)\n",
    "print(x, \"==\", 10*0.1)"
   ]
  },
  {
   "cell_type": "code",
   "execution_count": 11,
   "id": "13f5b89d-1664-4bb3-84b9-a979f5282684",
   "metadata": {},
   "outputs": [
    {
     "name": "stdout",
     "output_type": "stream",
     "text": [
      "num_guesses = 59992\n",
      "5.999199999999357 is close to square root of 36\n"
     ]
    }
   ],
   "source": [
    "x = 36\n",
    "epsilon = 0.01\n",
    "num_guesses = 0\n",
    "guess = 0.0\n",
    "increment = 0.0001\n",
    "while abs(guess**2 - x) >= epsilon:\n",
    "    guess += increment\n",
    "    num_guesses +=1\n",
    "\n",
    "print(f'num_guesses = {num_guesses}')\n",
    "print(f'{guess} is close to square root of {x}')"
   ]
  },
  {
   "cell_type": "code",
   "execution_count": 16,
   "id": "dd07c0a5-ae09-4231-b901-78d90ea8f9bc",
   "metadata": {},
   "outputs": [
    {
     "name": "stdout",
     "output_type": "stream",
     "text": [
      "current guess = 9.999999999990033\n",
      "current guess**2 - x = 54221.0000000002\n",
      "current guess = 19.99999999996673\n",
      "current guess**2 - x = 53921.00000000133\n",
      "current guess = 29.999999999943423\n",
      "current guess**2 - x = 53421.0000000034\n",
      "current guess = 40.00000000020433\n",
      "current guess**2 - x = 52720.99999998365\n",
      "current guess = 50.000000000536296\n",
      "current guess**2 - x = 51820.99999994637\n",
      "current guess = 60.00000000086826\n",
      "current guess**2 - x = 50720.99999989581\n",
      "current guess = 70.00000000120022\n",
      "current guess**2 - x = 49420.99999983197\n",
      "current guess = 80.00000000153219\n",
      "current guess**2 - x = 47920.99999975485\n",
      "current guess = 90.00000000186415\n",
      "current guess**2 - x = 46220.999999664455\n",
      "current guess = 100.00000000219612\n",
      "current guess**2 - x = 44320.99999956078\n"
     ]
    },
    {
     "name": "stdin",
     "output_type": "stream",
     "text": [
      "continue? \n"
     ]
    },
    {
     "name": "stdout",
     "output_type": "stream",
     "text": [
      "current guess = 110.00000000252808\n",
      "current guess**2 - x = 42220.999999443826\n",
      "current guess = 120.00000000286005\n",
      "current guess**2 - x = 39920.999999313586\n",
      "current guess = 130.000000003192\n",
      "current guess**2 - x = 37420.999999170075\n",
      "current guess = 140.00000000352398\n",
      "current guess**2 - x = 34720.999999013286\n",
      "current guess = 150.00000000385594\n",
      "current guess**2 - x = 31820.999998843217\n",
      "current guess = 160.0000000041879\n",
      "current guess**2 - x = 28720.999998659867\n",
      "current guess = 170.00000000451988\n",
      "current guess**2 - x = 25420.99999846324\n",
      "current guess = 180.00000000485184\n",
      "current guess**2 - x = 21920.999998253337\n",
      "current guess = 190.0000000051838\n",
      "current guess**2 - x = 18220.99999803015\n",
      "current guess = 200.00000000551577\n",
      "current guess**2 - x = 14320.99999779369\n"
     ]
    },
    {
     "name": "stdin",
     "output_type": "stream",
     "text": [
      "continue? \n"
     ]
    },
    {
     "name": "stdout",
     "output_type": "stream",
     "text": [
      "current guess = 210.00000000584774\n",
      "current guess**2 - x = 10220.99999754395\n",
      "current guess = 220.0000000061797\n",
      "current guess**2 - x = 5920.999997280931\n",
      "current guess = 230.00000000651167\n",
      "current guess**2 - x = 1420.9999970046338\n",
      "current guess = 240.00000000684363\n",
      "current guess**2 - x = 3279.000003284942\n",
      "current guess = 250.0000000071756\n",
      "current guess**2 - x = 8179.000003587804\n",
      "current guess = 260.00000000637067\n",
      "current guess**2 - x = 13279.000003312744\n",
      "current guess = 270.00000000386046\n",
      "current guess**2 - x = 18579.00000208465\n",
      "current guess = 280.00000000135026\n",
      "current guess**2 - x = 24079.000000756147\n",
      "current guess = 289.99999999884005\n",
      "current guess**2 - x = 29778.999999327236\n",
      "current guess = 299.99999999632985\n",
      "current guess**2 - x = 35678.9999977979\n"
     ]
    },
    {
     "ename": "KeyboardInterrupt",
     "evalue": "Interrupted by user",
     "output_type": "error",
     "traceback": [
      "\u001b[1;31m---------------------------------------------------------------------------\u001b[0m",
      "\u001b[1;31mKeyboardInterrupt\u001b[0m                         Traceback (most recent call last)",
      "Cell \u001b[1;32mIn[16], line 13\u001b[0m\n\u001b[0;32m     11\u001b[0m         \u001b[38;5;28mprint\u001b[39m(\u001b[38;5;124mf\u001b[39m\u001b[38;5;124m'\u001b[39m\u001b[38;5;124mcurrent guess**2 - x = \u001b[39m\u001b[38;5;132;01m{\u001b[39;00m\u001b[38;5;28mabs\u001b[39m(guess\u001b[38;5;241m*\u001b[39mguess\u001b[38;5;250m \u001b[39m\u001b[38;5;241m-\u001b[39m\u001b[38;5;250m \u001b[39mx)\u001b[38;5;132;01m}\u001b[39;00m\u001b[38;5;124m'\u001b[39m)\n\u001b[0;32m     12\u001b[0m     \u001b[38;5;28;01mif\u001b[39;00m num_guesses\u001b[38;5;241m%\u001b[39m\u001b[38;5;241m1000000\u001b[39m \u001b[38;5;241m==\u001b[39m \u001b[38;5;241m0\u001b[39m:\n\u001b[1;32m---> 13\u001b[0m         \u001b[38;5;28;43minput\u001b[39;49m\u001b[43m(\u001b[49m\u001b[38;5;124;43m'\u001b[39;49m\u001b[38;5;124;43mcontinue?\u001b[39;49m\u001b[38;5;124;43m'\u001b[39;49m\u001b[43m)\u001b[49m\n\u001b[0;32m     14\u001b[0m \u001b[38;5;28mprint\u001b[39m(\u001b[38;5;124mf\u001b[39m\u001b[38;5;124m'\u001b[39m\u001b[38;5;124mnum_guesses = \u001b[39m\u001b[38;5;132;01m{\u001b[39;00mnum_guesses\u001b[38;5;132;01m}\u001b[39;00m\u001b[38;5;124m'\u001b[39m)\n\u001b[0;32m     15\u001b[0m \u001b[38;5;28mprint\u001b[39m(\u001b[38;5;124mf\u001b[39m\u001b[38;5;124m'\u001b[39m\u001b[38;5;132;01m{\u001b[39;00mguess\u001b[38;5;132;01m}\u001b[39;00m\u001b[38;5;124m is close to square root of \u001b[39m\u001b[38;5;132;01m{\u001b[39;00mx\u001b[38;5;132;01m}\u001b[39;00m\u001b[38;5;124m'\u001b[39m)\n",
      "File \u001b[1;32m~\\AppData\\Roaming\\Python\\Python312\\site-packages\\ipykernel\\kernelbase.py:1282\u001b[0m, in \u001b[0;36mKernel.raw_input\u001b[1;34m(self, prompt)\u001b[0m\n\u001b[0;32m   1280\u001b[0m     msg \u001b[38;5;241m=\u001b[39m \u001b[38;5;124m\"\u001b[39m\u001b[38;5;124mraw_input was called, but this frontend does not support input requests.\u001b[39m\u001b[38;5;124m\"\u001b[39m\n\u001b[0;32m   1281\u001b[0m     \u001b[38;5;28;01mraise\u001b[39;00m StdinNotImplementedError(msg)\n\u001b[1;32m-> 1282\u001b[0m \u001b[38;5;28;01mreturn\u001b[39;00m \u001b[38;5;28;43mself\u001b[39;49m\u001b[38;5;241;43m.\u001b[39;49m\u001b[43m_input_request\u001b[49m\u001b[43m(\u001b[49m\n\u001b[0;32m   1283\u001b[0m \u001b[43m    \u001b[49m\u001b[38;5;28;43mstr\u001b[39;49m\u001b[43m(\u001b[49m\u001b[43mprompt\u001b[49m\u001b[43m)\u001b[49m\u001b[43m,\u001b[49m\n\u001b[0;32m   1284\u001b[0m \u001b[43m    \u001b[49m\u001b[38;5;28;43mself\u001b[39;49m\u001b[38;5;241;43m.\u001b[39;49m\u001b[43m_parent_ident\u001b[49m\u001b[43m[\u001b[49m\u001b[38;5;124;43m\"\u001b[39;49m\u001b[38;5;124;43mshell\u001b[39;49m\u001b[38;5;124;43m\"\u001b[39;49m\u001b[43m]\u001b[49m\u001b[43m,\u001b[49m\n\u001b[0;32m   1285\u001b[0m \u001b[43m    \u001b[49m\u001b[38;5;28;43mself\u001b[39;49m\u001b[38;5;241;43m.\u001b[39;49m\u001b[43mget_parent\u001b[49m\u001b[43m(\u001b[49m\u001b[38;5;124;43m\"\u001b[39;49m\u001b[38;5;124;43mshell\u001b[39;49m\u001b[38;5;124;43m\"\u001b[39;49m\u001b[43m)\u001b[49m\u001b[43m,\u001b[49m\n\u001b[0;32m   1286\u001b[0m \u001b[43m    \u001b[49m\u001b[43mpassword\u001b[49m\u001b[38;5;241;43m=\u001b[39;49m\u001b[38;5;28;43;01mFalse\u001b[39;49;00m\u001b[43m,\u001b[49m\n\u001b[0;32m   1287\u001b[0m \u001b[43m\u001b[49m\u001b[43m)\u001b[49m\n",
      "File \u001b[1;32m~\\AppData\\Roaming\\Python\\Python312\\site-packages\\ipykernel\\kernelbase.py:1325\u001b[0m, in \u001b[0;36mKernel._input_request\u001b[1;34m(self, prompt, ident, parent, password)\u001b[0m\n\u001b[0;32m   1322\u001b[0m \u001b[38;5;28;01mexcept\u001b[39;00m \u001b[38;5;167;01mKeyboardInterrupt\u001b[39;00m:\n\u001b[0;32m   1323\u001b[0m     \u001b[38;5;66;03m# re-raise KeyboardInterrupt, to truncate traceback\u001b[39;00m\n\u001b[0;32m   1324\u001b[0m     msg \u001b[38;5;241m=\u001b[39m \u001b[38;5;124m\"\u001b[39m\u001b[38;5;124mInterrupted by user\u001b[39m\u001b[38;5;124m\"\u001b[39m\n\u001b[1;32m-> 1325\u001b[0m     \u001b[38;5;28;01mraise\u001b[39;00m \u001b[38;5;167;01mKeyboardInterrupt\u001b[39;00m(msg) \u001b[38;5;28;01mfrom\u001b[39;00m \u001b[38;5;28;01mNone\u001b[39;00m\n\u001b[0;32m   1326\u001b[0m \u001b[38;5;28;01mexcept\u001b[39;00m \u001b[38;5;167;01mException\u001b[39;00m:\n\u001b[0;32m   1327\u001b[0m     \u001b[38;5;28mself\u001b[39m\u001b[38;5;241m.\u001b[39mlog\u001b[38;5;241m.\u001b[39mwarning(\u001b[38;5;124m\"\u001b[39m\u001b[38;5;124mInvalid Message:\u001b[39m\u001b[38;5;124m\"\u001b[39m, exc_info\u001b[38;5;241m=\u001b[39m\u001b[38;5;28;01mTrue\u001b[39;00m)\n",
      "\u001b[1;31mKeyboardInterrupt\u001b[0m: Interrupted by user"
     ]
    },
    {
     "name": "stdin",
     "output_type": "stream",
     "text": [
      "continue? \n"
     ]
    }
   ],
   "source": [
    "x = 54321\n",
    "epsilon = 0.01\n",
    "num_guesses = 0\n",
    "guess = 0.0\n",
    "increment = 0.0001\n",
    "while abs(guess**2 - x) >= epsilon:\n",
    "    guess += increment\n",
    "    num_guesses +=1\n",
    "    if num_guesses%100000 == 0:\n",
    "        print(f'current guess = {guess}')\n",
    "        print(f'current guess**2 - x = {abs(guess*guess - x)}')\n",
    "    if num_guesses%1000000 == 0:\n",
    "        input('continue?')\n",
    "print(f'num_guesses = {num_guesses}')\n",
    "print(f'{guess} is close to square root of {x}')"
   ]
  },
  {
   "cell_type": "code",
   "execution_count": 18,
   "id": "722547de-9032-4fdc-93b1-862f4e1c11b8",
   "metadata": {},
   "outputs": [
    {
     "name": "stdout",
     "output_type": "stream",
     "text": [
      "num_guesses = 2330687\n",
      "Failed on square root of 54321\n",
      "Last guess was 233.06870000661354\n",
      "Last guess squared is 54321.01892277282\n"
     ]
    }
   ],
   "source": [
    "# an extra stopping condition \n",
    "x = 54321\n",
    "epsilon = 0.01\n",
    "num_guesses = 0\n",
    "guess = 0.0\n",
    "increment = 0.0001  \n",
    "while abs(guess**2 - x) >= epsilon and guess**2 <= x:\n",
    "     guess += increment\n",
    "     num_guesses += 1\n",
    "print(f'num_guesses = {num_guesses}')\n",
    "if abs(guess**2 - x) >= epsilon:\n",
    "     print(f'Failed on square root of {x}')\n",
    "     print(f'Last guess was {guess}')\n",
    "     print(f'Last guess squared is {guess*guess}')\n",
    "else:\n",
    "     print(f'{guess} is close to square root of {x}')"
   ]
  },
  {
   "cell_type": "code",
   "execution_count": null,
   "id": "73ff2234-4728-4c92-ada0-641bf4dcdc58",
   "metadata": {},
   "outputs": [],
   "source": []
  }
 ],
 "metadata": {
  "kernelspec": {
   "display_name": "Python 3 (ipykernel)",
   "language": "python",
   "name": "python3"
  },
  "language_info": {
   "codemirror_mode": {
    "name": "ipython",
    "version": 3
   },
   "file_extension": ".py",
   "mimetype": "text/x-python",
   "name": "python",
   "nbconvert_exporter": "python",
   "pygments_lexer": "ipython3",
   "version": "3.12.7"
  }
 },
 "nbformat": 4,
 "nbformat_minor": 5
}
