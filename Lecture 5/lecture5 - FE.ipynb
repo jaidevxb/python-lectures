{
 "cells": [
  {
   "cell_type": "code",
   "execution_count": 5,
   "id": "66457bf8-8adc-4fb6-bcad-9921376ea628",
   "metadata": {},
   "outputs": [
    {
     "name": "stdout",
     "output_type": "stream",
     "text": [
      "aceg\n"
     ]
    }
   ],
   "source": [
    "my_str = \"abcdefg\"\n",
    "new_str = ''\n",
    "for i in range(len(my_str)):\n",
    "    if i%2 == 0:\n",
    "        new_str += my_str[i]\n",
    "print(new_str)"
   ]
  },
  {
   "cell_type": "code",
   "execution_count": 6,
   "id": "ad49769c-a723-407c-abb0-5f07f8aabb6e",
   "metadata": {},
   "outputs": [
    {
     "name": "stdout",
     "output_type": "stream",
     "text": [
      "acegaceg\n"
     ]
    }
   ],
   "source": [
    "my_str = \"abcdefg\"\n",
    "for i in range(0,len(my_str),2):\n",
    "        new_str += my_str[i]\n",
    "print(new_str)"
   ]
  },
  {
   "cell_type": "code",
   "execution_count": null,
   "id": "831e4c75-7c24-4884-b0bc-2a418901720f",
   "metadata": {},
   "outputs": [],
   "source": []
  }
 ],
 "metadata": {
  "kernelspec": {
   "display_name": "Python 3 (ipykernel)",
   "language": "python",
   "name": "python3"
  },
  "language_info": {
   "codemirror_mode": {
    "name": "ipython",
    "version": 3
   },
   "file_extension": ".py",
   "mimetype": "text/x-python",
   "name": "python",
   "nbconvert_exporter": "python",
   "pygments_lexer": "ipython3",
   "version": "3.12.7"
  }
 },
 "nbformat": 4,
 "nbformat_minor": 5
}
