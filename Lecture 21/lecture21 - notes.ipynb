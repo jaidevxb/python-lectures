{
 "cells": [
  {
   "cell_type": "code",
   "execution_count": 8,
   "id": "d04daae0-e1ee-42fb-a12c-b2b08ef0a18a",
   "metadata": {},
   "outputs": [
    {
     "name": "stdout",
     "output_type": "stream",
     "text": [
      "102.3\n",
      "0.001005411148071289 s\n"
     ]
    }
   ],
   "source": [
    "import time\n",
    "def c_to_f(c):\n",
    "    return c*9.5/5 + 32\n",
    "\n",
    "def mysum(n):\n",
    "    tot = 0\n",
    "    for i in range(n + 1):\n",
    "        tot += i\n",
    "    return tot\n",
    "\n",
    "def squareno(n):\n",
    "    sq = 0\n",
    "    for i in range(n):\n",
    "        for j in range(n):\n",
    "            sq += j\n",
    "    return sq\n",
    "\n",
    "t = time.time()\n",
    "print(c_to_f(37))\n",
    "dt = time.time() - t\n",
    "print(dt, 's')"
   ]
  },
  {
   "cell_type": "code",
   "execution_count": 9,
   "id": "7930c451-0db7-45e5-875a-6d954d521a24",
   "metadata": {},
   "outputs": [
    {
     "name": "stdout",
     "output_type": "stream",
     "text": [
      "Timing mysum\n",
      "mysum(1) took 0.0 secs\n",
      "mysum(10) took 0.0 secs\n",
      "mysum(100) took 0.0 secs\n",
      "mysum(1000) took 0.0 secs\n",
      "mysum(10000) took 0.0010018348693847656 secs\n",
      "mysum(100000) took 0.00899958610534668 secs\n",
      "mysum(1000000) took 0.11899542808532715 secs\n",
      "mysum(10000000) took 1.0636441707611084 secs\n",
      "mysum(100000000) took 10.915006399154663 secs\n"
     ]
    }
   ],
   "source": [
    "import time\n",
    "def c_to_f(c):\n",
    "    return c*9.5/5 + 32\n",
    "\n",
    "def mysum(n):\n",
    "    tot = 0\n",
    "    for i in range(n + 1):\n",
    "        tot += i\n",
    "    return tot\n",
    "\n",
    "def squareno(n):\n",
    "    sq = 0\n",
    "    for i in range(n):\n",
    "        for j in range(n):\n",
    "            sq += j\n",
    "    return sq\n",
    "\n",
    "def time_wrap(f, L):\n",
    "    print(\"Timing\", f.__name__)\n",
    "    for i in L:\n",
    "        t = time.time()\n",
    "        f(i)\n",
    "        dt = time.time() - t\n",
    "        print(f\"{f.__name__}({i}) took {dt} secs\")\n",
    "\n",
    "L = [1]\n",
    "for i in range(8):\n",
    "        L.append(L[-1] * 10)\n",
    "\n",
    "time_wrap(mysum, L)"
   ]
  },
  {
   "cell_type": "code",
   "execution_count": 17,
   "id": "0176e0dd-bcc8-4754-9214-ffccebdabce4",
   "metadata": {},
   "outputs": [
    {
     "name": "stdout",
     "output_type": "stream",
     "text": [
      "Counting c_to_f\n",
      "c_to_f(100): 3 ops, 1.0 x more\n",
      "c_to_f(1000): 3 ops, 1.0 x more\n",
      "c_to_f(10000): 3 ops, 1.0 x more\n",
      "c_to_f(100000): 3 ops, 1.0 x more\n",
      "c_to_f(1000000): 3 ops, 1.0 x more\n",
      "c_to_f(10000000): 3 ops, 1.0 x more\n",
      "Counting mysum\n",
      "mysum(100): 304 ops, 1.0 x more\n",
      "mysum(1000): 3004 ops, 9.88158 x more\n",
      "mysum(10000): 30004 ops, 9.98802 x more\n",
      "mysum(100000): 300004 ops, 9.9988 x more\n",
      "mysum(1000000): 3000004 ops, 9.99988 x more\n",
      "mysum(10000000): 30000004 ops, 9.99999 x more\n",
      "Counting squareno\n",
      "squareno(128): 49153 ops, 1.0 x more\n",
      "squareno(256): 196609 ops, 3.99994 x more\n",
      "squareno(512): 786433 ops, 3.99998 x more\n",
      "squareno(1024): 3145729 ops, 4.0 x more\n",
      "squareno(2048): 12582913 ops, 4.0 x more\n",
      "squareno(4096): 50331649 ops, 4.0 x more\n",
      "squareno(8192): 201326593 ops, 4.0 x more\n",
      "Counting squareno\n",
      "squareno(1): 4 ops, 1.0 x more\n",
      "squareno(10): 301 ops, 75.25 x more\n",
      "squareno(100): 30001 ops, 99.6711 x more\n",
      "squareno(1000): 3000001 ops, 99.9967 x more\n",
      "squareno(10000): 300000001 ops, 99.99997 x more\n"
     ]
    }
   ],
   "source": [
    "import time\n",
    "def c_to_f(c):\n",
    "    counter = 3\n",
    "    return (counter, c*9.5/5 + 32)\n",
    "\n",
    "def mysum(n):\n",
    "    counter = 1\n",
    "    tot = 0\n",
    "    for i in range(n + 1):\n",
    "        tot += i\n",
    "        counter += 3\n",
    "    return (counter, tot)\n",
    "\n",
    "def squareno(n):\n",
    "    counter = 1\n",
    "    sq = 0\n",
    "    for i in range(n):\n",
    "        for j in range(n):\n",
    "            sq += j\n",
    "            counter += 3\n",
    "    return (counter, sq)\n",
    "\n",
    "def count_wrapper(f, L):\n",
    "    print(\"Counting\", f.__name__)\n",
    "    for i in L:\n",
    "        counter = f(i)[0]\n",
    "        if i == min(L):\n",
    "            multi = 1.0\n",
    "        else:\n",
    "            multi = counter/float(prev)\n",
    "        prev = counter\n",
    "        print(f\"{f.__name__}({i}): {counter} ops, {round(multi,5)} x more\")\n",
    "\n",
    "L1 = [100]\n",
    "for i in range(5):\n",
    "    L1.append(L1[-1]*10)\n",
    "\n",
    "L2_a = [128, 256, 512, 1024, 2048, 4096, 8192]\n",
    "L2_b = [1, 10, 100, 1000, 10000]\n",
    "count_wrapper(c_to_f, L1)\n",
    "count_wrapper(mysum, L1)\n",
    "count_wrapper(squareno, L2_a)\n",
    "count_wrapper(squareno, L2_b)"
   ]
  },
  {
   "cell_type": "code",
   "execution_count": null,
   "id": "485b8f9e-5219-4144-a172-3ea4053fed94",
   "metadata": {},
   "outputs": [],
   "source": []
  }
 ],
 "metadata": {
  "kernelspec": {
   "display_name": "Python 3 (ipykernel)",
   "language": "python",
   "name": "python3"
  },
  "language_info": {
   "codemirror_mode": {
    "name": "ipython",
    "version": 3
   },
   "file_extension": ".py",
   "mimetype": "text/x-python",
   "name": "python",
   "nbconvert_exporter": "python",
   "pygments_lexer": "ipython3",
   "version": "3.12.7"
  }
 },
 "nbformat": 4,
 "nbformat_minor": 5
}
