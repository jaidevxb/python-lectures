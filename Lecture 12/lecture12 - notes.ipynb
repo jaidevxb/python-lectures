{
 "cells": [
  {
   "cell_type": "markdown",
   "id": "3e257870-4e10-46b6-8dd5-152b47c39df2",
   "metadata": {},
   "source": [
    "List Comprehension"
   ]
  },
  {
   "cell_type": "code",
   "execution_count": 10,
   "id": "df7745a8-05f3-4bc5-9ee4-8487ec93d8bc",
   "metadata": {},
   "outputs": [
    {
     "name": "stdout",
     "output_type": "stream",
     "text": [
      "[1, 4, 9, 16]\n"
     ]
    }
   ],
   "source": [
    "def f(L):\n",
    "    Lnew = []\n",
    "    for e in L:\n",
    "        Lnew.append(e**2)\n",
    "    return Lnew\n",
    "L = [1, 2, 3, 4]\n",
    "Lnew = f(L)\n",
    "print(Lnew)"
   ]
  },
  {
   "cell_type": "code",
   "execution_count": 11,
   "id": "cb14d0e1-3f84-4a81-84b9-4c4eb49b7a85",
   "metadata": {},
   "outputs": [
    {
     "data": {
      "text/plain": [
       "[1, 4, 9, 16, 25, 36, 49, 64]"
      ]
     },
     "execution_count": 11,
     "metadata": {},
     "output_type": "execute_result"
    }
   ],
   "source": [
    "# list comprehension\n",
    "# [expression for elem in iterable if test]\n",
    "L = [1, 2, 3, 4, 5, 6, 7, 8]\n",
    "Lnew = [e**2 for e in L]\n",
    "Lnew"
   ]
  },
  {
   "cell_type": "code",
   "execution_count": 12,
   "id": "9f8414cb-26c8-4ee3-b629-34390de74c55",
   "metadata": {},
   "outputs": [
    {
     "name": "stdout",
     "output_type": "stream",
     "text": [
      "[4, 16, 36, 64]\n"
     ]
    }
   ],
   "source": [
    "def f(L):\n",
    "    Lnew = []\n",
    "    for e in L:\n",
    "        if e % 2 == 0:\n",
    "            Lnew.append(e**2)\n",
    "    return Lnew\n",
    "L = [1, 2, 3, 4, 5, 6, 7, 8]\n",
    "Lnew = f(L)\n",
    "print(Lnew)"
   ]
  },
  {
   "cell_type": "code",
   "execution_count": 13,
   "id": "57da04c1-8238-4b51-8526-be7647133c0f",
   "metadata": {},
   "outputs": [
    {
     "data": {
      "text/plain": [
       "[4, 16, 36, 64]"
      ]
     },
     "execution_count": 13,
     "metadata": {},
     "output_type": "execute_result"
    }
   ],
   "source": [
    "L = [1, 2, 3, 4, 5, 6, 7, 8]\n",
    "Lnew = [e**2 for e in L if e%2 == 0]\n",
    "Lnew"
   ]
  },
  {
   "cell_type": "code",
   "execution_count": 15,
   "id": "46b43424-5d5d-40aa-ba60-8aa5a923768a",
   "metadata": {},
   "outputs": [
    {
     "name": "stdout",
     "output_type": "stream",
     "text": [
      "[4, 16, 36, 64]\n"
     ]
    }
   ],
   "source": [
    "Lnew = [e**2 for e in range(1, 9) if e%2 == 0]\n",
    "print(Lnew)"
   ]
  },
  {
   "cell_type": "code",
   "execution_count": 16,
   "id": "21716a03-38b7-4b18-9ef0-93acadf3ca25",
   "metadata": {},
   "outputs": [
    {
     "data": {
      "text/plain": [
       "[[0, 0], [1, 1], [2, 4], [3, 9]]"
      ]
     },
     "execution_count": 16,
     "metadata": {},
     "output_type": "execute_result"
    }
   ],
   "source": [
    "Lnew = [[e, e**2] for e in range(4)]\n",
    "Lnew"
   ]
  },
  {
   "cell_type": "code",
   "execution_count": 18,
   "id": "c78de5f2-f245-4708-a576-cae5224fcd0f",
   "metadata": {},
   "outputs": [
    {
     "data": {
      "text/plain": [
       "[2, 4, 3]"
      ]
     },
     "execution_count": 18,
     "metadata": {},
     "output_type": "execute_result"
    }
   ],
   "source": [
    "# try it\n",
    "Lnew = [len(x) for x in ['xy', 'abcd', 10, '4.0'] if type(x) == str]\n",
    "Lnew"
   ]
  },
  {
   "cell_type": "markdown",
   "id": "1cd84f00-98f7-4272-95b8-ca2c1c531778",
   "metadata": {},
   "source": [
    "Default Parameters aka keyword parameter"
   ]
  },
  {
   "cell_type": "code",
   "execution_count": 24,
   "id": "e7698e84-b837-4ffc-afd6-8e5b04c0a52a",
   "metadata": {},
   "outputs": [
    {
     "name": "stdout",
     "output_type": "stream",
     "text": [
      "4.9990234375\n",
      "4.0029296875\n"
     ]
    }
   ],
   "source": [
    "def square_root(x, epsilon = 0.01): # default parameter is always towards right end\n",
    "    \"\"\"\n",
    "    Finds square root by using bisection search method\n",
    "    Input x is an integer\n",
    "    epsilon has default value of 0.01 and can be changed\n",
    "    Returns square root of the x\n",
    "    \"\"\"\n",
    "    n = 0\n",
    "    if x >= 1:\n",
    "        low = 1\n",
    "        high = x\n",
    "    else:\n",
    "        low = x\n",
    "        high = 1\n",
    "    guess = (low + high) / 2\n",
    "    while abs(guess ** 2 - x) >= epsilon:\n",
    "        if guess ** 2 < x:\n",
    "            low = guess\n",
    "        else:\n",
    "            high = guess\n",
    "        guess = (low + high) / 2\n",
    "        n += 1\n",
    "    return guess\n",
    "\n",
    "print(square_root(25))\n",
    "print(square_root(16, 0.04))"
   ]
  },
  {
   "cell_type": "markdown",
   "id": "ea5e0243-35b7-4cb7-802e-9ca7f5904b1c",
   "metadata": {},
   "source": [
    "Function returning function"
   ]
  },
  {
   "cell_type": "code",
   "execution_count": 33,
   "id": "81019910-3bc1-4ae3-b472-9b61c0d9e0df",
   "metadata": {},
   "outputs": [
    {
     "name": "stdout",
     "output_type": "stream",
     "text": [
      "200\n",
      "20\n"
     ]
    }
   ],
   "source": [
    "def prod(a):\n",
    "    def g(b):\n",
    "        return a*b\n",
    "    return g\n",
    "\n",
    "print(prod(10)(20)) # prod(10) returns the function g(b) with a captured as 10\n",
    "# Then (20) calls g(20), so it's 10 * 20 → 200\n",
    "\n",
    "val = prod(10) # val is function g(b), with a = 10\n",
    "double = val(2) # double = 10 * 2 = 20\n",
    "print(double)"
   ]
  },
  {
   "cell_type": "markdown",
   "id": "1721250d-81f4-4d50-b0b6-a9c51c79b8ad",
   "metadata": {},
   "source": [
    "Testing and Debugging"
   ]
  },
  {
   "cell_type": "code",
   "execution_count": 35,
   "id": "3de6f68e-c043-4199-85d8-20f065e908f6",
   "metadata": {},
   "outputs": [
    {
     "name": "stdout",
     "output_type": "stream",
     "text": [
      "True\n",
      "True\n"
     ]
    }
   ],
   "source": [
    "def is_pal(x):\n",
    "    temp = x\n",
    "    temp.reverse\n",
    "    if temp == x:\n",
    "        return True\n",
    "    else:\n",
    "        return False\n",
    "print(is_pal(list('abcba')))\n",
    "print(is_pal(list('ab')))"
   ]
  },
  {
   "cell_type": "code",
   "execution_count": 38,
   "id": "6aee3785-703c-4fcb-957b-190e1f9169a5",
   "metadata": {},
   "outputs": [
    {
     "name": "stdout",
     "output_type": "stream",
     "text": [
      "['a', 'b'] ['a', 'b']\n",
      "True\n"
     ]
    }
   ],
   "source": [
    "# step 1 use print statements \n",
    "def is_pal(x):\n",
    "    temp = x\n",
    "    temp.reverse\n",
    "    print(x, temp)\n",
    "    if temp == x:\n",
    "        return True\n",
    "    else:\n",
    "        return False\n",
    "# print(is_pal(list('abcba')))\n",
    "print(is_pal(list('ab')))"
   ]
  },
  {
   "cell_type": "code",
   "execution_count": 42,
   "id": "6e8467ab-8b3e-4b4b-935d-c4df81de7cd8",
   "metadata": {},
   "outputs": [
    {
     "name": "stdout",
     "output_type": "stream",
     "text": [
      "before reverse: ['a', 'b'] ['a', 'b']\n",
      "after reverse: ['b', 'a'] ['b', 'a']\n",
      "True\n"
     ]
    }
   ],
   "source": [
    "def is_pal(x):\n",
    "    temp = x\n",
    "    print(\"before reverse:\",x, temp)\n",
    "    temp.reverse() \n",
    "    print(\"after reverse:\",x, temp)\n",
    "    if temp == x:\n",
    "        return True\n",
    "    else:\n",
    "        return False\n",
    "# print(is_pal(list('abcba')))\n",
    "print(is_pal(list('ab')))"
   ]
  },
  {
   "cell_type": "code",
   "execution_count": 43,
   "id": "28cf5ccb-88ce-4b8a-807f-5926183db1c3",
   "metadata": {},
   "outputs": [
    {
     "name": "stdout",
     "output_type": "stream",
     "text": [
      "before reverse: ['a', 'b'] ['a', 'b']\n",
      "after reverse: ['a', 'b'] ['b', 'a']\n",
      "False\n"
     ]
    }
   ],
   "source": [
    "def is_pal(x):\n",
    "    temp = x[:]\n",
    "    print(\"before reverse:\",x, temp)\n",
    "    temp.reverse() \n",
    "    print(\"after reverse:\",x, temp)\n",
    "    if temp == x:\n",
    "        return True\n",
    "    else:\n",
    "        return False\n",
    "# print(is_pal(list('abcba')))\n",
    "print(is_pal(list('ab')))"
   ]
  },
  {
   "cell_type": "code",
   "execution_count": null,
   "id": "07b47208-ab00-407b-a1be-7385ea5c96cd",
   "metadata": {},
   "outputs": [],
   "source": []
  }
 ],
 "metadata": {
  "kernelspec": {
   "display_name": "Python 3 (ipykernel)",
   "language": "python",
   "name": "python3"
  },
  "language_info": {
   "codemirror_mode": {
    "name": "ipython",
    "version": 3
   },
   "file_extension": ".py",
   "mimetype": "text/x-python",
   "name": "python",
   "nbconvert_exporter": "python",
   "pygments_lexer": "ipython3",
   "version": "3.12.7"
  }
 },
 "nbformat": 4,
 "nbformat_minor": 5
}
