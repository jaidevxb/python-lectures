{
 "cells": [
  {
   "cell_type": "markdown",
   "id": "6d11ff1c-d71b-4e8c-8d77-38d6542251c4",
   "metadata": {},
   "source": [
    "### Finger Exercise Lecture 12\n",
    "Implement the function that meets the specifications below:"
   ]
  },
  {
   "cell_type": "code",
   "execution_count": 5,
   "id": "585ddae4-dd35-4932-b421-8ab58579f6f6",
   "metadata": {},
   "outputs": [
    {
     "name": "stdout",
     "output_type": "stream",
     "text": [
      "3\n"
     ]
    }
   ],
   "source": [
    "def count_sqrts(nums_list):\n",
    "    \"\"\"\n",
    "    nums_list: a list\n",
    "    Assumes that nums_list only contains positive numbers and that there are no duplicates.\n",
    "    Returns how many elements in nums_list are exact squares of elements in the same list, including itself.\n",
    "    \"\"\"\n",
    "    # Your code here\n",
    "    count = 0\n",
    "    for e in nums_list:\n",
    "        if e**2 in nums_list:\n",
    "            count += 1\n",
    "    return count\n",
    "\n",
    "# Examples:    \n",
    "print(count_sqrts([3,4,2,1,9,25])) # prints 3"
   ]
  },
  {
   "cell_type": "code",
   "execution_count": 8,
   "id": "a2f97c37-a21c-47d4-aeca-739080b4f228",
   "metadata": {},
   "outputs": [
    {
     "name": "stdout",
     "output_type": "stream",
     "text": [
      "3\n"
     ]
    }
   ],
   "source": [
    "import math\n",
    "def count_sqrts(nums_list):\n",
    "    \"\"\"\n",
    "    nums_list: a list\n",
    "    Assumes that nums_list only contains positive numbers and that there are no duplicates.\n",
    "    Returns how many elements in nums_list are exact squares of elements in the same list, including itself.\n",
    "    \"\"\"\n",
    "    # Your code here\n",
    "    count = 0\n",
    "    for e in nums_list:\n",
    "        if math.sqrt(e) in nums_list:\n",
    "            count += 1\n",
    "    return count\n",
    "\n",
    "# Examples:    \n",
    "print(count_sqrts([3,4,2,1,9,25])) # prints 3"
   ]
  },
  {
   "cell_type": "code",
   "execution_count": null,
   "id": "c1dfed82-e7c9-4417-80cd-ce7a56cce002",
   "metadata": {},
   "outputs": [],
   "source": []
  }
 ],
 "metadata": {
  "kernelspec": {
   "display_name": "Python 3 (ipykernel)",
   "language": "python",
   "name": "python3"
  },
  "language_info": {
   "codemirror_mode": {
    "name": "ipython",
    "version": 3
   },
   "file_extension": ".py",
   "mimetype": "text/x-python",
   "name": "python",
   "nbconvert_exporter": "python",
   "pygments_lexer": "ipython3",
   "version": "3.12.7"
  }
 },
 "nbformat": 4,
 "nbformat_minor": 5
}
